{
 "cells": [
  {
   "cell_type": "markdown",
   "id": "killing-registration",
   "metadata": {},
   "source": [
    "# Import Packages"
   ]
  },
  {
   "cell_type": "code",
   "execution_count": 1,
   "id": "periodic-economics",
   "metadata": {
    "ExecuteTime": {
     "end_time": "2023-07-06T10:08:07.806431Z",
     "start_time": "2023-07-06T10:08:07.642758Z"
    }
   },
   "outputs": [
    {
     "name": "stdout",
     "output_type": "stream",
     "text": [
      "Thu Jul  6 18:08:07 2023       \r\n",
      "+-----------------------------------------------------------------------------+\r\n",
      "| NVIDIA-SMI 470.182.03   Driver Version: 470.182.03   CUDA Version: 11.4     |\r\n",
      "|-------------------------------+----------------------+----------------------+\r\n",
      "| GPU  Name        Persistence-M| Bus-Id        Disp.A | Volatile Uncorr. ECC |\r\n",
      "| Fan  Temp  Perf  Pwr:Usage/Cap|         Memory-Usage | GPU-Util  Compute M. |\r\n",
      "|                               |                      |               MIG M. |\r\n",
      "|===============================+======================+======================|\r\n",
      "|   0  NVIDIA GeForce ...  Off  | 00000000:02:00.0 Off |                  N/A |\r\n",
      "| 50%   52C    P2    50W / 260W |   2319MiB / 11019MiB |      4%      Default |\r\n",
      "|                               |                      |                  N/A |\r\n",
      "+-------------------------------+----------------------+----------------------+\r\n",
      "                                                                               \r\n",
      "+-----------------------------------------------------------------------------+\r\n",
      "| Processes:                                                                  |\r\n",
      "|  GPU   GI   CI        PID   Type   Process name                  GPU Memory |\r\n",
      "|        ID   ID                                                   Usage      |\r\n",
      "|=============================================================================|\r\n",
      "|    0   N/A  N/A      5063      C   ...onda3/envs/asc/bin/python      185MiB |\r\n",
      "|    0   N/A  N/A      6746      C   ...onda3/envs/asc/bin/python      185MiB |\r\n",
      "|    0   N/A  N/A     17372      C   ...onda3/envs/asc/bin/python     1575MiB |\r\n",
      "|    0   N/A  N/A     18063      C   ...onda3/envs/asc/bin/python      185MiB |\r\n",
      "|    0   N/A  N/A     18086      C   ...onda3/envs/asc/bin/python      185MiB |\r\n",
      "+-----------------------------------------------------------------------------+\r\n"
     ]
    }
   ],
   "source": [
    "!nvidia-smi"
   ]
  },
  {
   "cell_type": "code",
   "execution_count": 2,
   "id": "backed-queensland",
   "metadata": {
    "ExecuteTime": {
     "end_time": "2023-07-06T10:08:07.810016Z",
     "start_time": "2023-07-06T10:08:07.808103Z"
    }
   },
   "outputs": [],
   "source": [
    "# !pip install torchviz"
   ]
  },
  {
   "cell_type": "code",
   "execution_count": 3,
   "id": "legal-wright",
   "metadata": {
    "ExecuteTime": {
     "end_time": "2023-07-06T10:08:10.076048Z",
     "start_time": "2023-07-06T10:08:07.811188Z"
    }
   },
   "outputs": [
    {
     "name": "stderr",
     "output_type": "stream",
     "text": [
      "Matplotlib created a temporary config/cache directory at /tmp/matplotlib-vgz0bmlc because the default path (/home/emma/.config/matplotlib) is not a writable directory; it is highly recommended to set the MPLCONFIGDIR environment variable to a writable directory, in particular to speed up the import of Matplotlib and to better support multiprocessing.\n"
     ]
    }
   ],
   "source": [
    "import my_utils"
   ]
  },
  {
   "cell_type": "code",
   "execution_count": 4,
   "id": "threaded-scale",
   "metadata": {
    "ExecuteTime": {
     "end_time": "2023-07-06T10:08:10.083595Z",
     "start_time": "2023-07-06T10:08:10.080478Z"
    }
   },
   "outputs": [],
   "source": [
    "from tqdm import tqdm"
   ]
  },
  {
   "cell_type": "code",
   "execution_count": 5,
   "id": "fifteen-people",
   "metadata": {
    "ExecuteTime": {
     "end_time": "2023-07-06T10:08:10.307773Z",
     "start_time": "2023-07-06T10:08:10.084843Z"
    }
   },
   "outputs": [],
   "source": [
    "import numpy as np\n",
    "import pandas as pd\n",
    "import seaborn as sns"
   ]
  },
  {
   "cell_type": "code",
   "execution_count": 6,
   "id": "danish-hierarchy",
   "metadata": {
    "ExecuteTime": {
     "end_time": "2023-07-06T10:08:10.369013Z",
     "start_time": "2023-07-06T10:08:10.308864Z"
    }
   },
   "outputs": [],
   "source": [
    "import torch\n",
    "import torch.nn as nn\n",
    "import torch.nn.functional as F\n",
    "from torch.utils.data import DataLoader, Dataset"
   ]
  },
  {
   "cell_type": "code",
   "execution_count": 7,
   "id": "inner-ordinance",
   "metadata": {
    "ExecuteTime": {
     "end_time": "2023-07-06T10:08:10.434349Z",
     "start_time": "2023-07-06T10:08:10.371192Z"
    }
   },
   "outputs": [],
   "source": [
    "from transformers import BertTokenizer, BertModel\n",
    "from transformers import get_linear_schedule_with_warmup"
   ]
  },
  {
   "cell_type": "code",
   "execution_count": 8,
   "id": "expressed-balance",
   "metadata": {
    "ExecuteTime": {
     "end_time": "2023-07-06T10:08:10.492330Z",
     "start_time": "2023-07-06T10:08:10.435864Z"
    }
   },
   "outputs": [],
   "source": [
    "from sklearn.metrics import accuracy_score, precision_score, recall_score, f1_score"
   ]
  },
  {
   "cell_type": "code",
   "execution_count": 9,
   "id": "chicken-beginning",
   "metadata": {
    "ExecuteTime": {
     "end_time": "2023-07-06T10:08:10.553577Z",
     "start_time": "2023-07-06T10:08:10.493359Z"
    }
   },
   "outputs": [],
   "source": [
    "from torch.autograd import Function\n",
    "# from gradient_reversal import GradientReversal"
   ]
  },
  {
   "cell_type": "code",
   "execution_count": 10,
   "id": "fewer-resource",
   "metadata": {
    "ExecuteTime": {
     "end_time": "2023-07-06T10:08:10.616447Z",
     "start_time": "2023-07-06T10:08:10.554716Z"
    }
   },
   "outputs": [],
   "source": [
    "import warnings\n",
    "warnings.filterwarnings(\"ignore\")"
   ]
  },
  {
   "cell_type": "markdown",
   "id": "compatible-thanksgiving",
   "metadata": {},
   "source": [
    "# Global Variables"
   ]
  },
  {
   "cell_type": "code",
   "execution_count": 11,
   "id": "worse-mixer",
   "metadata": {
    "ExecuteTime": {
     "end_time": "2023-07-06T10:08:10.677347Z",
     "start_time": "2023-07-06T10:08:10.617510Z"
    }
   },
   "outputs": [],
   "source": [
    "## Global Variables\n",
    "\n",
    "# DEVICE: GPU\n",
    "DEVICE = torch.device(\"cuda\", 0)\n",
    "\n",
    "# DataFrame 檔案路徑\n",
    "SOURCE_DF_FILE_PATH = \"./data/train_split.csv\"\n",
    "TARGET_DF_FILE_PATH = \"./data/NTU_DATA_train_split.csv\"\n",
    "TEST_DF_FILE_PATH = \"./data/NTU_DATA_test_split.csv\"\n",
    "\n",
    "# BERT Embedding Tensor 儲存與載入的檔案路徑\n",
    "SOURCE_EMBEDDING_FILE_PATH = \"./data/train_embedding.pt\"\n",
    "TARGET_EMBEDDING_FILE_PATH = \"./data/NTU_DATA_train_embedding.pt\"\n",
    "TEST_EMBEDDING_FILE_PATH = \"./data/NTU_DATA_test_embedding.pt\"\n",
    "\n",
    "# Pretrained model path\n",
    "PRETRAINED_MODEL_PATH = \"./multitask_final_model.ckpt\"\n",
    "# PRETRAINED_MODEL_PATH = None\n",
    "\n",
    "# # BERT Tokenizer\n",
    "# TOKENIZER = BertTokenizer.from_pretrained(\"IDEA-CCNL/Erlangshen-Roberta-110M-Sentiment\")\n",
    "\n",
    "# # # BERT Model\n",
    "# BERT = BertModel.from_pretrained(\"IDEA-CCNL/Erlangshen-Roberta-110M-Sentiment\")\n",
    "# BERT.to(DEVICE)\n",
    "\n",
    "# Model Settings\n",
    "EPOCHS = 200  # 200\n",
    "########################\n",
    "LR_MODEL = 5e-6\n",
    "BATCH_SIZE = 128\n",
    "########################\n",
    "LABEL_COLUMN = \"Sentiment\"\n",
    "LABEL_MAPPING = {\"neutral\": 0, \"negative\": 1, \"positive\": 2}\n",
    "MAPPING = {'neutral': 0, 'negative': 1, 'positive': 2, \n",
    "           'apology': 0, 'quotation': 1, 'acknowledge': 2, \n",
    "           'thanking': 3, 'question': 4, 'disagreement': 5, \n",
    "           'greeting': 6, 'reject': 7, 'conventional-closing': 8, \n",
    "           'interjection': 9, 'agreement': 10, 'answer': 11, \n",
    "           'comfort': 12, 'command': 13, 'irony': 14, \n",
    "           'statement-non-opinion': 15, 'statement-opinion': 16, 'appreciation': 17, \n",
    "           'other': 18, 'low': 0.0, 'high': 1.0, '語者一': 0, '語者二': 1}\n",
    "########################"
   ]
  },
  {
   "cell_type": "code",
   "execution_count": 12,
   "id": "included-qualification",
   "metadata": {
    "ExecuteTime": {
     "end_time": "2023-07-06T10:08:10.799775Z",
     "start_time": "2023-07-06T10:08:10.678354Z"
    }
   },
   "outputs": [
    {
     "name": "stdout",
     "output_type": "stream",
     "text": [
      "**** The seed has been initialized ****\n"
     ]
    }
   ],
   "source": [
    "my_utils.set_seed()"
   ]
  },
  {
   "cell_type": "markdown",
   "id": "exceptional-stability",
   "metadata": {},
   "source": [
    "# Load Dataset"
   ]
  },
  {
   "cell_type": "code",
   "execution_count": 13,
   "id": "alpha-frame",
   "metadata": {
    "ExecuteTime": {
     "end_time": "2023-07-06T10:08:11.133454Z",
     "start_time": "2023-07-06T10:08:10.805677Z"
    }
   },
   "outputs": [
    {
     "name": "stdout",
     "output_type": "stream",
     "text": [
      "The shape of the Dataset: (94187, 18)\n",
      "The number of dialogues: 8086\n",
      "   TV_ID Dialogue_ID Utterance_ID Speaker  Gender          Age Neuroticism  \\\n",
      "0      1      01_000   01_000_000     童文洁  female  middle-aged        high   \n",
      "1      1      01_000   01_000_001     童文洁  female  middle-aged        high   \n",
      "2      1      01_000   01_000_002      刘静  female  middle-aged         low   \n",
      "3      1      01_000   01_000_003     童文洁  female  middle-aged        high   \n",
      "4      1      01_001   01_001_000      刘静  female  middle-aged         low   \n",
      "\n",
      "  Extraversion Openness Agreeableness Conscientiousness        Scene  \\\n",
      "0         high      low           low              high  other-venue   \n",
      "1         high      low           low              high  other-venue   \n",
      "2         high     high          high              high  other-venue   \n",
      "3         high      low           low              high  other-venue   \n",
      "4         high     high          high              high  other-venue   \n",
      "\n",
      "  FacePosition_LU FacePosition_RD Sentiment  Emotion        DA      Utterance  \n",
      "0         108_136         156_202   neutral  neutral  greeting             真巧  \n",
      "1         193_144         253_197   neutral  neutral  greeting           车没事了  \n",
      "2             0_0             0_0   neutral  neutral    answer  是你呀 没事了没事 谢谢你  \n",
      "3             0_0             0_0   neutral  neutral  question     没事没事 你也去春风  \n",
      "4             0_0             0_0   neutral  neutral    answer              对  \n",
      "======================================================================\n",
      "The shape of the Dataset: (8459, 11)\n",
      "The number of dialogues: 336\n",
      "     Dialogue_ID       Utterance_ID Speaker Neuroticism Extraversion Openness  \\\n",
      "0  dialogue-0000  dialogue-0000-000     語者一        high         high     high   \n",
      "1  dialogue-0000  dialogue-0000-001     語者一        high         high     high   \n",
      "2  dialogue-0000  dialogue-0000-002     語者二        high         high     high   \n",
      "3  dialogue-0000  dialogue-0000-003     語者二        high         high     high   \n",
      "4  dialogue-0000  dialogue-0000-004     語者一        high         high     high   \n",
      "\n",
      "  Agreeableness Conscientiousness Sentiment     DA              Utterance  \n",
      "0          high              high  negative  other  您好，不好意思系統這裡沒有查到您的訂位資訊  \n",
      "1          high              high   neutral  other   想請問您昨天是否有接到訂位確認的電話呢？  \n",
      "2          high              high   neutral  other            你好，我沒有接到電話欸  \n",
      "3          high              high   neutral  other  但我確定我上週有在 inline 上訂位呀  \n",
      "4          high              high   neutral  other       還是您有沒有可能是訂錯時間了呢？  \n",
      "======================================================================\n",
      "The shape of the Dataset: (2417, 11)\n",
      "The number of dialogues: 96\n",
      "     Dialogue_ID       Utterance_ID Speaker Neuroticism Extraversion Openness  \\\n",
      "0  dialogue-0006  dialogue-0006-000     語者一        high         high     high   \n",
      "1  dialogue-0006  dialogue-0006-001     語者一        high         high     high   \n",
      "2  dialogue-0006  dialogue-0006-002     語者二        high         high     high   \n",
      "3  dialogue-0006  dialogue-0006-003     語者二        high         high     high   \n",
      "4  dialogue-0006  dialogue-0006-004     語者一        high         high     high   \n",
      "\n",
      "  Agreeableness Conscientiousness Sentiment     DA    Utterance  \n",
      "0          high              high   neutral  other  欸欸下週旅行要怎麼去啊  \n",
      "1          high              high   neutral  other     要不要一起搭高鐵  \n",
      "2          high              high  negative  other     蛤可是高鐵很貴欸  \n",
      "3          high              high  negative  other        我最近好窮  \n",
      "4          high              high   neutral  other        有學生票啊  \n",
      "======================================================================\n"
     ]
    }
   ],
   "source": [
    "source_df = my_utils.load_df(SOURCE_DF_FILE_PATH)\n",
    "target_df = my_utils.load_df(TARGET_DF_FILE_PATH)\n",
    "test_df = my_utils.load_df(TEST_DF_FILE_PATH)"
   ]
  },
  {
   "cell_type": "markdown",
   "id": "organized-inclusion",
   "metadata": {},
   "source": [
    "# Generate Training Data"
   ]
  },
  {
   "cell_type": "code",
   "execution_count": 14,
   "id": "exact-topic",
   "metadata": {
    "ExecuteTime": {
     "end_time": "2023-07-06T10:08:33.962344Z",
     "start_time": "2023-07-06T10:08:11.156293Z"
    }
   },
   "outputs": [
    {
     "name": "stderr",
     "output_type": "stream",
     "text": [
      "100%|██████████| 8086/8086 [00:15<00:00, 508.46it/s]\n"
     ]
    },
    {
     "name": "stdout",
     "output_type": "stream",
     "text": [
      "The shape of the Dialogue DataFrame: (5124, 3)\n",
      "==================================================\n"
     ]
    },
    {
     "name": "stderr",
     "output_type": "stream",
     "text": [
      "100%|██████████| 336/336 [00:05<00:00, 64.16it/s] \n"
     ]
    },
    {
     "name": "stdout",
     "output_type": "stream",
     "text": [
      "The shape of the Dialogue DataFrame: (2452, 3)\n",
      "==================================================\n"
     ]
    },
    {
     "name": "stderr",
     "output_type": "stream",
     "text": [
      "100%|██████████| 96/96 [00:01<00:00, 65.10it/s]"
     ]
    },
    {
     "name": "stdout",
     "output_type": "stream",
     "text": [
      "The shape of the Dialogue DataFrame: (690, 3)\n",
      "==================================================\n"
     ]
    },
    {
     "name": "stderr",
     "output_type": "stream",
     "text": [
      "\n"
     ]
    }
   ],
   "source": [
    "source_df, _ = my_utils.get_dialogues_df(source_df, LABEL_COLUMN, MAPPING, MAPPING)\n",
    "target_df, _ = my_utils.get_dialogues_df(target_df, LABEL_COLUMN, MAPPING, MAPPING)\n",
    "test_df, _ = my_utils.get_dialogues_df(test_df, LABEL_COLUMN, MAPPING, MAPPING)"
   ]
  },
  {
   "cell_type": "code",
   "execution_count": 15,
   "id": "specified-harbor",
   "metadata": {
    "ExecuteTime": {
     "end_time": "2023-07-06T10:08:34.005270Z",
     "start_time": "2023-07-06T10:08:33.976608Z"
    }
   },
   "outputs": [
    {
     "data": {
      "text/html": [
       "<div>\n",
       "<style scoped>\n",
       "    .dataframe tbody tr th:only-of-type {\n",
       "        vertical-align: middle;\n",
       "    }\n",
       "\n",
       "    .dataframe tbody tr th {\n",
       "        vertical-align: top;\n",
       "    }\n",
       "\n",
       "    .dataframe thead th {\n",
       "        text-align: right;\n",
       "    }\n",
       "</style>\n",
       "<table border=\"1\" class=\"dataframe\">\n",
       "  <thead>\n",
       "    <tr style=\"text-align: right;\">\n",
       "      <th></th>\n",
       "      <th>context</th>\n",
       "      <th>labels</th>\n",
       "      <th>demo</th>\n",
       "    </tr>\n",
       "  </thead>\n",
       "  <tbody>\n",
       "    <tr>\n",
       "      <th>0</th>\n",
       "      <td>[語者一：原指望你好好学习能上去, 語者一：结果断崖式的下滑, 語者一：你对得起我吗, 語者...</td>\n",
       "      <td>{'main_label': 1, 'future_DA_label': 4, 'senti...</td>\n",
       "      <td>你为什么一点不随妈妈</td>\n",
       "    </tr>\n",
       "    <tr>\n",
       "      <th>1</th>\n",
       "      <td>[語者一：你把那一只烤鸭都吃了, 語者一：然后再多喝点鸭汤, 語者一：败败火, 語者一：然后...</td>\n",
       "      <td>{'main_label': 1, 'future_DA_label': 16, 'sent...</td>\n",
       "      <td>妈其实我都帮你记着</td>\n",
       "    </tr>\n",
       "    <tr>\n",
       "      <th>2</th>\n",
       "      <td>[語者一：他有北京户口吗, 語者二：你操这个心干什么, 語者二：该你操心的你不操心, 語者二...</td>\n",
       "      <td>{'main_label': 1, 'future_DA_label': 16, 'sent...</td>\n",
       "      <td>你早跟我说不就完了吗</td>\n",
       "    </tr>\n",
       "    <tr>\n",
       "      <th>3</th>\n",
       "      <td>[語者一：你操这个心干什么, 語者一：该你操心的你不操心, 語者一：不该你操心的你瞎操心, ...</td>\n",
       "      <td>{'main_label': 1, 'future_DA_label': 4, 'senti...</td>\n",
       "      <td>你问我了吗</td>\n",
       "    </tr>\n",
       "    <tr>\n",
       "      <th>4</th>\n",
       "      <td>[語者一：我们校领导班组昨天专门开会, 語者一：就这个问题也进行了上会讨论, 語者一：最后一...</td>\n",
       "      <td>{'main_label': 0, 'future_DA_label': 16, 'sent...</td>\n",
       "      <td>我知道你担心什么李老师</td>\n",
       "    </tr>\n",
       "  </tbody>\n",
       "</table>\n",
       "</div>"
      ],
      "text/plain": [
       "                                             context  \\\n",
       "0  [語者一：原指望你好好学习能上去, 語者一：结果断崖式的下滑, 語者一：你对得起我吗, 語者...   \n",
       "1  [語者一：你把那一只烤鸭都吃了, 語者一：然后再多喝点鸭汤, 語者一：败败火, 語者一：然后...   \n",
       "2  [語者一：他有北京户口吗, 語者二：你操这个心干什么, 語者二：该你操心的你不操心, 語者二...   \n",
       "3  [語者一：你操这个心干什么, 語者一：该你操心的你不操心, 語者一：不该你操心的你瞎操心, ...   \n",
       "4  [語者一：我们校领导班组昨天专门开会, 語者一：就这个问题也进行了上会讨论, 語者一：最后一...   \n",
       "\n",
       "                                              labels         demo  \n",
       "0  {'main_label': 1, 'future_DA_label': 4, 'senti...   你为什么一点不随妈妈  \n",
       "1  {'main_label': 1, 'future_DA_label': 16, 'sent...    妈其实我都帮你记着  \n",
       "2  {'main_label': 1, 'future_DA_label': 16, 'sent...   你早跟我说不就完了吗  \n",
       "3  {'main_label': 1, 'future_DA_label': 4, 'senti...        你问我了吗  \n",
       "4  {'main_label': 0, 'future_DA_label': 16, 'sent...  我知道你担心什么李老师  "
      ]
     },
     "execution_count": 15,
     "metadata": {},
     "output_type": "execute_result"
    }
   ],
   "source": [
    "source_df.head()"
   ]
  },
  {
   "cell_type": "code",
   "execution_count": 16,
   "id": "corporate-march",
   "metadata": {
    "ExecuteTime": {
     "end_time": "2023-07-06T10:08:34.071048Z",
     "start_time": "2023-07-06T10:08:34.006476Z"
    }
   },
   "outputs": [
    {
     "data": {
      "text/html": [
       "<div>\n",
       "<style scoped>\n",
       "    .dataframe tbody tr th:only-of-type {\n",
       "        vertical-align: middle;\n",
       "    }\n",
       "\n",
       "    .dataframe tbody tr th {\n",
       "        vertical-align: top;\n",
       "    }\n",
       "\n",
       "    .dataframe thead th {\n",
       "        text-align: right;\n",
       "    }\n",
       "</style>\n",
       "<table border=\"1\" class=\"dataframe\">\n",
       "  <thead>\n",
       "    <tr style=\"text-align: right;\">\n",
       "      <th></th>\n",
       "      <th>context</th>\n",
       "      <th>labels</th>\n",
       "      <th>demo</th>\n",
       "    </tr>\n",
       "  </thead>\n",
       "  <tbody>\n",
       "    <tr>\n",
       "      <th>0</th>\n",
       "      <td>[語者一：您好，不好意思系統這裡沒有查到您的訂位資訊, 語者一：想請問您昨天是否有接到訂位確...</td>\n",
       "      <td>{'main_label': 0, 'future_DA_label': 18, 'sent...</td>\n",
       "      <td>那應該是因為您沒有接到確認電話</td>\n",
       "    </tr>\n",
       "    <tr>\n",
       "      <th>1</th>\n",
       "      <td>[語者一：你好，我沒有接到電話欸, 語者一：但我確定我上週有在 inline 上訂位呀, 語...</td>\n",
       "      <td>{'main_label': 1, 'future_DA_label': 18, 'sent...</td>\n",
       "      <td>但我就只是剛好沒接到電話而已欸</td>\n",
       "    </tr>\n",
       "    <tr>\n",
       "      <th>2</th>\n",
       "      <td>[語者一：但我確定我上週有在 inline 上訂位呀, 語者二：還是您有沒有可能是訂錯時間了...</td>\n",
       "      <td>{'main_label': 1, 'future_DA_label': 18, 'sent...</td>\n",
       "      <td>不好意思，因為這是公司的規定，我們也沒辦法</td>\n",
       "    </tr>\n",
       "    <tr>\n",
       "      <th>3</th>\n",
       "      <td>[語者一：還是您有沒有可能是訂錯時間了呢？, 語者二：我確認一下, 語者二：好怪為啥網站上寫...</td>\n",
       "      <td>{'main_label': 0, 'future_DA_label': 18, 'sent...</td>\n",
       "      <td>那這樣現在現場還有座位嗎</td>\n",
       "    </tr>\n",
       "    <tr>\n",
       "      <th>4</th>\n",
       "      <td>[語者一：我確認一下, 語者一：好怪為啥網站上寫我的訂位被取消了, 語者一：但我訂的時間是現...</td>\n",
       "      <td>{'main_label': 0, 'future_DA_label': 18, 'sent...</td>\n",
       "      <td>目前現場候位都已經滿了哦</td>\n",
       "    </tr>\n",
       "  </tbody>\n",
       "</table>\n",
       "</div>"
      ],
      "text/plain": [
       "                                             context  \\\n",
       "0  [語者一：您好，不好意思系統這裡沒有查到您的訂位資訊, 語者一：想請問您昨天是否有接到訂位確...   \n",
       "1  [語者一：你好，我沒有接到電話欸, 語者一：但我確定我上週有在 inline 上訂位呀, 語...   \n",
       "2  [語者一：但我確定我上週有在 inline 上訂位呀, 語者二：還是您有沒有可能是訂錯時間了...   \n",
       "3  [語者一：還是您有沒有可能是訂錯時間了呢？, 語者二：我確認一下, 語者二：好怪為啥網站上寫...   \n",
       "4  [語者一：我確認一下, 語者一：好怪為啥網站上寫我的訂位被取消了, 語者一：但我訂的時間是現...   \n",
       "\n",
       "                                              labels                   demo  \n",
       "0  {'main_label': 0, 'future_DA_label': 18, 'sent...        那應該是因為您沒有接到確認電話  \n",
       "1  {'main_label': 1, 'future_DA_label': 18, 'sent...        但我就只是剛好沒接到電話而已欸  \n",
       "2  {'main_label': 1, 'future_DA_label': 18, 'sent...  不好意思，因為這是公司的規定，我們也沒辦法  \n",
       "3  {'main_label': 0, 'future_DA_label': 18, 'sent...           那這樣現在現場還有座位嗎  \n",
       "4  {'main_label': 0, 'future_DA_label': 18, 'sent...           目前現場候位都已經滿了哦  "
      ]
     },
     "execution_count": 16,
     "metadata": {},
     "output_type": "execute_result"
    }
   ],
   "source": [
    "target_df.head()"
   ]
  },
  {
   "cell_type": "code",
   "execution_count": 17,
   "id": "skilled-mongolia",
   "metadata": {
    "ExecuteTime": {
     "end_time": "2023-07-06T10:08:34.143251Z",
     "start_time": "2023-07-06T10:08:34.072544Z"
    }
   },
   "outputs": [
    {
     "data": {
      "text/html": [
       "<div>\n",
       "<style scoped>\n",
       "    .dataframe tbody tr th:only-of-type {\n",
       "        vertical-align: middle;\n",
       "    }\n",
       "\n",
       "    .dataframe tbody tr th {\n",
       "        vertical-align: top;\n",
       "    }\n",
       "\n",
       "    .dataframe thead th {\n",
       "        text-align: right;\n",
       "    }\n",
       "</style>\n",
       "<table border=\"1\" class=\"dataframe\">\n",
       "  <thead>\n",
       "    <tr style=\"text-align: right;\">\n",
       "      <th></th>\n",
       "      <th>context</th>\n",
       "      <th>labels</th>\n",
       "      <th>demo</th>\n",
       "    </tr>\n",
       "  </thead>\n",
       "  <tbody>\n",
       "    <tr>\n",
       "      <th>0</th>\n",
       "      <td>[語者一：欸欸下週旅行要怎麼去啊, 語者一：要不要一起搭高鐵, 語者二：蛤可是高鐵很貴欸, ...</td>\n",
       "      <td>{'main_label': 1, 'future_DA_label': 18, 'sent...</td>\n",
       "      <td>不要啦客運很久欸</td>\n",
       "    </tr>\n",
       "    <tr>\n",
       "      <th>1</th>\n",
       "      <td>[語者一：蛤可是高鐵很貴欸, 語者一：我最近好窮, 語者二：有學生票啊, 語者二：折很多吧,...</td>\n",
       "      <td>{'main_label': 1, 'future_DA_label': 18, 'sent...</td>\n",
       "      <td>但這樣好貴我不想花那麼多錢</td>\n",
       "    </tr>\n",
       "    <tr>\n",
       "      <th>2</th>\n",
       "      <td>[語者一：我最近好窮, 語者二：有學生票啊, 語者二：折很多吧, 語者一：也才85折而已還是...</td>\n",
       "      <td>{'main_label': 0, 'future_DA_label': 18, 'sent...</td>\n",
       "      <td>那不然我們搭早一點的</td>\n",
       "    </tr>\n",
       "    <tr>\n",
       "      <th>3</th>\n",
       "      <td>[語者一：也才85折而已還是好貴, 語者一：還是我們就搭客運啊, 語者二：不要啦客運很久欸,...</td>\n",
       "      <td>{'main_label': 0, 'future_DA_label': 18, 'sent...</td>\n",
       "      <td>好像也不是不行</td>\n",
       "    </tr>\n",
       "    <tr>\n",
       "      <th>4</th>\n",
       "      <td>[語者一：不要啦客運很久欸, 語者一：搭過去一天就都沒了, 語者二：但這樣好貴我不想花那麼多...</td>\n",
       "      <td>{'main_label': 0, 'future_DA_label': 18, 'sent...</td>\n",
       "      <td>好我看一下</td>\n",
       "    </tr>\n",
       "  </tbody>\n",
       "</table>\n",
       "</div>"
      ],
      "text/plain": [
       "                                             context  \\\n",
       "0  [語者一：欸欸下週旅行要怎麼去啊, 語者一：要不要一起搭高鐵, 語者二：蛤可是高鐵很貴欸, ...   \n",
       "1  [語者一：蛤可是高鐵很貴欸, 語者一：我最近好窮, 語者二：有學生票啊, 語者二：折很多吧,...   \n",
       "2  [語者一：我最近好窮, 語者二：有學生票啊, 語者二：折很多吧, 語者一：也才85折而已還是...   \n",
       "3  [語者一：也才85折而已還是好貴, 語者一：還是我們就搭客運啊, 語者二：不要啦客運很久欸,...   \n",
       "4  [語者一：不要啦客運很久欸, 語者一：搭過去一天就都沒了, 語者二：但這樣好貴我不想花那麼多...   \n",
       "\n",
       "                                              labels           demo  \n",
       "0  {'main_label': 1, 'future_DA_label': 18, 'sent...       不要啦客運很久欸  \n",
       "1  {'main_label': 1, 'future_DA_label': 18, 'sent...  但這樣好貴我不想花那麼多錢  \n",
       "2  {'main_label': 0, 'future_DA_label': 18, 'sent...     那不然我們搭早一點的  \n",
       "3  {'main_label': 0, 'future_DA_label': 18, 'sent...        好像也不是不行  \n",
       "4  {'main_label': 0, 'future_DA_label': 18, 'sent...          好我看一下  "
      ]
     },
     "execution_count": 17,
     "metadata": {},
     "output_type": "execute_result"
    }
   ],
   "source": [
    "test_df.head()"
   ]
  },
  {
   "cell_type": "code",
   "execution_count": 18,
   "id": "fifteen-whale",
   "metadata": {
    "ExecuteTime": {
     "end_time": "2023-07-06T10:08:34.202014Z",
     "start_time": "2023-07-06T10:08:34.147525Z"
    }
   },
   "outputs": [
    {
     "name": "stdout",
     "output_type": "stream",
     "text": [
      "8\n"
     ]
    }
   ],
   "source": [
    "# 確保所有文本長度一致\n",
    "print(min([len(x) for x in source_df.context]))\n",
    "assert min([len(x) for x in source_df.context]) == max([len(x) for x in source_df.context])"
   ]
  },
  {
   "cell_type": "code",
   "execution_count": 19,
   "id": "cultural-throw",
   "metadata": {
    "ExecuteTime": {
     "end_time": "2023-07-06T10:08:34.267182Z",
     "start_time": "2023-07-06T10:08:34.203159Z"
    }
   },
   "outputs": [
    {
     "name": "stdout",
     "output_type": "stream",
     "text": [
      "Source Data's Label Distribution:\n",
      "1    2862\n",
      "0    1436\n",
      "2     826\n",
      "Name: labels, dtype: int64\n",
      "===================================\n",
      "Test Data's Label Distribution:\n",
      "0    281\n",
      "1    253\n",
      "2    156\n",
      "Name: labels, dtype: int64\n",
      "===================================\n"
     ]
    }
   ],
   "source": [
    "print(\"Source Data's Label Distribution:\")\n",
    "print(source_df.labels.apply(lambda x: x[\"main_label\"]).value_counts())\n",
    "print(\"=\" * 35)\n",
    "print(\"Test Data's Label Distribution:\")\n",
    "print(test_df.labels.apply(lambda x: x[\"main_label\"]).value_counts())\n",
    "print(\"=\" * 35)"
   ]
  },
  {
   "cell_type": "code",
   "execution_count": 20,
   "id": "armed-retailer",
   "metadata": {
    "ExecuteTime": {
     "end_time": "2023-07-06T10:08:34.321758Z",
     "start_time": "2023-07-06T10:08:34.271112Z"
    }
   },
   "outputs": [],
   "source": [
    "# for i in range(3):\n",
    "#     print(train_df.context[i])\n",
    "#     print(train_df.labels[i])\n",
    "#     print(\"=\"*70)"
   ]
  },
  {
   "cell_type": "markdown",
   "id": "chinese-terminal",
   "metadata": {},
   "source": [
    "# Calculate Embedding"
   ]
  },
  {
   "cell_type": "code",
   "execution_count": 21,
   "id": "mineral-earthquake",
   "metadata": {
    "ExecuteTime": {
     "end_time": "2023-07-06T10:08:34.382995Z",
     "start_time": "2023-07-06T10:08:34.323226Z"
    }
   },
   "outputs": [],
   "source": [
    "# # # Comment these lines if we do not need to calculate the embeddings again\n",
    "# target_embedding = my_utils.get_dialogues_embedding(target_df, TOKENIZER, BERT, DEVICE, TARGET_EMBEDDING_FILE_PATH)\n",
    "# test_embedding = my_utils.get_dialogues_embedding(test_df, TOKENIZER, BERT, DEVICE, TEST_EMBEDDING_FILE_PATH)"
   ]
  },
  {
   "cell_type": "code",
   "execution_count": 22,
   "id": "creative-permit",
   "metadata": {
    "ExecuteTime": {
     "end_time": "2023-07-06T10:08:34.543841Z",
     "start_time": "2023-07-06T10:08:34.395410Z"
    }
   },
   "outputs": [
    {
     "name": "stdout",
     "output_type": "stream",
     "text": [
      "torch.Size([5124, 8, 768])\n",
      "torch.Size([2452, 8, 768])\n",
      "torch.Size([690, 8, 768])\n"
     ]
    }
   ],
   "source": [
    "# Load the Embeddings\n",
    "source_embedding = torch.load(SOURCE_EMBEDDING_FILE_PATH)\n",
    "print(source_embedding.shape)\n",
    "target_embedding = torch.load(TARGET_EMBEDDING_FILE_PATH)\n",
    "print(target_embedding.shape)\n",
    "test_embedding = torch.load(TEST_EMBEDDING_FILE_PATH)\n",
    "print(test_embedding.shape)"
   ]
  },
  {
   "cell_type": "markdown",
   "id": "precise-salmon",
   "metadata": {},
   "source": [
    "# Model Training"
   ]
  },
  {
   "cell_type": "code",
   "execution_count": 23,
   "id": "found-insert",
   "metadata": {
    "ExecuteTime": {
     "end_time": "2023-07-06T10:08:34.551288Z",
     "start_time": "2023-07-06T10:08:34.546099Z"
    }
   },
   "outputs": [],
   "source": [
    "class Dataset(Dataset):\n",
    "    def __init__(self, df, embeddings):\n",
    "        self.embeddings = embeddings\n",
    "        self.label = torch.tensor(df.labels.apply(lambda x: x[\"main_label\"]))\n",
    "        self.speaking_order = torch.tensor(df.labels.apply(lambda x: x[\"speaking_order\"]))\n",
    "\n",
    "    def __len__(self):\n",
    "        assert self.label.shape[0] == self.embeddings.shape[0]\n",
    "        return self.label.shape[0]\n",
    "\n",
    "    def __getitem__(self, idx):\n",
    "        embeddings = self.embeddings[idx]\n",
    "        label = self.label[idx]\n",
    "        speaking_order = self.speaking_order[idx]\n",
    "        return embeddings, label, speaking_order"
   ]
  },
  {
   "cell_type": "code",
   "execution_count": 24,
   "id": "domestic-lending",
   "metadata": {
    "ExecuteTime": {
     "end_time": "2023-07-06T10:08:34.612329Z",
     "start_time": "2023-07-06T10:08:34.552411Z"
    }
   },
   "outputs": [],
   "source": [
    "class Model(nn.Module):\n",
    "\n",
    "    def __init__(self):\n",
    "        super(Model, self).__init__()\n",
    "        \n",
    "        self.speaker_emb = nn.Embedding(2, 768)\n",
    "        self.contextual_attention_layer = nn.MultiheadAttention(768, num_heads=8, batch_first=True, dropout=0.0)\n",
    "        self.layer_norm = nn.LayerNorm(768)\n",
    "        self.fc = nn.Linear(768, 128)\n",
    "        self.relu_1 = nn.ReLU()\n",
    "        self.last_attention_layer = nn.MultiheadAttention(128, num_heads=4, batch_first=True, dropout=0.0)\n",
    "        self.relu_2 = nn.ReLU()\n",
    "        \n",
    "        self.main_module = nn.Sequential(\n",
    "            nn.Linear(128, len(LABEL_MAPPING)), # LABEL_NUM classes for main task prediction\n",
    "        )\n",
    "        \n",
    "        self.domain_module = nn.Sequential(\n",
    "            nn.Linear(128, 64),\n",
    "            nn.ReLU(),\n",
    "            nn.Linear(64, 32),\n",
    "            nn.ReLU(),\n",
    "            nn.Linear(32, 16),\n",
    "            nn.ReLU(),\n",
    "            nn.Linear(16, 8),\n",
    "            nn.ReLU(),\n",
    "            nn.Linear(8, 1),\n",
    "#             nn.Linear(32, 1),\n",
    "        )\n",
    "        \n",
    "    def forward(self, embeddings, speaking_order, alpha):\n",
    "        speaker_embeddings = self.speaker_emb(speaking_order)\n",
    "        embeddings = embeddings + speaker_embeddings\n",
    "        output, _ = self.contextual_attention_layer(embeddings, embeddings, embeddings)  # output shape: (batch_size, seq_length, hidden_dim)\n",
    "        output = self.layer_norm(output)\n",
    "        output = self.fc(output)\n",
    "        output = self.relu_1(output)\n",
    "        reverse_feature = ReverseLayerF.apply(output, alpha)\n",
    "        # Last Attention\n",
    "        output, _ = self.last_attention_layer(output[:, -1:, :], output, output)\n",
    "        output = output.squeeze(1)\n",
    "        output = self.relu_2(output)\n",
    "        # reverse_feature = ReverseLayerF.apply(feature, alpha)\n",
    "        main_output = self.main_module(output)  # output shape: (batch_size, num_classes) for sentiment prediction\n",
    "        domain_output = self.domain_module(reverse_feature)\n",
    "        return main_output, domain_output"
   ]
  },
  {
   "cell_type": "code",
   "execution_count": 25,
   "id": "worse-bidder",
   "metadata": {
    "ExecuteTime": {
     "end_time": "2023-07-06T10:08:34.688924Z",
     "start_time": "2023-07-06T10:08:34.613574Z"
    }
   },
   "outputs": [],
   "source": [
    "class ReverseLayerF(Function):\n",
    "\n",
    "    @staticmethod\n",
    "    def forward(ctx, x, alpha):\n",
    "        ctx.alpha = alpha\n",
    "\n",
    "        return x.view_as(x)\n",
    "\n",
    "    @staticmethod\n",
    "    def backward(ctx, grad_output):\n",
    "        output = grad_output.neg() * ctx.alpha\n",
    "\n",
    "        return output, None"
   ]
  },
  {
   "cell_type": "code",
   "execution_count": 26,
   "id": "three-growth",
   "metadata": {
    "ExecuteTime": {
     "end_time": "2023-07-06T10:08:34.776841Z",
     "start_time": "2023-07-06T10:08:34.690013Z"
    }
   },
   "outputs": [],
   "source": [
    "# class FeatureExtractor(nn.Module):\n",
    "    \n",
    "#     def __init__(self):\n",
    "#         super(FeatureExtractor, self).__init__()\n",
    "        \n",
    "#         self.speaker_emb = nn.Embedding(2, 768)\n",
    "#         self.contextual_attention_layer = nn.MultiheadAttention(768, num_heads=8, batch_first=True, dropout=0.0)\n",
    "#         self.layer_norm = nn.LayerNorm(768)\n",
    "#         self.fc = nn.Linear(768, 128)\n",
    "#         self.relu_1 = nn.ReLU()\n",
    "#         self.last_attention_layer = nn.MultiheadAttention(128, num_heads=4, batch_first=True, dropout=0.0)\n",
    "#         self.relu_2 = nn.ReLU()\n",
    "        \n",
    "#     def forward(self, embeddings, speaking_order):\n",
    "#         speaker_embeddings = self.speaker_emb(speaking_order)\n",
    "#         embeddings = embeddings + speaker_embeddings\n",
    "#         output, _ = self.contextual_attention_layer(embeddings, embeddings, embeddings)  # output shape: (batch_size, seq_length, hidden_dim)\n",
    "#         output = self.layer_norm(output)\n",
    "#         output = self.fc(output)\n",
    "#         output = self.relu_1(output)\n",
    "#         # Last Attention\n",
    "#         output, _ = self.last_attention_layer(output[:, -1:, :], output, output)\n",
    "#         output = output.squeeze(1)\n",
    "#         feature = self.relu_2(output)\n",
    "#         return feature"
   ]
  },
  {
   "cell_type": "code",
   "execution_count": 27,
   "id": "overhead-taylor",
   "metadata": {
    "ExecuteTime": {
     "end_time": "2023-07-06T10:08:34.837965Z",
     "start_time": "2023-07-06T10:08:34.777909Z"
    }
   },
   "outputs": [],
   "source": [
    "# class LabelPredictor(nn.Module):\n",
    "\n",
    "#     def __init__(self):\n",
    "#         super(LabelPredictor, self).__init__()\n",
    "        \n",
    "#         self.main_module = nn.Sequential(\n",
    "#             nn.Linear(128, len(LABEL_MAPPING)), # LABEL_NUM classes for main task prediction\n",
    "#         )\n",
    "\n",
    "#     def forward(self, feature):\n",
    "#         main_output = self.main_module(feature)  # output shape: (batch_size, num_classes) for sentiment prediction\n",
    "#         return main_output"
   ]
  },
  {
   "cell_type": "code",
   "execution_count": 28,
   "id": "removable-electron",
   "metadata": {
    "ExecuteTime": {
     "end_time": "2023-07-06T10:08:34.900123Z",
     "start_time": "2023-07-06T10:08:34.839005Z"
    }
   },
   "outputs": [],
   "source": [
    "# class DomainClassifier(nn.Module):\n",
    "\n",
    "#     def __init__(self):\n",
    "#         super(DomainClassifier, self).__init__()\n",
    "\n",
    "#         self.domain_module = nn.Sequential(\n",
    "#             GradientReversal(alpha=1.),\n",
    "#             nn.Linear(128, 64),\n",
    "#             nn.ReLU(),\n",
    "#             nn.Linear(64, 32),\n",
    "#             nn.ReLU(),\n",
    "#             nn.Linear(32, 8),\n",
    "#             nn.ReLU(),\n",
    "#             nn.Linear(8, 1),\n",
    "#         )\n",
    "\n",
    "#     def forward(self, feature):\n",
    "#         domain_output = self.domain_module(feature)\n",
    "#         return domain_output"
   ]
  },
  {
   "cell_type": "code",
   "execution_count": 29,
   "id": "individual-enlargement",
   "metadata": {
    "ExecuteTime": {
     "end_time": "2023-07-06T10:08:34.977147Z",
     "start_time": "2023-07-06T10:08:34.901160Z"
    }
   },
   "outputs": [],
   "source": [
    "# def adaptive_alpha(epoch, total_epochs):\n",
    "#     p = epoch / total_epochs\n",
    "#     alpha = (2 / (1 + np.exp(-10*p))) - 1\n",
    "#     return alpha"
   ]
  },
  {
   "cell_type": "code",
   "execution_count": 30,
   "id": "departmental-norway",
   "metadata": {
    "ExecuteTime": {
     "end_time": "2023-07-06T10:08:35.044813Z",
     "start_time": "2023-07-06T10:08:34.978248Z"
    }
   },
   "outputs": [],
   "source": [
    "def train(lr_model=LR_MODEL, batch_size=BATCH_SIZE, pretrained_model_path=PRETRAINED_MODEL_PATH, verbose=True):\n",
    "    \n",
    "    # Training and Valid Dataset\n",
    "    source = Dataset(df=source_df, embeddings=source_embedding)\n",
    "    target = Dataset(df=target_df, embeddings=target_embedding)\n",
    "    \n",
    "    # Training and Valid DataLoader\n",
    "    source_dataloader = DataLoader(source, batch_size=batch_size, shuffle=True)\n",
    "    target_dataloader = DataLoader(target, batch_size=batch_size, shuffle=True)\n",
    "    \n",
    "#     if len(source_dataloader) < len(target_dataloader):\n",
    "#         new_batch_size = len(source) // len(target_dataloader)\n",
    "#         source_dataloader = DataLoader(source, batch_size=new_batch_size, shuffle=True)\n",
    "\n",
    "#     elif len(target_dataloader) < len(source_dataloader):\n",
    "#         new_batch_size = len(target) // len(source_dataloader)\n",
    "#         target_dataloader = DataLoader(target, batch_size=new_batch_size, shuffle=True)\n",
    "    \n",
    "    # Training and Validation Record\n",
    "    train_label_loss_list = []\n",
    "    train_domain_loss_list = []\n",
    "    \n",
    "    # Model\n",
    "    model = Model().to(DEVICE)\n",
    "#     feature_extractor = FeatureExtractor().to(DEVICE)\n",
    "#     label_predictor = LabelPredictor().to(DEVICE)\n",
    "#     domain_classifier = DomainClassifier().to(DEVICE)\n",
    "    \n",
    "    # Load pretrained weights\n",
    "    if pretrained_model_path:\n",
    "        \n",
    "        # Load weight for Model\n",
    "        pretrained_dict = torch.load(pretrained_model_path)\n",
    "        model_dict = model.state_dict()\n",
    "        # 1. filter out unnecessary keys\n",
    "        pretrained_dict = {k: v for k, v in pretrained_dict.items() if k in model_dict}\n",
    "        print(\"=\"*50)\n",
    "        print(pretrained_dict.keys())\n",
    "        print(\"=\"*50)\n",
    "        # 2. overwrite entries in the existing state dict\n",
    "        model_dict.update(pretrained_dict) \n",
    "        # 3. load the new state dict\n",
    "        model.load_state_dict(model_dict)\n",
    "        \n",
    "#         # Load weight for feature_extractor\n",
    "#         pretrained_dict = torch.load(pretrained_model_path)\n",
    "#         model_dict = feature_extractor.state_dict()\n",
    "#         # 1. filter out unnecessary keys\n",
    "#         pretrained_dict = {k: v for k, v in pretrained_dict.items() if k in model_dict}\n",
    "#         print(\"=\"*50)\n",
    "#         print(pretrained_dict.keys())\n",
    "#         print(\"=\"*50)\n",
    "#         # 2. overwrite entries in the existing state dict\n",
    "#         model_dict.update(pretrained_dict) \n",
    "#         # 3. load the new state dict\n",
    "#         feature_extractor.load_state_dict(model_dict)\n",
    "        \n",
    "#         # Load weight for label_predictor\n",
    "#         pretrained_dict = torch.load(pretrained_model_path)\n",
    "#         model_dict = label_predictor.state_dict()\n",
    "#         # 1. filter out unnecessary keys\n",
    "#         pretrained_dict = {k: v for k, v in pretrained_dict.items() if k in model_dict}\n",
    "#         print(\"=\"*50)\n",
    "#         print(pretrained_dict.keys())\n",
    "#         print(\"=\"*50)\n",
    "#         # 2. overwrite entries in the existing state dict\n",
    "#         model_dict.update(pretrained_dict) \n",
    "#         # 3. load the new state dict\n",
    "#         label_predictor.load_state_dict(model_dict)\n",
    "    \n",
    "    # Loss\n",
    "    label_criterion = nn.CrossEntropyLoss()\n",
    "    domain_criterion = nn.BCEWithLogitsLoss()\n",
    "    \n",
    "    # Optimizer\n",
    "    optimizer = torch.optim.Adam(model.parameters(), lr=lr_model)\n",
    "    \n",
    "    # Gradient\n",
    "    for p in model.parameters():\n",
    "        p.requires_grad = True\n",
    "    \n",
    "#     optimizer_F = torch.optim.Adam(feature_extractor.parameters(), lr=1e-3)\n",
    "#     optimizer_L = torch.optim.Adam(label_predictor.parameters(), lr=1e-3)\n",
    "#     optimizer_D = torch.optim.Adam(domain_classifier.parameters(), lr=1e-3)\n",
    "    \n",
    "    # Training with epochs\n",
    "    for epoch_num in range(EPOCHS):\n",
    "        \n",
    "        # adaptive alpha\n",
    "#         alpha = adaptive_alpha(epoch_num, EPOCHS)\n",
    "\n",
    "        len_dataloader = min(len(source_dataloader), len(target_dataloader))\n",
    "        \n",
    "        # Loss\n",
    "        train_label_loss = 0.0\n",
    "        train_domain_loss = 0.0\n",
    "        \n",
    "        # Set the state of the model to \"Training\"\n",
    "        model.train()\n",
    "#         feature_extractor.train()\n",
    "#         label_predictor.train()\n",
    "#         domain_classifier.train()\n",
    "                \n",
    "        # Training with batches\n",
    "        for i, ((source_embeddings, source_label, source_speaking_order), (target_embeddings, _, target_speaking_order)) in tqdm(enumerate(zip(source_dataloader, target_dataloader)), disable=(not verbose)):\n",
    "            \n",
    "            # adaptive alpha\n",
    "            p = float(i + epoch_num * len_dataloader) / EPOCHS / len_dataloader\n",
    "            alpha = 2. / (1. + np.exp(-10 * p)) - 1\n",
    "            \n",
    "            optimizer.zero_grad()\n",
    "            \n",
    "            # Feed the data into the model\n",
    "            source_embeddings = source_embeddings.to(DEVICE)\n",
    "            source_label = source_label.to(DEVICE)\n",
    "            source_speaking_order = source_speaking_order.to(DEVICE)\n",
    "            target_embeddings = target_embeddings.to(DEVICE)\n",
    "            target_speaking_order = target_speaking_order.to(DEVICE)\n",
    "            \n",
    "            # Mixed the source data and target data, or it'll mislead the running params of batch_norm. \n",
    "            # (runnning mean/var of soucre and target data are different.)\n",
    "#             mixed_embeddings = torch.cat([source_embeddings, target_embeddings], dim=0)\n",
    "#             mixed_speaking_order = torch.cat([source_speaking_order, target_speaking_order], dim=0)\n",
    "#             domain_label = torch.zeros([source_embeddings.shape[0] + target_embeddings.shape[0], 1]).to(DEVICE)\n",
    "#             # set domain label of source data to be 1.\n",
    "#             domain_label[:source_embeddings.shape[0]] = 1\n",
    "            \n",
    "            # Step 1 : train model using source data\n",
    "            domain_label = torch.zeros([source_embeddings.shape[0], source_embeddings.shape[1], 1]).to(DEVICE)\n",
    "            main_output, domain_output = model(source_embeddings, source_speaking_order, alpha=alpha)\n",
    "            main_loss = label_criterion(main_output, source_label)\n",
    "            source_domain_loss = domain_criterion(domain_output, domain_label)\n",
    "            # loss = cross entropy of classification - lamb * domain binary cross entropy.\n",
    "            #  The reason why using subtraction is similar to generator loss in disciminator of GAN\n",
    "#             loss = label_criterion(label_logits, source_label) - lamb * domain_criterion(domain_logits, domain_label)\n",
    "#             train_label_loss += loss.item()\n",
    "#             loss.backward()\n",
    "#             optimizer_F.step()\n",
    "#             optimizer_L.step()\n",
    "            \n",
    "            # Step 2 : train model using target data\n",
    "            domain_label = torch.ones([target_embeddings.shape[0], target_embeddings.shape[1], 1]).to(DEVICE)\n",
    "            _, domain_output = model(target_embeddings, target_speaking_order, alpha=alpha)\n",
    "            target_domain_loss = domain_criterion(domain_output, domain_label)\n",
    "            \n",
    "            # Step 3 : Backward\n",
    "            loss = main_loss + source_domain_loss + target_domain_loss\n",
    "            loss.backward()\n",
    "            optimizer.step()\n",
    "            \n",
    "            train_label_loss += main_loss.item()\n",
    "            train_domain_loss += source_domain_loss.item()\n",
    "            train_domain_loss += target_domain_loss.item()\n",
    "            \n",
    "            # We don't need to train feature extractor in step 1.\n",
    "            # Thus we detach the feature neuron to avoid backpropgation.\n",
    "#             domain_logits = domain_classifier(feature.detach())\n",
    "#             loss = domain_criterion(domain_logits, domain_label)\n",
    "#             train_domain_loss += loss.item()\n",
    "#             loss.backward()\n",
    "#             optimizer_D.step()\n",
    "            \n",
    "#             optimizer_D.zero_grad()\n",
    "#             optimizer_F.zero_grad()\n",
    "#             optimizer_L.zero_grad()\n",
    "        \n",
    "        train_label_loss = train_label_loss / (i+1)\n",
    "        train_domain_loss = train_domain_loss / (i+1)\n",
    "        \n",
    "        train_label_loss_list.append(train_label_loss)\n",
    "        train_domain_loss_list.append(train_domain_loss)\n",
    "        \n",
    "        if verbose:\n",
    "            print(f\"Epochs: {epoch_num + 1} | Label Loss: {train_label_loss: .3f} | Domain Loss: {train_domain_loss: .3f}\")\n",
    "        \n",
    "    return model, train_label_loss_list, train_domain_loss_list"
   ]
  },
  {
   "cell_type": "code",
   "execution_count": 31,
   "id": "announced-change",
   "metadata": {
    "ExecuteTime": {
     "end_time": "2023-07-06T10:09:40.228534Z",
     "start_time": "2023-07-06T10:08:35.045950Z"
    },
    "scrolled": true
   },
   "outputs": [
    {
     "name": "stdout",
     "output_type": "stream",
     "text": [
      "==================================================\n",
      "dict_keys(['speaker_emb.weight', 'contextual_attention_layer.in_proj_weight', 'contextual_attention_layer.in_proj_bias', 'contextual_attention_layer.out_proj.weight', 'contextual_attention_layer.out_proj.bias', 'layer_norm.weight', 'layer_norm.bias', 'fc.weight', 'fc.bias', 'last_attention_layer.in_proj_weight', 'last_attention_layer.in_proj_bias', 'last_attention_layer.out_proj.weight', 'last_attention_layer.out_proj.bias', 'main_module.0.weight', 'main_module.0.bias'])\n",
      "==================================================\n"
     ]
    },
    {
     "name": "stderr",
     "output_type": "stream",
     "text": [
      "20it [00:00, 60.79it/s]\n"
     ]
    },
    {
     "name": "stdout",
     "output_type": "stream",
     "text": [
      "Epochs: 1 | Label Loss:  0.858 | Domain Loss:  1.417\n"
     ]
    },
    {
     "name": "stderr",
     "output_type": "stream",
     "text": [
      "20it [00:00, 87.16it/s]\n"
     ]
    },
    {
     "name": "stdout",
     "output_type": "stream",
     "text": [
      "Epochs: 2 | Label Loss:  0.844 | Domain Loss:  1.416\n"
     ]
    },
    {
     "name": "stderr",
     "output_type": "stream",
     "text": [
      "20it [00:00, 87.38it/s]\n"
     ]
    },
    {
     "name": "stdout",
     "output_type": "stream",
     "text": [
      "Epochs: 3 | Label Loss:  0.823 | Domain Loss:  1.415\n"
     ]
    },
    {
     "name": "stderr",
     "output_type": "stream",
     "text": [
      "20it [00:00, 83.01it/s]\n"
     ]
    },
    {
     "name": "stdout",
     "output_type": "stream",
     "text": [
      "Epochs: 4 | Label Loss:  0.837 | Domain Loss:  1.414\n"
     ]
    },
    {
     "name": "stderr",
     "output_type": "stream",
     "text": [
      "20it [00:00, 54.99it/s]\n"
     ]
    },
    {
     "name": "stdout",
     "output_type": "stream",
     "text": [
      "Epochs: 5 | Label Loss:  0.816 | Domain Loss:  1.414\n"
     ]
    },
    {
     "name": "stderr",
     "output_type": "stream",
     "text": [
      "20it [00:00, 49.78it/s]\n"
     ]
    },
    {
     "name": "stdout",
     "output_type": "stream",
     "text": [
      "Epochs: 6 | Label Loss:  0.817 | Domain Loss:  1.414\n"
     ]
    },
    {
     "name": "stderr",
     "output_type": "stream",
     "text": [
      "20it [00:00, 60.52it/s]\n"
     ]
    },
    {
     "name": "stdout",
     "output_type": "stream",
     "text": [
      "Epochs: 7 | Label Loss:  0.824 | Domain Loss:  1.415\n"
     ]
    },
    {
     "name": "stderr",
     "output_type": "stream",
     "text": [
      "20it [00:00, 51.33it/s]\n"
     ]
    },
    {
     "name": "stdout",
     "output_type": "stream",
     "text": [
      "Epochs: 8 | Label Loss:  0.830 | Domain Loss:  1.416\n"
     ]
    },
    {
     "name": "stderr",
     "output_type": "stream",
     "text": [
      "20it [00:00, 54.20it/s]\n"
     ]
    },
    {
     "name": "stdout",
     "output_type": "stream",
     "text": [
      "Epochs: 9 | Label Loss:  0.808 | Domain Loss:  1.417\n"
     ]
    },
    {
     "name": "stderr",
     "output_type": "stream",
     "text": [
      "20it [00:00, 74.60it/s]\n"
     ]
    },
    {
     "name": "stdout",
     "output_type": "stream",
     "text": [
      "Epochs: 10 | Label Loss:  0.812 | Domain Loss:  1.418\n"
     ]
    },
    {
     "name": "stderr",
     "output_type": "stream",
     "text": [
      "20it [00:00, 85.15it/s]\n"
     ]
    },
    {
     "name": "stdout",
     "output_type": "stream",
     "text": [
      "Epochs: 11 | Label Loss:  0.820 | Domain Loss:  1.419\n"
     ]
    },
    {
     "name": "stderr",
     "output_type": "stream",
     "text": [
      "20it [00:00, 85.84it/s]\n"
     ]
    },
    {
     "name": "stdout",
     "output_type": "stream",
     "text": [
      "Epochs: 12 | Label Loss:  0.805 | Domain Loss:  1.421\n"
     ]
    },
    {
     "name": "stderr",
     "output_type": "stream",
     "text": [
      "20it [00:00, 81.61it/s]\n"
     ]
    },
    {
     "name": "stdout",
     "output_type": "stream",
     "text": [
      "Epochs: 13 | Label Loss:  0.802 | Domain Loss:  1.423\n"
     ]
    },
    {
     "name": "stderr",
     "output_type": "stream",
     "text": [
      "20it [00:00, 85.88it/s]\n"
     ]
    },
    {
     "name": "stdout",
     "output_type": "stream",
     "text": [
      "Epochs: 14 | Label Loss:  0.811 | Domain Loss:  1.423\n"
     ]
    },
    {
     "name": "stderr",
     "output_type": "stream",
     "text": [
      "20it [00:00, 85.55it/s]\n"
     ]
    },
    {
     "name": "stdout",
     "output_type": "stream",
     "text": [
      "Epochs: 15 | Label Loss:  0.799 | Domain Loss:  1.424\n"
     ]
    },
    {
     "name": "stderr",
     "output_type": "stream",
     "text": [
      "20it [00:00, 60.85it/s]\n"
     ]
    },
    {
     "name": "stdout",
     "output_type": "stream",
     "text": [
      "Epochs: 16 | Label Loss:  0.810 | Domain Loss:  1.425\n"
     ]
    },
    {
     "name": "stderr",
     "output_type": "stream",
     "text": [
      "20it [00:00, 62.92it/s]\n"
     ]
    },
    {
     "name": "stdout",
     "output_type": "stream",
     "text": [
      "Epochs: 17 | Label Loss:  0.808 | Domain Loss:  1.426\n"
     ]
    },
    {
     "name": "stderr",
     "output_type": "stream",
     "text": [
      "20it [00:00, 88.85it/s]\n"
     ]
    },
    {
     "name": "stdout",
     "output_type": "stream",
     "text": [
      "Epochs: 18 | Label Loss:  0.796 | Domain Loss:  1.427\n"
     ]
    },
    {
     "name": "stderr",
     "output_type": "stream",
     "text": [
      "20it [00:00, 88.61it/s]\n"
     ]
    },
    {
     "name": "stdout",
     "output_type": "stream",
     "text": [
      "Epochs: 19 | Label Loss:  0.805 | Domain Loss:  1.428\n"
     ]
    },
    {
     "name": "stderr",
     "output_type": "stream",
     "text": [
      "20it [00:00, 47.98it/s]\n"
     ]
    },
    {
     "name": "stdout",
     "output_type": "stream",
     "text": [
      "Epochs: 20 | Label Loss:  0.792 | Domain Loss:  1.429\n"
     ]
    },
    {
     "name": "stderr",
     "output_type": "stream",
     "text": [
      "20it [00:00, 58.58it/s]\n"
     ]
    },
    {
     "name": "stdout",
     "output_type": "stream",
     "text": [
      "Epochs: 21 | Label Loss:  0.802 | Domain Loss:  1.428\n"
     ]
    },
    {
     "name": "stderr",
     "output_type": "stream",
     "text": [
      "20it [00:00, 56.72it/s]\n"
     ]
    },
    {
     "name": "stdout",
     "output_type": "stream",
     "text": [
      "Epochs: 22 | Label Loss:  0.805 | Domain Loss:  1.429\n"
     ]
    },
    {
     "name": "stderr",
     "output_type": "stream",
     "text": [
      "20it [00:00, 76.68it/s]\n"
     ]
    },
    {
     "name": "stdout",
     "output_type": "stream",
     "text": [
      "Epochs: 23 | Label Loss:  0.810 | Domain Loss:  1.429\n"
     ]
    },
    {
     "name": "stderr",
     "output_type": "stream",
     "text": [
      "20it [00:00, 53.66it/s]\n"
     ]
    },
    {
     "name": "stdout",
     "output_type": "stream",
     "text": [
      "Epochs: 24 | Label Loss:  0.780 | Domain Loss:  1.430\n"
     ]
    },
    {
     "name": "stderr",
     "output_type": "stream",
     "text": [
      "20it [00:00, 85.25it/s]\n"
     ]
    },
    {
     "name": "stdout",
     "output_type": "stream",
     "text": [
      "Epochs: 25 | Label Loss:  0.791 | Domain Loss:  1.430\n"
     ]
    },
    {
     "name": "stderr",
     "output_type": "stream",
     "text": [
      "20it [00:00, 85.23it/s]\n"
     ]
    },
    {
     "name": "stdout",
     "output_type": "stream",
     "text": [
      "Epochs: 26 | Label Loss:  0.790 | Domain Loss:  1.429\n"
     ]
    },
    {
     "name": "stderr",
     "output_type": "stream",
     "text": [
      "20it [00:00, 85.61it/s]\n"
     ]
    },
    {
     "name": "stdout",
     "output_type": "stream",
     "text": [
      "Epochs: 27 | Label Loss:  0.792 | Domain Loss:  1.429\n"
     ]
    },
    {
     "name": "stderr",
     "output_type": "stream",
     "text": [
      "20it [00:00, 86.74it/s]\n"
     ]
    },
    {
     "name": "stdout",
     "output_type": "stream",
     "text": [
      "Epochs: 28 | Label Loss:  0.806 | Domain Loss:  1.429\n"
     ]
    },
    {
     "name": "stderr",
     "output_type": "stream",
     "text": [
      "20it [00:00, 76.94it/s]\n"
     ]
    },
    {
     "name": "stdout",
     "output_type": "stream",
     "text": [
      "Epochs: 29 | Label Loss:  0.801 | Domain Loss:  1.429\n"
     ]
    },
    {
     "name": "stderr",
     "output_type": "stream",
     "text": [
      "20it [00:00, 81.46it/s]\n"
     ]
    },
    {
     "name": "stdout",
     "output_type": "stream",
     "text": [
      "Epochs: 30 | Label Loss:  0.802 | Domain Loss:  1.428\n"
     ]
    },
    {
     "name": "stderr",
     "output_type": "stream",
     "text": [
      "20it [00:00, 70.80it/s]\n"
     ]
    },
    {
     "name": "stdout",
     "output_type": "stream",
     "text": [
      "Epochs: 31 | Label Loss:  0.781 | Domain Loss:  1.427\n"
     ]
    },
    {
     "name": "stderr",
     "output_type": "stream",
     "text": [
      "20it [00:00, 78.67it/s]\n"
     ]
    },
    {
     "name": "stdout",
     "output_type": "stream",
     "text": [
      "Epochs: 32 | Label Loss:  0.788 | Domain Loss:  1.426\n"
     ]
    },
    {
     "name": "stderr",
     "output_type": "stream",
     "text": [
      "20it [00:00, 77.44it/s]\n"
     ]
    },
    {
     "name": "stdout",
     "output_type": "stream",
     "text": [
      "Epochs: 33 | Label Loss:  0.779 | Domain Loss:  1.426\n"
     ]
    },
    {
     "name": "stderr",
     "output_type": "stream",
     "text": [
      "20it [00:00, 85.10it/s]\n"
     ]
    },
    {
     "name": "stdout",
     "output_type": "stream",
     "text": [
      "Epochs: 34 | Label Loss:  0.790 | Domain Loss:  1.425\n"
     ]
    },
    {
     "name": "stderr",
     "output_type": "stream",
     "text": [
      "20it [00:00, 82.64it/s]\n"
     ]
    },
    {
     "name": "stdout",
     "output_type": "stream",
     "text": [
      "Epochs: 35 | Label Loss:  0.793 | Domain Loss:  1.424\n"
     ]
    },
    {
     "name": "stderr",
     "output_type": "stream",
     "text": [
      "20it [00:00, 75.61it/s]\n"
     ]
    },
    {
     "name": "stdout",
     "output_type": "stream",
     "text": [
      "Epochs: 36 | Label Loss:  0.796 | Domain Loss:  1.423\n"
     ]
    },
    {
     "name": "stderr",
     "output_type": "stream",
     "text": [
      "20it [00:00, 85.27it/s]\n"
     ]
    },
    {
     "name": "stdout",
     "output_type": "stream",
     "text": [
      "Epochs: 37 | Label Loss:  0.789 | Domain Loss:  1.422\n"
     ]
    },
    {
     "name": "stderr",
     "output_type": "stream",
     "text": [
      "20it [00:00, 72.12it/s]\n"
     ]
    },
    {
     "name": "stdout",
     "output_type": "stream",
     "text": [
      "Epochs: 38 | Label Loss:  0.780 | Domain Loss:  1.422\n"
     ]
    },
    {
     "name": "stderr",
     "output_type": "stream",
     "text": [
      "20it [00:00, 66.63it/s]\n"
     ]
    },
    {
     "name": "stdout",
     "output_type": "stream",
     "text": [
      "Epochs: 39 | Label Loss:  0.782 | Domain Loss:  1.420\n"
     ]
    },
    {
     "name": "stderr",
     "output_type": "stream",
     "text": [
      "20it [00:00, 66.22it/s]\n"
     ]
    },
    {
     "name": "stdout",
     "output_type": "stream",
     "text": [
      "Epochs: 40 | Label Loss:  0.783 | Domain Loss:  1.420\n"
     ]
    },
    {
     "name": "stderr",
     "output_type": "stream",
     "text": [
      "20it [00:00, 66.88it/s]\n"
     ]
    },
    {
     "name": "stdout",
     "output_type": "stream",
     "text": [
      "Epochs: 41 | Label Loss:  0.751 | Domain Loss:  1.419\n"
     ]
    },
    {
     "name": "stderr",
     "output_type": "stream",
     "text": [
      "20it [00:00, 84.01it/s]\n"
     ]
    },
    {
     "name": "stdout",
     "output_type": "stream",
     "text": [
      "Epochs: 42 | Label Loss:  0.772 | Domain Loss:  1.418\n"
     ]
    },
    {
     "name": "stderr",
     "output_type": "stream",
     "text": [
      "20it [00:00, 84.09it/s]\n"
     ]
    },
    {
     "name": "stdout",
     "output_type": "stream",
     "text": [
      "Epochs: 43 | Label Loss:  0.775 | Domain Loss:  1.417\n"
     ]
    },
    {
     "name": "stderr",
     "output_type": "stream",
     "text": [
      "20it [00:00, 83.86it/s]\n"
     ]
    },
    {
     "name": "stdout",
     "output_type": "stream",
     "text": [
      "Epochs: 44 | Label Loss:  0.764 | Domain Loss:  1.416\n"
     ]
    },
    {
     "name": "stderr",
     "output_type": "stream",
     "text": [
      "20it [00:00, 73.46it/s]\n"
     ]
    },
    {
     "name": "stdout",
     "output_type": "stream",
     "text": [
      "Epochs: 45 | Label Loss:  0.766 | Domain Loss:  1.415\n"
     ]
    },
    {
     "name": "stderr",
     "output_type": "stream",
     "text": [
      "20it [00:00, 53.09it/s]\n"
     ]
    },
    {
     "name": "stdout",
     "output_type": "stream",
     "text": [
      "Epochs: 46 | Label Loss:  0.773 | Domain Loss:  1.414\n"
     ]
    },
    {
     "name": "stderr",
     "output_type": "stream",
     "text": [
      "20it [00:00, 66.56it/s]\n"
     ]
    },
    {
     "name": "stdout",
     "output_type": "stream",
     "text": [
      "Epochs: 47 | Label Loss:  0.761 | Domain Loss:  1.414\n"
     ]
    },
    {
     "name": "stderr",
     "output_type": "stream",
     "text": [
      "20it [00:00, 72.22it/s]\n"
     ]
    },
    {
     "name": "stdout",
     "output_type": "stream",
     "text": [
      "Epochs: 48 | Label Loss:  0.766 | Domain Loss:  1.413\n"
     ]
    },
    {
     "name": "stderr",
     "output_type": "stream",
     "text": [
      "20it [00:00, 66.32it/s]\n"
     ]
    },
    {
     "name": "stdout",
     "output_type": "stream",
     "text": [
      "Epochs: 49 | Label Loss:  0.756 | Domain Loss:  1.413\n"
     ]
    },
    {
     "name": "stderr",
     "output_type": "stream",
     "text": [
      "20it [00:00, 60.80it/s]\n"
     ]
    },
    {
     "name": "stdout",
     "output_type": "stream",
     "text": [
      "Epochs: 50 | Label Loss:  0.752 | Domain Loss:  1.412\n"
     ]
    },
    {
     "name": "stderr",
     "output_type": "stream",
     "text": [
      "20it [00:00, 54.81it/s]\n"
     ]
    },
    {
     "name": "stdout",
     "output_type": "stream",
     "text": [
      "Epochs: 51 | Label Loss:  0.763 | Domain Loss:  1.411\n"
     ]
    },
    {
     "name": "stderr",
     "output_type": "stream",
     "text": [
      "20it [00:00, 55.96it/s]\n"
     ]
    },
    {
     "name": "stdout",
     "output_type": "stream",
     "text": [
      "Epochs: 52 | Label Loss:  0.764 | Domain Loss:  1.411\n"
     ]
    },
    {
     "name": "stderr",
     "output_type": "stream",
     "text": [
      "20it [00:00, 57.67it/s]\n"
     ]
    },
    {
     "name": "stdout",
     "output_type": "stream",
     "text": [
      "Epochs: 53 | Label Loss:  0.769 | Domain Loss:  1.411\n"
     ]
    },
    {
     "name": "stderr",
     "output_type": "stream",
     "text": [
      "20it [00:00, 63.92it/s]\n"
     ]
    },
    {
     "name": "stdout",
     "output_type": "stream",
     "text": [
      "Epochs: 54 | Label Loss:  0.753 | Domain Loss:  1.410\n"
     ]
    },
    {
     "name": "stderr",
     "output_type": "stream",
     "text": [
      "20it [00:00, 75.25it/s]\n"
     ]
    },
    {
     "name": "stdout",
     "output_type": "stream",
     "text": [
      "Epochs: 55 | Label Loss:  0.744 | Domain Loss:  1.410\n"
     ]
    },
    {
     "name": "stderr",
     "output_type": "stream",
     "text": [
      "20it [00:00, 68.63it/s]\n"
     ]
    },
    {
     "name": "stdout",
     "output_type": "stream",
     "text": [
      "Epochs: 56 | Label Loss:  0.755 | Domain Loss:  1.410\n"
     ]
    },
    {
     "name": "stderr",
     "output_type": "stream",
     "text": [
      "20it [00:00, 66.95it/s]\n"
     ]
    },
    {
     "name": "stdout",
     "output_type": "stream",
     "text": [
      "Epochs: 57 | Label Loss:  0.758 | Domain Loss:  1.409\n"
     ]
    },
    {
     "name": "stderr",
     "output_type": "stream",
     "text": [
      "20it [00:00, 74.32it/s]\n"
     ]
    },
    {
     "name": "stdout",
     "output_type": "stream",
     "text": [
      "Epochs: 58 | Label Loss:  0.748 | Domain Loss:  1.409\n"
     ]
    },
    {
     "name": "stderr",
     "output_type": "stream",
     "text": [
      "20it [00:00, 71.75it/s]\n"
     ]
    },
    {
     "name": "stdout",
     "output_type": "stream",
     "text": [
      "Epochs: 59 | Label Loss:  0.744 | Domain Loss:  1.409\n"
     ]
    },
    {
     "name": "stderr",
     "output_type": "stream",
     "text": [
      "20it [00:00, 74.89it/s]\n"
     ]
    },
    {
     "name": "stdout",
     "output_type": "stream",
     "text": [
      "Epochs: 60 | Label Loss:  0.756 | Domain Loss:  1.409\n"
     ]
    },
    {
     "name": "stderr",
     "output_type": "stream",
     "text": [
      "20it [00:00, 86.94it/s]\n"
     ]
    },
    {
     "name": "stdout",
     "output_type": "stream",
     "text": [
      "Epochs: 61 | Label Loss:  0.734 | Domain Loss:  1.409\n"
     ]
    },
    {
     "name": "stderr",
     "output_type": "stream",
     "text": [
      "20it [00:00, 86.81it/s]\n"
     ]
    },
    {
     "name": "stdout",
     "output_type": "stream",
     "text": [
      "Epochs: 62 | Label Loss:  0.754 | Domain Loss:  1.408\n"
     ]
    },
    {
     "name": "stderr",
     "output_type": "stream",
     "text": [
      "20it [00:00, 81.78it/s]\n"
     ]
    },
    {
     "name": "stdout",
     "output_type": "stream",
     "text": [
      "Epochs: 63 | Label Loss:  0.743 | Domain Loss:  1.408\n"
     ]
    },
    {
     "name": "stderr",
     "output_type": "stream",
     "text": [
      "20it [00:00, 54.58it/s]\n"
     ]
    },
    {
     "name": "stdout",
     "output_type": "stream",
     "text": [
      "Epochs: 64 | Label Loss:  0.735 | Domain Loss:  1.408\n"
     ]
    },
    {
     "name": "stderr",
     "output_type": "stream",
     "text": [
      "20it [00:00, 70.11it/s]\n"
     ]
    },
    {
     "name": "stdout",
     "output_type": "stream",
     "text": [
      "Epochs: 65 | Label Loss:  0.730 | Domain Loss:  1.408\n"
     ]
    },
    {
     "name": "stderr",
     "output_type": "stream",
     "text": [
      "20it [00:00, 66.47it/s]\n"
     ]
    },
    {
     "name": "stdout",
     "output_type": "stream",
     "text": [
      "Epochs: 66 | Label Loss:  0.727 | Domain Loss:  1.408\n"
     ]
    },
    {
     "name": "stderr",
     "output_type": "stream",
     "text": [
      "20it [00:00, 69.95it/s]\n"
     ]
    },
    {
     "name": "stdout",
     "output_type": "stream",
     "text": [
      "Epochs: 67 | Label Loss:  0.728 | Domain Loss:  1.407\n"
     ]
    },
    {
     "name": "stderr",
     "output_type": "stream",
     "text": [
      "20it [00:00, 64.38it/s]\n"
     ]
    },
    {
     "name": "stdout",
     "output_type": "stream",
     "text": [
      "Epochs: 68 | Label Loss:  0.730 | Domain Loss:  1.407\n"
     ]
    },
    {
     "name": "stderr",
     "output_type": "stream",
     "text": [
      "20it [00:00, 59.34it/s]\n"
     ]
    },
    {
     "name": "stdout",
     "output_type": "stream",
     "text": [
      "Epochs: 69 | Label Loss:  0.721 | Domain Loss:  1.407\n"
     ]
    },
    {
     "name": "stderr",
     "output_type": "stream",
     "text": [
      "20it [00:00, 86.40it/s]\n"
     ]
    },
    {
     "name": "stdout",
     "output_type": "stream",
     "text": [
      "Epochs: 70 | Label Loss:  0.730 | Domain Loss:  1.407\n"
     ]
    },
    {
     "name": "stderr",
     "output_type": "stream",
     "text": [
      "20it [00:00, 72.01it/s]\n"
     ]
    },
    {
     "name": "stdout",
     "output_type": "stream",
     "text": [
      "Epochs: 71 | Label Loss:  0.734 | Domain Loss:  1.407\n"
     ]
    },
    {
     "name": "stderr",
     "output_type": "stream",
     "text": [
      "20it [00:00, 82.35it/s]\n"
     ]
    },
    {
     "name": "stdout",
     "output_type": "stream",
     "text": [
      "Epochs: 72 | Label Loss:  0.739 | Domain Loss:  1.407\n"
     ]
    },
    {
     "name": "stderr",
     "output_type": "stream",
     "text": [
      "20it [00:00, 75.52it/s]\n"
     ]
    },
    {
     "name": "stdout",
     "output_type": "stream",
     "text": [
      "Epochs: 73 | Label Loss:  0.719 | Domain Loss:  1.407\n"
     ]
    },
    {
     "name": "stderr",
     "output_type": "stream",
     "text": [
      "20it [00:00, 88.20it/s]\n"
     ]
    },
    {
     "name": "stdout",
     "output_type": "stream",
     "text": [
      "Epochs: 74 | Label Loss:  0.719 | Domain Loss:  1.407\n"
     ]
    },
    {
     "name": "stderr",
     "output_type": "stream",
     "text": [
      "20it [00:00, 78.54it/s]\n"
     ]
    },
    {
     "name": "stdout",
     "output_type": "stream",
     "text": [
      "Epochs: 75 | Label Loss:  0.719 | Domain Loss:  1.407\n"
     ]
    },
    {
     "name": "stderr",
     "output_type": "stream",
     "text": [
      "20it [00:00, 87.27it/s]\n"
     ]
    },
    {
     "name": "stdout",
     "output_type": "stream",
     "text": [
      "Epochs: 76 | Label Loss:  0.704 | Domain Loss:  1.407\n"
     ]
    },
    {
     "name": "stderr",
     "output_type": "stream",
     "text": [
      "20it [00:00, 62.04it/s]\n"
     ]
    },
    {
     "name": "stdout",
     "output_type": "stream",
     "text": [
      "Epochs: 77 | Label Loss:  0.712 | Domain Loss:  1.406\n"
     ]
    },
    {
     "name": "stderr",
     "output_type": "stream",
     "text": [
      "20it [00:00, 64.74it/s]\n"
     ]
    },
    {
     "name": "stdout",
     "output_type": "stream",
     "text": [
      "Epochs: 78 | Label Loss:  0.714 | Domain Loss:  1.407\n"
     ]
    },
    {
     "name": "stderr",
     "output_type": "stream",
     "text": [
      "20it [00:00, 57.97it/s]\n"
     ]
    },
    {
     "name": "stdout",
     "output_type": "stream",
     "text": [
      "Epochs: 79 | Label Loss:  0.714 | Domain Loss:  1.407\n"
     ]
    },
    {
     "name": "stderr",
     "output_type": "stream",
     "text": [
      "20it [00:00, 63.17it/s]\n"
     ]
    },
    {
     "name": "stdout",
     "output_type": "stream",
     "text": [
      "Epochs: 80 | Label Loss:  0.723 | Domain Loss:  1.407\n"
     ]
    },
    {
     "name": "stderr",
     "output_type": "stream",
     "text": [
      "20it [00:00, 63.24it/s]\n"
     ]
    },
    {
     "name": "stdout",
     "output_type": "stream",
     "text": [
      "Epochs: 81 | Label Loss:  0.701 | Domain Loss:  1.407\n"
     ]
    },
    {
     "name": "stderr",
     "output_type": "stream",
     "text": [
      "20it [00:00, 81.15it/s]\n"
     ]
    },
    {
     "name": "stdout",
     "output_type": "stream",
     "text": [
      "Epochs: 82 | Label Loss:  0.700 | Domain Loss:  1.407\n"
     ]
    },
    {
     "name": "stderr",
     "output_type": "stream",
     "text": [
      "20it [00:00, 77.32it/s]\n"
     ]
    },
    {
     "name": "stdout",
     "output_type": "stream",
     "text": [
      "Epochs: 83 | Label Loss:  0.704 | Domain Loss:  1.407\n"
     ]
    },
    {
     "name": "stderr",
     "output_type": "stream",
     "text": [
      "20it [00:00, 64.97it/s]\n"
     ]
    },
    {
     "name": "stdout",
     "output_type": "stream",
     "text": [
      "Epochs: 84 | Label Loss:  0.696 | Domain Loss:  1.407\n"
     ]
    },
    {
     "name": "stderr",
     "output_type": "stream",
     "text": [
      "20it [00:00, 67.69it/s]\n"
     ]
    },
    {
     "name": "stdout",
     "output_type": "stream",
     "text": [
      "Epochs: 85 | Label Loss:  0.684 | Domain Loss:  1.407\n"
     ]
    },
    {
     "name": "stderr",
     "output_type": "stream",
     "text": [
      "20it [00:00, 83.45it/s]\n"
     ]
    },
    {
     "name": "stdout",
     "output_type": "stream",
     "text": [
      "Epochs: 86 | Label Loss:  0.691 | Domain Loss:  1.407\n"
     ]
    },
    {
     "name": "stderr",
     "output_type": "stream",
     "text": [
      "20it [00:00, 89.68it/s]\n"
     ]
    },
    {
     "name": "stdout",
     "output_type": "stream",
     "text": [
      "Epochs: 87 | Label Loss:  0.708 | Domain Loss:  1.407\n"
     ]
    },
    {
     "name": "stderr",
     "output_type": "stream",
     "text": [
      "20it [00:00, 87.81it/s]\n"
     ]
    },
    {
     "name": "stdout",
     "output_type": "stream",
     "text": [
      "Epochs: 88 | Label Loss:  0.705 | Domain Loss:  1.407\n"
     ]
    },
    {
     "name": "stderr",
     "output_type": "stream",
     "text": [
      "20it [00:00, 89.26it/s]\n"
     ]
    },
    {
     "name": "stdout",
     "output_type": "stream",
     "text": [
      "Epochs: 89 | Label Loss:  0.698 | Domain Loss:  1.407\n"
     ]
    },
    {
     "name": "stderr",
     "output_type": "stream",
     "text": [
      "20it [00:00, 65.51it/s]\n"
     ]
    },
    {
     "name": "stdout",
     "output_type": "stream",
     "text": [
      "Epochs: 90 | Label Loss:  0.695 | Domain Loss:  1.408\n"
     ]
    },
    {
     "name": "stderr",
     "output_type": "stream",
     "text": [
      "20it [00:00, 77.27it/s]\n"
     ]
    },
    {
     "name": "stdout",
     "output_type": "stream",
     "text": [
      "Epochs: 91 | Label Loss:  0.686 | Domain Loss:  1.408\n"
     ]
    },
    {
     "name": "stderr",
     "output_type": "stream",
     "text": [
      "20it [00:00, 80.79it/s]\n"
     ]
    },
    {
     "name": "stdout",
     "output_type": "stream",
     "text": [
      "Epochs: 92 | Label Loss:  0.683 | Domain Loss:  1.408\n"
     ]
    },
    {
     "name": "stderr",
     "output_type": "stream",
     "text": [
      "20it [00:00, 89.38it/s]\n"
     ]
    },
    {
     "name": "stdout",
     "output_type": "stream",
     "text": [
      "Epochs: 93 | Label Loss:  0.704 | Domain Loss:  1.408\n"
     ]
    },
    {
     "name": "stderr",
     "output_type": "stream",
     "text": [
      "20it [00:00, 52.69it/s]\n"
     ]
    },
    {
     "name": "stdout",
     "output_type": "stream",
     "text": [
      "Epochs: 94 | Label Loss:  0.683 | Domain Loss:  1.408\n"
     ]
    },
    {
     "name": "stderr",
     "output_type": "stream",
     "text": [
      "20it [00:00, 56.33it/s]\n"
     ]
    },
    {
     "name": "stdout",
     "output_type": "stream",
     "text": [
      "Epochs: 95 | Label Loss:  0.694 | Domain Loss:  1.409\n"
     ]
    },
    {
     "name": "stderr",
     "output_type": "stream",
     "text": [
      "20it [00:00, 63.57it/s]\n"
     ]
    },
    {
     "name": "stdout",
     "output_type": "stream",
     "text": [
      "Epochs: 96 | Label Loss:  0.697 | Domain Loss:  1.409\n"
     ]
    },
    {
     "name": "stderr",
     "output_type": "stream",
     "text": [
      "20it [00:00, 87.42it/s]\n"
     ]
    },
    {
     "name": "stdout",
     "output_type": "stream",
     "text": [
      "Epochs: 97 | Label Loss:  0.685 | Domain Loss:  1.409\n"
     ]
    },
    {
     "name": "stderr",
     "output_type": "stream",
     "text": [
      "20it [00:00, 84.80it/s]\n"
     ]
    },
    {
     "name": "stdout",
     "output_type": "stream",
     "text": [
      "Epochs: 98 | Label Loss:  0.682 | Domain Loss:  1.409\n"
     ]
    },
    {
     "name": "stderr",
     "output_type": "stream",
     "text": [
      "20it [00:00, 82.54it/s]\n"
     ]
    },
    {
     "name": "stdout",
     "output_type": "stream",
     "text": [
      "Epochs: 99 | Label Loss:  0.662 | Domain Loss:  1.409\n"
     ]
    },
    {
     "name": "stderr",
     "output_type": "stream",
     "text": [
      "20it [00:00, 69.70it/s]\n"
     ]
    },
    {
     "name": "stdout",
     "output_type": "stream",
     "text": [
      "Epochs: 100 | Label Loss:  0.678 | Domain Loss:  1.409\n"
     ]
    },
    {
     "name": "stderr",
     "output_type": "stream",
     "text": [
      "20it [00:00, 82.92it/s]\n"
     ]
    },
    {
     "name": "stdout",
     "output_type": "stream",
     "text": [
      "Epochs: 101 | Label Loss:  0.682 | Domain Loss:  1.409\n"
     ]
    },
    {
     "name": "stderr",
     "output_type": "stream",
     "text": [
      "20it [00:00, 86.99it/s]\n"
     ]
    },
    {
     "name": "stdout",
     "output_type": "stream",
     "text": [
      "Epochs: 102 | Label Loss:  0.680 | Domain Loss:  1.409\n"
     ]
    },
    {
     "name": "stderr",
     "output_type": "stream",
     "text": [
      "20it [00:00, 69.36it/s]\n"
     ]
    },
    {
     "name": "stdout",
     "output_type": "stream",
     "text": [
      "Epochs: 103 | Label Loss:  0.677 | Domain Loss:  1.409\n"
     ]
    },
    {
     "name": "stderr",
     "output_type": "stream",
     "text": [
      "20it [00:00, 74.24it/s]\n"
     ]
    },
    {
     "name": "stdout",
     "output_type": "stream",
     "text": [
      "Epochs: 104 | Label Loss:  0.667 | Domain Loss:  1.409\n"
     ]
    },
    {
     "name": "stderr",
     "output_type": "stream",
     "text": [
      "20it [00:00, 73.29it/s]\n"
     ]
    },
    {
     "name": "stdout",
     "output_type": "stream",
     "text": [
      "Epochs: 105 | Label Loss:  0.665 | Domain Loss:  1.409\n"
     ]
    },
    {
     "name": "stderr",
     "output_type": "stream",
     "text": [
      "20it [00:00, 63.27it/s]\n"
     ]
    },
    {
     "name": "stdout",
     "output_type": "stream",
     "text": [
      "Epochs: 106 | Label Loss:  0.676 | Domain Loss:  1.409\n"
     ]
    },
    {
     "name": "stderr",
     "output_type": "stream",
     "text": [
      "20it [00:00, 58.92it/s]\n"
     ]
    },
    {
     "name": "stdout",
     "output_type": "stream",
     "text": [
      "Epochs: 107 | Label Loss:  0.669 | Domain Loss:  1.409\n"
     ]
    },
    {
     "name": "stderr",
     "output_type": "stream",
     "text": [
      "20it [00:00, 61.82it/s]\n"
     ]
    },
    {
     "name": "stdout",
     "output_type": "stream",
     "text": [
      "Epochs: 108 | Label Loss:  0.672 | Domain Loss:  1.409\n"
     ]
    },
    {
     "name": "stderr",
     "output_type": "stream",
     "text": [
      "20it [00:00, 79.00it/s]\n"
     ]
    },
    {
     "name": "stdout",
     "output_type": "stream",
     "text": [
      "Epochs: 109 | Label Loss:  0.667 | Domain Loss:  1.408\n"
     ]
    },
    {
     "name": "stderr",
     "output_type": "stream",
     "text": [
      "20it [00:00, 67.31it/s]\n"
     ]
    },
    {
     "name": "stdout",
     "output_type": "stream",
     "text": [
      "Epochs: 110 | Label Loss:  0.656 | Domain Loss:  1.408\n"
     ]
    },
    {
     "name": "stderr",
     "output_type": "stream",
     "text": [
      "20it [00:00, 77.01it/s]\n"
     ]
    },
    {
     "name": "stdout",
     "output_type": "stream",
     "text": [
      "Epochs: 111 | Label Loss:  0.661 | Domain Loss:  1.408\n"
     ]
    },
    {
     "name": "stderr",
     "output_type": "stream",
     "text": [
      "20it [00:00, 87.97it/s]\n"
     ]
    },
    {
     "name": "stdout",
     "output_type": "stream",
     "text": [
      "Epochs: 112 | Label Loss:  0.659 | Domain Loss:  1.408\n"
     ]
    },
    {
     "name": "stderr",
     "output_type": "stream",
     "text": [
      "20it [00:00, 76.49it/s]\n"
     ]
    },
    {
     "name": "stdout",
     "output_type": "stream",
     "text": [
      "Epochs: 113 | Label Loss:  0.653 | Domain Loss:  1.408\n"
     ]
    },
    {
     "name": "stderr",
     "output_type": "stream",
     "text": [
      "20it [00:00, 75.33it/s]\n"
     ]
    },
    {
     "name": "stdout",
     "output_type": "stream",
     "text": [
      "Epochs: 114 | Label Loss:  0.651 | Domain Loss:  1.407\n"
     ]
    },
    {
     "name": "stderr",
     "output_type": "stream",
     "text": [
      "20it [00:00, 87.66it/s]\n"
     ]
    },
    {
     "name": "stdout",
     "output_type": "stream",
     "text": [
      "Epochs: 115 | Label Loss:  0.665 | Domain Loss:  1.407\n"
     ]
    },
    {
     "name": "stderr",
     "output_type": "stream",
     "text": [
      "20it [00:00, 84.62it/s]\n"
     ]
    },
    {
     "name": "stdout",
     "output_type": "stream",
     "text": [
      "Epochs: 116 | Label Loss:  0.657 | Domain Loss:  1.407\n"
     ]
    },
    {
     "name": "stderr",
     "output_type": "stream",
     "text": [
      "20it [00:00, 83.11it/s]\n"
     ]
    },
    {
     "name": "stdout",
     "output_type": "stream",
     "text": [
      "Epochs: 117 | Label Loss:  0.647 | Domain Loss:  1.407\n"
     ]
    },
    {
     "name": "stderr",
     "output_type": "stream",
     "text": [
      "20it [00:00, 87.23it/s]\n"
     ]
    },
    {
     "name": "stdout",
     "output_type": "stream",
     "text": [
      "Epochs: 118 | Label Loss:  0.656 | Domain Loss:  1.407\n"
     ]
    },
    {
     "name": "stderr",
     "output_type": "stream",
     "text": [
      "20it [00:00, 81.89it/s]\n"
     ]
    },
    {
     "name": "stdout",
     "output_type": "stream",
     "text": [
      "Epochs: 119 | Label Loss:  0.651 | Domain Loss:  1.407\n"
     ]
    },
    {
     "name": "stderr",
     "output_type": "stream",
     "text": [
      "20it [00:00, 60.65it/s]\n"
     ]
    },
    {
     "name": "stdout",
     "output_type": "stream",
     "text": [
      "Epochs: 120 | Label Loss:  0.649 | Domain Loss:  1.407\n"
     ]
    },
    {
     "name": "stderr",
     "output_type": "stream",
     "text": [
      "20it [00:00, 87.09it/s]\n"
     ]
    },
    {
     "name": "stdout",
     "output_type": "stream",
     "text": [
      "Epochs: 121 | Label Loss:  0.646 | Domain Loss:  1.407\n"
     ]
    },
    {
     "name": "stderr",
     "output_type": "stream",
     "text": [
      "20it [00:00, 69.51it/s]\n"
     ]
    },
    {
     "name": "stdout",
     "output_type": "stream",
     "text": [
      "Epochs: 122 | Label Loss:  0.636 | Domain Loss:  1.407\n"
     ]
    },
    {
     "name": "stderr",
     "output_type": "stream",
     "text": [
      "20it [00:00, 54.45it/s]\n"
     ]
    },
    {
     "name": "stdout",
     "output_type": "stream",
     "text": [
      "Epochs: 123 | Label Loss:  0.638 | Domain Loss:  1.406\n"
     ]
    },
    {
     "name": "stderr",
     "output_type": "stream",
     "text": [
      "20it [00:00, 79.24it/s]\n"
     ]
    },
    {
     "name": "stdout",
     "output_type": "stream",
     "text": [
      "Epochs: 124 | Label Loss:  0.633 | Domain Loss:  1.406\n"
     ]
    },
    {
     "name": "stderr",
     "output_type": "stream",
     "text": [
      "20it [00:00, 69.43it/s]\n"
     ]
    },
    {
     "name": "stdout",
     "output_type": "stream",
     "text": [
      "Epochs: 125 | Label Loss:  0.654 | Domain Loss:  1.406\n"
     ]
    },
    {
     "name": "stderr",
     "output_type": "stream",
     "text": [
      "20it [00:00, 74.07it/s]\n"
     ]
    },
    {
     "name": "stdout",
     "output_type": "stream",
     "text": [
      "Epochs: 126 | Label Loss:  0.632 | Domain Loss:  1.406\n"
     ]
    },
    {
     "name": "stderr",
     "output_type": "stream",
     "text": [
      "20it [00:00, 75.43it/s]\n"
     ]
    },
    {
     "name": "stdout",
     "output_type": "stream",
     "text": [
      "Epochs: 127 | Label Loss:  0.642 | Domain Loss:  1.406\n"
     ]
    },
    {
     "name": "stderr",
     "output_type": "stream",
     "text": [
      "20it [00:00, 69.69it/s]\n"
     ]
    },
    {
     "name": "stdout",
     "output_type": "stream",
     "text": [
      "Epochs: 128 | Label Loss:  0.615 | Domain Loss:  1.406\n"
     ]
    },
    {
     "name": "stderr",
     "output_type": "stream",
     "text": [
      "20it [00:00, 71.35it/s]\n"
     ]
    },
    {
     "name": "stdout",
     "output_type": "stream",
     "text": [
      "Epochs: 129 | Label Loss:  0.638 | Domain Loss:  1.406\n"
     ]
    },
    {
     "name": "stderr",
     "output_type": "stream",
     "text": [
      "20it [00:00, 88.04it/s]\n"
     ]
    },
    {
     "name": "stdout",
     "output_type": "stream",
     "text": [
      "Epochs: 130 | Label Loss:  0.632 | Domain Loss:  1.406\n"
     ]
    },
    {
     "name": "stderr",
     "output_type": "stream",
     "text": [
      "20it [00:00, 88.77it/s]\n"
     ]
    },
    {
     "name": "stdout",
     "output_type": "stream",
     "text": [
      "Epochs: 131 | Label Loss:  0.627 | Domain Loss:  1.406\n"
     ]
    },
    {
     "name": "stderr",
     "output_type": "stream",
     "text": [
      "20it [00:00, 69.56it/s]\n"
     ]
    },
    {
     "name": "stdout",
     "output_type": "stream",
     "text": [
      "Epochs: 132 | Label Loss:  0.624 | Domain Loss:  1.406\n"
     ]
    },
    {
     "name": "stderr",
     "output_type": "stream",
     "text": [
      "20it [00:00, 73.41it/s]\n"
     ]
    },
    {
     "name": "stdout",
     "output_type": "stream",
     "text": [
      "Epochs: 133 | Label Loss:  0.626 | Domain Loss:  1.406\n"
     ]
    },
    {
     "name": "stderr",
     "output_type": "stream",
     "text": [
      "20it [00:00, 86.25it/s]\n"
     ]
    },
    {
     "name": "stdout",
     "output_type": "stream",
     "text": [
      "Epochs: 134 | Label Loss:  0.628 | Domain Loss:  1.406\n"
     ]
    },
    {
     "name": "stderr",
     "output_type": "stream",
     "text": [
      "20it [00:00, 86.20it/s]\n"
     ]
    },
    {
     "name": "stdout",
     "output_type": "stream",
     "text": [
      "Epochs: 135 | Label Loss:  0.627 | Domain Loss:  1.406\n"
     ]
    },
    {
     "name": "stderr",
     "output_type": "stream",
     "text": [
      "20it [00:00, 85.33it/s]\n"
     ]
    },
    {
     "name": "stdout",
     "output_type": "stream",
     "text": [
      "Epochs: 136 | Label Loss:  0.610 | Domain Loss:  1.405\n"
     ]
    },
    {
     "name": "stderr",
     "output_type": "stream",
     "text": [
      "20it [00:00, 83.51it/s]\n"
     ]
    },
    {
     "name": "stdout",
     "output_type": "stream",
     "text": [
      "Epochs: 137 | Label Loss:  0.628 | Domain Loss:  1.405\n"
     ]
    },
    {
     "name": "stderr",
     "output_type": "stream",
     "text": [
      "20it [00:00, 84.32it/s]\n"
     ]
    },
    {
     "name": "stdout",
     "output_type": "stream",
     "text": [
      "Epochs: 138 | Label Loss:  0.607 | Domain Loss:  1.405\n"
     ]
    },
    {
     "name": "stderr",
     "output_type": "stream",
     "text": [
      "20it [00:00, 75.77it/s]\n"
     ]
    },
    {
     "name": "stdout",
     "output_type": "stream",
     "text": [
      "Epochs: 139 | Label Loss:  0.597 | Domain Loss:  1.405\n"
     ]
    },
    {
     "name": "stderr",
     "output_type": "stream",
     "text": [
      "20it [00:00, 52.80it/s]\n"
     ]
    },
    {
     "name": "stdout",
     "output_type": "stream",
     "text": [
      "Epochs: 140 | Label Loss:  0.611 | Domain Loss:  1.405\n"
     ]
    },
    {
     "name": "stderr",
     "output_type": "stream",
     "text": [
      "20it [00:00, 54.87it/s]\n"
     ]
    },
    {
     "name": "stdout",
     "output_type": "stream",
     "text": [
      "Epochs: 141 | Label Loss:  0.590 | Domain Loss:  1.405\n"
     ]
    },
    {
     "name": "stderr",
     "output_type": "stream",
     "text": [
      "20it [00:00, 59.75it/s]\n"
     ]
    },
    {
     "name": "stdout",
     "output_type": "stream",
     "text": [
      "Epochs: 142 | Label Loss:  0.613 | Domain Loss:  1.405\n"
     ]
    },
    {
     "name": "stderr",
     "output_type": "stream",
     "text": [
      "20it [00:00, 50.79it/s]\n"
     ]
    },
    {
     "name": "stdout",
     "output_type": "stream",
     "text": [
      "Epochs: 143 | Label Loss:  0.576 | Domain Loss:  1.404\n"
     ]
    },
    {
     "name": "stderr",
     "output_type": "stream",
     "text": [
      "20it [00:00, 72.64it/s]\n"
     ]
    },
    {
     "name": "stdout",
     "output_type": "stream",
     "text": [
      "Epochs: 144 | Label Loss:  0.590 | Domain Loss:  1.404\n"
     ]
    },
    {
     "name": "stderr",
     "output_type": "stream",
     "text": [
      "20it [00:00, 60.27it/s]\n"
     ]
    },
    {
     "name": "stdout",
     "output_type": "stream",
     "text": [
      "Epochs: 145 | Label Loss:  0.599 | Domain Loss:  1.404\n"
     ]
    },
    {
     "name": "stderr",
     "output_type": "stream",
     "text": [
      "20it [00:00, 63.07it/s]\n"
     ]
    },
    {
     "name": "stdout",
     "output_type": "stream",
     "text": [
      "Epochs: 146 | Label Loss:  0.599 | Domain Loss:  1.404\n"
     ]
    },
    {
     "name": "stderr",
     "output_type": "stream",
     "text": [
      "20it [00:00, 80.11it/s]\n"
     ]
    },
    {
     "name": "stdout",
     "output_type": "stream",
     "text": [
      "Epochs: 147 | Label Loss:  0.585 | Domain Loss:  1.404\n"
     ]
    },
    {
     "name": "stderr",
     "output_type": "stream",
     "text": [
      "20it [00:00, 65.10it/s]\n"
     ]
    },
    {
     "name": "stdout",
     "output_type": "stream",
     "text": [
      "Epochs: 148 | Label Loss:  0.584 | Domain Loss:  1.403\n"
     ]
    },
    {
     "name": "stderr",
     "output_type": "stream",
     "text": [
      "20it [00:00, 75.67it/s]\n"
     ]
    },
    {
     "name": "stdout",
     "output_type": "stream",
     "text": [
      "Epochs: 149 | Label Loss:  0.588 | Domain Loss:  1.403\n"
     ]
    },
    {
     "name": "stderr",
     "output_type": "stream",
     "text": [
      "20it [00:00, 60.31it/s]\n"
     ]
    },
    {
     "name": "stdout",
     "output_type": "stream",
     "text": [
      "Epochs: 150 | Label Loss:  0.578 | Domain Loss:  1.403\n"
     ]
    },
    {
     "name": "stderr",
     "output_type": "stream",
     "text": [
      "20it [00:00, 62.03it/s]\n"
     ]
    },
    {
     "name": "stdout",
     "output_type": "stream",
     "text": [
      "Epochs: 151 | Label Loss:  0.585 | Domain Loss:  1.403\n"
     ]
    },
    {
     "name": "stderr",
     "output_type": "stream",
     "text": [
      "20it [00:00, 61.42it/s]\n"
     ]
    },
    {
     "name": "stdout",
     "output_type": "stream",
     "text": [
      "Epochs: 152 | Label Loss:  0.584 | Domain Loss:  1.403\n"
     ]
    },
    {
     "name": "stderr",
     "output_type": "stream",
     "text": [
      "20it [00:00, 62.09it/s]\n"
     ]
    },
    {
     "name": "stdout",
     "output_type": "stream",
     "text": [
      "Epochs: 153 | Label Loss:  0.582 | Domain Loss:  1.402\n"
     ]
    },
    {
     "name": "stderr",
     "output_type": "stream",
     "text": [
      "20it [00:00, 59.53it/s]\n"
     ]
    },
    {
     "name": "stdout",
     "output_type": "stream",
     "text": [
      "Epochs: 154 | Label Loss:  0.582 | Domain Loss:  1.402\n"
     ]
    },
    {
     "name": "stderr",
     "output_type": "stream",
     "text": [
      "20it [00:00, 60.76it/s]\n"
     ]
    },
    {
     "name": "stdout",
     "output_type": "stream",
     "text": [
      "Epochs: 155 | Label Loss:  0.559 | Domain Loss:  1.402\n"
     ]
    },
    {
     "name": "stderr",
     "output_type": "stream",
     "text": [
      "20it [00:00, 57.65it/s]\n"
     ]
    },
    {
     "name": "stdout",
     "output_type": "stream",
     "text": [
      "Epochs: 156 | Label Loss:  0.551 | Domain Loss:  1.402\n"
     ]
    },
    {
     "name": "stderr",
     "output_type": "stream",
     "text": [
      "20it [00:00, 47.79it/s]\n"
     ]
    },
    {
     "name": "stdout",
     "output_type": "stream",
     "text": [
      "Epochs: 157 | Label Loss:  0.587 | Domain Loss:  1.401\n"
     ]
    },
    {
     "name": "stderr",
     "output_type": "stream",
     "text": [
      "20it [00:00, 51.20it/s]\n"
     ]
    },
    {
     "name": "stdout",
     "output_type": "stream",
     "text": [
      "Epochs: 158 | Label Loss:  0.574 | Domain Loss:  1.401\n"
     ]
    },
    {
     "name": "stderr",
     "output_type": "stream",
     "text": [
      "20it [00:00, 48.82it/s]\n"
     ]
    },
    {
     "name": "stdout",
     "output_type": "stream",
     "text": [
      "Epochs: 159 | Label Loss:  0.576 | Domain Loss:  1.401\n"
     ]
    },
    {
     "name": "stderr",
     "output_type": "stream",
     "text": [
      "20it [00:00, 48.83it/s]\n"
     ]
    },
    {
     "name": "stdout",
     "output_type": "stream",
     "text": [
      "Epochs: 160 | Label Loss:  0.567 | Domain Loss:  1.401\n"
     ]
    },
    {
     "name": "stderr",
     "output_type": "stream",
     "text": [
      "20it [00:00, 48.87it/s]\n"
     ]
    },
    {
     "name": "stdout",
     "output_type": "stream",
     "text": [
      "Epochs: 161 | Label Loss:  0.572 | Domain Loss:  1.401\n"
     ]
    },
    {
     "name": "stderr",
     "output_type": "stream",
     "text": [
      "20it [00:00, 49.13it/s]\n"
     ]
    },
    {
     "name": "stdout",
     "output_type": "stream",
     "text": [
      "Epochs: 162 | Label Loss:  0.561 | Domain Loss:  1.400\n"
     ]
    },
    {
     "name": "stderr",
     "output_type": "stream",
     "text": [
      "20it [00:00, 49.60it/s]\n"
     ]
    },
    {
     "name": "stdout",
     "output_type": "stream",
     "text": [
      "Epochs: 163 | Label Loss:  0.552 | Domain Loss:  1.400\n"
     ]
    },
    {
     "name": "stderr",
     "output_type": "stream",
     "text": [
      "20it [00:00, 50.49it/s]\n"
     ]
    },
    {
     "name": "stdout",
     "output_type": "stream",
     "text": [
      "Epochs: 164 | Label Loss:  0.546 | Domain Loss:  1.400\n"
     ]
    },
    {
     "name": "stderr",
     "output_type": "stream",
     "text": [
      "20it [00:00, 54.47it/s]\n"
     ]
    },
    {
     "name": "stdout",
     "output_type": "stream",
     "text": [
      "Epochs: 165 | Label Loss:  0.559 | Domain Loss:  1.400\n"
     ]
    },
    {
     "name": "stderr",
     "output_type": "stream",
     "text": [
      "20it [00:00, 53.98it/s]\n"
     ]
    },
    {
     "name": "stdout",
     "output_type": "stream",
     "text": [
      "Epochs: 166 | Label Loss:  0.559 | Domain Loss:  1.400\n"
     ]
    },
    {
     "name": "stderr",
     "output_type": "stream",
     "text": [
      "20it [00:00, 53.23it/s]\n"
     ]
    },
    {
     "name": "stdout",
     "output_type": "stream",
     "text": [
      "Epochs: 167 | Label Loss:  0.540 | Domain Loss:  1.399\n"
     ]
    },
    {
     "name": "stderr",
     "output_type": "stream",
     "text": [
      "20it [00:00, 53.16it/s]\n"
     ]
    },
    {
     "name": "stdout",
     "output_type": "stream",
     "text": [
      "Epochs: 168 | Label Loss:  0.554 | Domain Loss:  1.400\n"
     ]
    },
    {
     "name": "stderr",
     "output_type": "stream",
     "text": [
      "20it [00:00, 52.69it/s]\n"
     ]
    },
    {
     "name": "stdout",
     "output_type": "stream",
     "text": [
      "Epochs: 169 | Label Loss:  0.543 | Domain Loss:  1.399\n"
     ]
    },
    {
     "name": "stderr",
     "output_type": "stream",
     "text": [
      "20it [00:00, 52.45it/s]\n"
     ]
    },
    {
     "name": "stdout",
     "output_type": "stream",
     "text": [
      "Epochs: 170 | Label Loss:  0.541 | Domain Loss:  1.399\n"
     ]
    },
    {
     "name": "stderr",
     "output_type": "stream",
     "text": [
      "20it [00:00, 52.47it/s]\n"
     ]
    },
    {
     "name": "stdout",
     "output_type": "stream",
     "text": [
      "Epochs: 171 | Label Loss:  0.546 | Domain Loss:  1.399\n"
     ]
    },
    {
     "name": "stderr",
     "output_type": "stream",
     "text": [
      "20it [00:00, 47.06it/s]\n"
     ]
    },
    {
     "name": "stdout",
     "output_type": "stream",
     "text": [
      "Epochs: 172 | Label Loss:  0.559 | Domain Loss:  1.399\n"
     ]
    },
    {
     "name": "stderr",
     "output_type": "stream",
     "text": [
      "20it [00:00, 46.01it/s]\n"
     ]
    },
    {
     "name": "stdout",
     "output_type": "stream",
     "text": [
      "Epochs: 173 | Label Loss:  0.539 | Domain Loss:  1.399\n"
     ]
    },
    {
     "name": "stderr",
     "output_type": "stream",
     "text": [
      "20it [00:00, 47.14it/s]\n"
     ]
    },
    {
     "name": "stdout",
     "output_type": "stream",
     "text": [
      "Epochs: 174 | Label Loss:  0.533 | Domain Loss:  1.399\n"
     ]
    },
    {
     "name": "stderr",
     "output_type": "stream",
     "text": [
      "20it [00:00, 47.12it/s]\n"
     ]
    },
    {
     "name": "stdout",
     "output_type": "stream",
     "text": [
      "Epochs: 175 | Label Loss:  0.529 | Domain Loss:  1.399\n"
     ]
    },
    {
     "name": "stderr",
     "output_type": "stream",
     "text": [
      "20it [00:00, 44.45it/s]\n"
     ]
    },
    {
     "name": "stdout",
     "output_type": "stream",
     "text": [
      "Epochs: 176 | Label Loss:  0.537 | Domain Loss:  1.399\n"
     ]
    },
    {
     "name": "stderr",
     "output_type": "stream",
     "text": [
      "20it [00:00, 45.95it/s]\n"
     ]
    },
    {
     "name": "stdout",
     "output_type": "stream",
     "text": [
      "Epochs: 177 | Label Loss:  0.551 | Domain Loss:  1.398\n"
     ]
    },
    {
     "name": "stderr",
     "output_type": "stream",
     "text": [
      "20it [00:00, 44.64it/s]\n"
     ]
    },
    {
     "name": "stdout",
     "output_type": "stream",
     "text": [
      "Epochs: 178 | Label Loss:  0.525 | Domain Loss:  1.398\n"
     ]
    },
    {
     "name": "stderr",
     "output_type": "stream",
     "text": [
      "20it [00:00, 52.28it/s]\n"
     ]
    },
    {
     "name": "stdout",
     "output_type": "stream",
     "text": [
      "Epochs: 179 | Label Loss:  0.537 | Domain Loss:  1.398\n"
     ]
    },
    {
     "name": "stderr",
     "output_type": "stream",
     "text": [
      "20it [00:00, 58.00it/s]\n"
     ]
    },
    {
     "name": "stdout",
     "output_type": "stream",
     "text": [
      "Epochs: 180 | Label Loss:  0.523 | Domain Loss:  1.398\n"
     ]
    },
    {
     "name": "stderr",
     "output_type": "stream",
     "text": [
      "20it [00:00, 56.61it/s]\n"
     ]
    },
    {
     "name": "stdout",
     "output_type": "stream",
     "text": [
      "Epochs: 181 | Label Loss:  0.535 | Domain Loss:  1.398\n"
     ]
    },
    {
     "name": "stderr",
     "output_type": "stream",
     "text": [
      "20it [00:00, 55.83it/s]\n"
     ]
    },
    {
     "name": "stdout",
     "output_type": "stream",
     "text": [
      "Epochs: 182 | Label Loss:  0.525 | Domain Loss:  1.398\n"
     ]
    },
    {
     "name": "stderr",
     "output_type": "stream",
     "text": [
      "20it [00:00, 55.66it/s]\n"
     ]
    },
    {
     "name": "stdout",
     "output_type": "stream",
     "text": [
      "Epochs: 183 | Label Loss:  0.504 | Domain Loss:  1.398\n"
     ]
    },
    {
     "name": "stderr",
     "output_type": "stream",
     "text": [
      "20it [00:00, 57.26it/s]\n"
     ]
    },
    {
     "name": "stdout",
     "output_type": "stream",
     "text": [
      "Epochs: 184 | Label Loss:  0.515 | Domain Loss:  1.398\n"
     ]
    },
    {
     "name": "stderr",
     "output_type": "stream",
     "text": [
      "20it [00:00, 56.90it/s]\n"
     ]
    },
    {
     "name": "stdout",
     "output_type": "stream",
     "text": [
      "Epochs: 185 | Label Loss:  0.518 | Domain Loss:  1.398\n"
     ]
    },
    {
     "name": "stderr",
     "output_type": "stream",
     "text": [
      "20it [00:00, 55.26it/s]\n"
     ]
    },
    {
     "name": "stdout",
     "output_type": "stream",
     "text": [
      "Epochs: 186 | Label Loss:  0.521 | Domain Loss:  1.398\n"
     ]
    },
    {
     "name": "stderr",
     "output_type": "stream",
     "text": [
      "20it [00:00, 55.38it/s]\n"
     ]
    },
    {
     "name": "stdout",
     "output_type": "stream",
     "text": [
      "Epochs: 187 | Label Loss:  0.504 | Domain Loss:  1.397\n"
     ]
    },
    {
     "name": "stderr",
     "output_type": "stream",
     "text": [
      "20it [00:00, 57.04it/s]\n"
     ]
    },
    {
     "name": "stdout",
     "output_type": "stream",
     "text": [
      "Epochs: 188 | Label Loss:  0.504 | Domain Loss:  1.397\n"
     ]
    },
    {
     "name": "stderr",
     "output_type": "stream",
     "text": [
      "20it [00:00, 57.12it/s]\n"
     ]
    },
    {
     "name": "stdout",
     "output_type": "stream",
     "text": [
      "Epochs: 189 | Label Loss:  0.506 | Domain Loss:  1.397\n"
     ]
    },
    {
     "name": "stderr",
     "output_type": "stream",
     "text": [
      "20it [00:00, 55.62it/s]\n"
     ]
    },
    {
     "name": "stdout",
     "output_type": "stream",
     "text": [
      "Epochs: 190 | Label Loss:  0.499 | Domain Loss:  1.397\n"
     ]
    },
    {
     "name": "stderr",
     "output_type": "stream",
     "text": [
      "20it [00:00, 56.28it/s]\n"
     ]
    },
    {
     "name": "stdout",
     "output_type": "stream",
     "text": [
      "Epochs: 191 | Label Loss:  0.493 | Domain Loss:  1.397\n"
     ]
    },
    {
     "name": "stderr",
     "output_type": "stream",
     "text": [
      "20it [00:00, 55.33it/s]\n"
     ]
    },
    {
     "name": "stdout",
     "output_type": "stream",
     "text": [
      "Epochs: 192 | Label Loss:  0.517 | Domain Loss:  1.397\n"
     ]
    },
    {
     "name": "stderr",
     "output_type": "stream",
     "text": [
      "20it [00:00, 55.95it/s]\n"
     ]
    },
    {
     "name": "stdout",
     "output_type": "stream",
     "text": [
      "Epochs: 193 | Label Loss:  0.500 | Domain Loss:  1.397\n"
     ]
    },
    {
     "name": "stderr",
     "output_type": "stream",
     "text": [
      "20it [00:00, 57.07it/s]\n"
     ]
    },
    {
     "name": "stdout",
     "output_type": "stream",
     "text": [
      "Epochs: 194 | Label Loss:  0.497 | Domain Loss:  1.397\n"
     ]
    },
    {
     "name": "stderr",
     "output_type": "stream",
     "text": [
      "20it [00:00, 58.34it/s]\n"
     ]
    },
    {
     "name": "stdout",
     "output_type": "stream",
     "text": [
      "Epochs: 195 | Label Loss:  0.497 | Domain Loss:  1.397\n"
     ]
    },
    {
     "name": "stderr",
     "output_type": "stream",
     "text": [
      "20it [00:00, 58.01it/s]\n"
     ]
    },
    {
     "name": "stdout",
     "output_type": "stream",
     "text": [
      "Epochs: 196 | Label Loss:  0.489 | Domain Loss:  1.397\n"
     ]
    },
    {
     "name": "stderr",
     "output_type": "stream",
     "text": [
      "20it [00:00, 57.01it/s]\n"
     ]
    },
    {
     "name": "stdout",
     "output_type": "stream",
     "text": [
      "Epochs: 197 | Label Loss:  0.493 | Domain Loss:  1.396\n"
     ]
    },
    {
     "name": "stderr",
     "output_type": "stream",
     "text": [
      "20it [00:00, 49.88it/s]\n"
     ]
    },
    {
     "name": "stdout",
     "output_type": "stream",
     "text": [
      "Epochs: 198 | Label Loss:  0.497 | Domain Loss:  1.397\n"
     ]
    },
    {
     "name": "stderr",
     "output_type": "stream",
     "text": [
      "20it [00:00, 49.92it/s]\n"
     ]
    },
    {
     "name": "stdout",
     "output_type": "stream",
     "text": [
      "Epochs: 199 | Label Loss:  0.497 | Domain Loss:  1.397\n"
     ]
    },
    {
     "name": "stderr",
     "output_type": "stream",
     "text": [
      "20it [00:00, 49.96it/s]"
     ]
    },
    {
     "name": "stdout",
     "output_type": "stream",
     "text": [
      "Epochs: 200 | Label Loss:  0.478 | Domain Loss:  1.397\n",
      "CPU times: user 57.2 s, sys: 1.66 s, total: 58.9 s\n",
      "Wall time: 1min 5s\n"
     ]
    },
    {
     "name": "stderr",
     "output_type": "stream",
     "text": [
      "\n"
     ]
    }
   ],
   "source": [
    "%%time\n",
    "model, train_label_loss_list, train_domain_loss_list = train()"
   ]
  },
  {
   "cell_type": "markdown",
   "id": "infectious-supervisor",
   "metadata": {},
   "source": [
    "# Visualization"
   ]
  },
  {
   "cell_type": "code",
   "execution_count": 32,
   "id": "identified-joining",
   "metadata": {
    "ExecuteTime": {
     "end_time": "2023-07-06T10:09:40.235435Z",
     "start_time": "2023-07-06T10:09:40.230950Z"
    }
   },
   "outputs": [],
   "source": [
    "sns.set()"
   ]
  },
  {
   "cell_type": "code",
   "execution_count": 33,
   "id": "composite-treat",
   "metadata": {
    "ExecuteTime": {
     "end_time": "2023-07-06T10:09:40.585135Z",
     "start_time": "2023-07-06T10:09:40.237334Z"
    }
   },
   "outputs": [
    {
     "data": {
      "image/png": "[encoded data removed]",
      "text/plain": [
       "<Figure size 432x288 with 1 Axes>"
      ]
     },
     "metadata": {},
     "output_type": "display_data"
    }
   ],
   "source": [
    "# Loss\n",
    "my_utils.plot_result([train_label_loss_list], [train_domain_loss_list], [\"total_loss\"])"
   ]
  },
  {
   "cell_type": "markdown",
   "id": "norman-vaccine",
   "metadata": {},
   "source": [
    "# Model Testing"
   ]
  },
  {
   "cell_type": "code",
   "execution_count": 34,
   "id": "unavailable-convert",
   "metadata": {
    "ExecuteTime": {
     "end_time": "2023-07-06T10:09:40.597090Z",
     "start_time": "2023-07-06T10:09:40.587213Z"
    }
   },
   "outputs": [],
   "source": [
    "def test(model):\n",
    "\n",
    "    # Test Dataset\n",
    "    test = Dataset(df=test_df, embeddings=test_embedding)\n",
    "    \n",
    "    # Test DataLoader\n",
    "    test_dataloader = DataLoader(test, batch_size=BATCH_SIZE, shuffle=False)\n",
    "        \n",
    "    # Set the state of the model to \"Evaluation\"\n",
    "    model.eval()\n",
    "\n",
    "    # To save the test result\n",
    "    test_true = torch.tensor([])\n",
    "    test_pred = torch.tensor([])\n",
    "\n",
    "    # Test\n",
    "    with torch.no_grad():\n",
    "\n",
    "        # Test with batches\n",
    "        for test_embeddings, test_label, test_speaking_order in tqdm(test_dataloader):\n",
    "\n",
    "            # Feed the data into the model\n",
    "            test_embeddings = test_embeddings.to(DEVICE)\n",
    "            test_speaking_order = test_speaking_order.to(DEVICE)\n",
    "            output, _ = model(test_embeddings, test_speaking_order, alpha=0)\n",
    "            output = torch.argmax(torch.squeeze(output), dim=-1).cpu()\n",
    "\n",
    "            # Save the result of each batch\n",
    "            test_true = torch.cat([test_true, test_label])\n",
    "            test_pred = torch.cat([test_pred, output])\n",
    "\n",
    "        # Calculate Metrics\n",
    "        test_accuracy = accuracy_score(test_true, test_pred)\n",
    "        test_precision = precision_score(test_true, test_pred, average='macro')\n",
    "        test_recall = recall_score(test_true, test_pred, average='macro')\n",
    "        test_f1 = f1_score(test_true, test_pred, average='macro')\n",
    "        \n",
    "    print(f\"test_accuracy: {round(test_accuracy * 100, 2)}%\")\n",
    "    print(f\"test_precision: {round(test_precision * 100, 2)}%\")\n",
    "    print(f\"test_recall: {round(test_recall * 100, 2)}%\")\n",
    "    print(f\"test_f1: {round(test_f1 * 100, 2)}%\")\n",
    "    \n",
    "    # Draw the result\n",
    "    my_utils.plot_report(test_true, test_pred, list(LABEL_MAPPING.keys()))\n",
    "    my_utils.plot_confusion_matrix(test_true, test_pred, list(LABEL_MAPPING.values()), list(LABEL_MAPPING.keys()))\n",
    "        \n",
    "    return test_accuracy, test_precision, test_recall, test_f1, test_true, test_pred"
   ]
  },
  {
   "cell_type": "code",
   "execution_count": 35,
   "id": "golden-studio",
   "metadata": {
    "ExecuteTime": {
     "end_time": "2023-07-06T10:09:40.971528Z",
     "start_time": "2023-07-06T10:09:40.599265Z"
    }
   },
   "outputs": [
    {
     "name": "stderr",
     "output_type": "stream",
     "text": [
      "100%|██████████| 6/6 [00:00<00:00, 238.97it/s]\n"
     ]
    },
    {
     "name": "stdout",
     "output_type": "stream",
     "text": [
      "test_accuracy: 45.22%\n",
      "test_precision: 45.1%\n",
      "test_recall: 43.4%\n",
      "test_f1: 42.7%\n",
      "              precision    recall  f1-score   support\n",
      "\n",
      "     neutral     0.4785    0.3559    0.4082       281\n",
      "    negative     0.4433    0.6640    0.5316       253\n",
      "    positive     0.4314    0.2821    0.3411       156\n",
      "\n",
      "    accuracy                         0.4522       690\n",
      "   macro avg     0.4510    0.4340    0.4270       690\n",
      "weighted avg     0.4549    0.4522    0.4383       690\n",
      "\n"
     ]
    },
    {
     "data": {
      "image/png": "[encoded data removed]",
      "text/plain": [
       "<Figure size 432x288 with 2 Axes>"
      ]
     },
     "metadata": {},
     "output_type": "display_data"
    }
   ],
   "source": [
    "test_accuracy, test_precision, test_recall, test_f1, test_true, test_pred = test(model)"
   ]
  },
  {
   "cell_type": "code",
   "execution_count": 36,
   "id": "narrow-builder",
   "metadata": {
    "ExecuteTime": {
     "end_time": "2023-07-06T10:09:41.206211Z",
     "start_time": "2023-07-06T10:09:40.973517Z"
    },
    "code_folding": [],
    "scrolled": true
   },
   "outputs": [
    {
     "name": "stdout",
     "output_type": "stream",
     "text": [
      "['語者一：欸欸下週旅行要怎麼去啊', '語者一：要不要一起搭高鐵', '語者二：蛤可是高鐵很貴欸', '語者二：我最近好窮', '語者一：有學生票啊', '語者一：折很多吧', '語者二：也才85折而已還是好貴', '語者二：還是我們就搭客運啊']\n",
      "True: negative (1)\n",
      "Pred: negative (1) \n",
      "Next Sentence: 不要啦客運很久欸\n",
      "======================================================================\n",
      "['語者一：蛤可是高鐵很貴欸', '語者一：我最近好窮', '語者二：有學生票啊', '語者二：折很多吧', '語者一：也才85折而已還是好貴', '語者一：還是我們就搭客運啊', '語者二：不要啦客運很久欸', '語者二：搭過去一天就都沒了']\n",
      "True: negative (1)\n",
      "Pred: negative (1) \n",
      "Next Sentence: 但這樣好貴我不想花那麼多錢\n",
      "======================================================================\n",
      "['語者一：我最近好窮', '語者二：有學生票啊', '語者二：折很多吧', '語者一：也才85折而已還是好貴', '語者一：還是我們就搭客運啊', '語者二：不要啦客運很久欸', '語者二：搭過去一天就都沒了', '語者一：但這樣好貴我不想花那麼多錢']\n",
      "True: neutral (0)\n",
      "Pred: negative (1) X\n",
      "Next Sentence: 那不然我們搭早一點的\n",
      "======================================================================\n",
      "['語者一：也才85折而已還是好貴', '語者一：還是我們就搭客運啊', '語者二：不要啦客運很久欸', '語者二：搭過去一天就都沒了', '語者一：但這樣好貴我不想花那麼多錢', '語者二：那不然我們搭早一點的', '語者二：五折的那種勒', '語者二：這樣我們還可以早點去玩']\n",
      "True: neutral (0)\n",
      "Pred: negative (1) X\n",
      "Next Sentence: 好像也不是不行\n",
      "======================================================================\n",
      "['語者一：不要啦客運很久欸', '語者一：搭過去一天就都沒了', '語者二：但這樣好貴我不想花那麼多錢', '語者一：那不然我們搭早一點的', '語者一：五折的那種勒', '語者一：這樣我們還可以早點去玩', '語者二：好像也不是不行', '語者二：那你先查查看有幾點有五折票']\n",
      "True: neutral (0)\n",
      "Pred: negative (1) X\n",
      "Next Sentence: 好我看一下\n",
      "======================================================================\n",
      "['語者一：但這樣好貴我不想花那麼多錢', '語者二：那不然我們搭早一點的', '語者二：五折的那種勒', '語者二：這樣我們還可以早點去玩', '語者一：好像也不是不行', '語者一：那你先查查看有幾點有五折票', '語者二：好我看一下', '語者二：那天早上八點跟九點都有班次']\n",
      "True: neutral (0)\n",
      "Pred: neutral (0) \n",
      "Next Sentence: 那還是我們就先訂9點那班\n",
      "======================================================================\n",
      "['語者一：那不然我們搭早一點的', '語者一：五折的那種勒', '語者一：這樣我們還可以早點去玩', '語者二：好像也不是不行', '語者二：那你先查查看有幾點有五折票', '語者一：好我看一下', '語者一：那天早上八點跟九點都有班次', '語者二：那還是我們就先訂9點那班']\n",
      "True: neutral (0)\n",
      "Pred: negative (1) X\n",
      "Next Sentence: 好啊那我先訂哦\n",
      "======================================================================\n",
      "['語者一：五折的那種勒', '語者一：這樣我們還可以早點去玩', '語者二：好像也不是不行', '語者二：那你先查查看有幾點有五折票', '語者一：好我看一下', '語者一：那天早上八點跟九點都有班次', '語者二：那還是我們就先訂9點那班', '語者一：好啊那我先訂哦']\n",
      "True: neutral (0)\n",
      "Pred: negative (1) X\n",
      "Next Sentence: 好 反正到時候可以再改\n",
      "======================================================================\n",
      "['語者一：這樣我們還可以早點去玩', '語者二：好像也不是不行', '語者二：那你先查查看有幾點有五折票', '語者一：好我看一下', '語者一：那天早上八點跟九點都有班次', '語者二：那還是我們就先訂9點那班', '語者一：好啊那我先訂哦', '語者二：好 反正到時候可以再改']\n",
      "True: neutral (0)\n",
      "Pred: negative (1) X\n",
      "Next Sentence: 好那我先訂然後跟大家說\n",
      "======================================================================\n",
      "['語者一：那你先查查看有幾點有五折票', '語者二：好我看一下', '語者二：那天早上八點跟九點都有班次', '語者一：那還是我們就先訂9點那班', '語者二：好啊那我先訂哦', '語者一：好 反正到時候可以再改', '語者二：好那我先訂然後跟大家說', '語者二：看有沒有人要一起哈哈哈']\n",
      "True: positive (2)\n",
      "Pred: neutral (0) X\n",
      "Next Sentence: 好啊那就先這樣\n",
      "======================================================================\n",
      "['語者一：小姐您好，我們專櫃現在推出皮夾買一送一的優惠', '語者一：您有興趣參考看看嗎', '語者二：欸我沒有急需皮夾耶', '語者一：但我們買一送一的活動只到今天唷', '語者一：而且是知名品牌的產品', '語者二：好那我看一下好了', '語者一：沒問題，您這邊請', '語者一：這款是今年最新款，售價12000']\n",
      "True: neutral (0)\n",
      "Pred: positive (2) X\n",
      "Next Sentence: 你說的買一送一就是這款嗎\n",
      "======================================================================\n",
      "['語者一：您有興趣參考看看嗎', '語者二：欸我沒有急需皮夾耶', '語者一：但我們買一送一的活動只到今天唷', '語者一：而且是知名品牌的產品', '語者二：好那我看一下好了', '語者一：沒問題，您這邊請', '語者一：這款是今年最新款，售價12000', '語者二：你說的買一送一就是這款嗎']\n",
      "True: neutral (0)\n",
      "Pred: neutral (0) \n",
      "Next Sentence: 對的沒有錯，因此這個價格可以直接買到兩組\n",
      "======================================================================\n",
      "['語者一：欸我沒有急需皮夾耶', '語者二：但我們買一送一的活動只到今天唷', '語者二：而且是知名品牌的產品', '語者一：好那我看一下好了', '語者二：沒問題，您這邊請', '語者二：這款是今年最新款，售價12000', '語者一：你說的買一送一就是這款嗎', '語者二：對的沒有錯，因此這個價格可以直接買到兩組']\n",
      "True: neutral (0)\n",
      "Pred: negative (1) X\n",
      "Next Sentence: 所以一定只能選同款嗎\n",
      "======================================================================\n",
      "['語者一：但我們買一送一的活動只到今天唷', '語者一：而且是知名品牌的產品', '語者二：好那我看一下好了', '語者一：沒問題，您這邊請', '語者一：這款是今年最新款，售價12000', '語者二：你說的買一送一就是這款嗎', '語者一：對的沒有錯，因此這個價格可以直接買到兩組', '語者二：所以一定只能選同款嗎']\n",
      "True: neutral (0)\n",
      "Pred: neutral (0) \n",
      "Next Sentence: 對的我們的活動只限定於這款商品\n",
      "======================================================================\n",
      "['語者一：而且是知名品牌的產品', '語者二：好那我看一下好了', '語者一：沒問題，您這邊請', '語者一：這款是今年最新款，售價12000', '語者二：你說的買一送一就是這款嗎', '語者一：對的沒有錯，因此這個價格可以直接買到兩組', '語者二：所以一定只能選同款嗎', '語者一：對的我們的活動只限定於這款商品']\n",
      "True: positive (2)\n",
      "Pred: negative (1) X\n",
      "Next Sentence: 但我買兩個一樣的皮夾要幹嘛哈哈哈\n",
      "======================================================================\n",
      "['語者一：好那我看一下好了', '語者二：沒問題，您這邊請', '語者二：這款是今年最新款，售價12000', '語者一：你說的買一送一就是這款嗎', '語者二：對的沒有錯，因此這個價格可以直接買到兩組', '語者一：所以一定只能選同款嗎', '語者二：對的我們的活動只限定於這款商品', '語者一：但我買兩個一樣的皮夾要幹嘛哈哈哈']\n",
      "True: positive (2)\n",
      "Pred: neutral (0) X\n",
      "Next Sentence: 您可以一款自留一款送人呀\n",
      "======================================================================\n",
      "['語者一：這款是今年最新款，售價12000', '語者二：你說的買一送一就是這款嗎', '語者一：對的沒有錯，因此這個價格可以直接買到兩組', '語者二：所以一定只能選同款嗎', '語者一：對的我們的活動只限定於這款商品', '語者二：但我買兩個一樣的皮夾要幹嘛哈哈哈', '語者一：您可以一款自留一款送人呀', '語者一：很多人選擇當作情侶皮夾唷']\n",
      "True: neutral (0)\n",
      "Pred: negative (1) X\n",
      "Next Sentence: 哦哦哦但我自己沒有這個習慣欸\n",
      "======================================================================\n",
      "['語者一：你說的買一送一就是這款嗎', '語者二：對的沒有錯，因此這個價格可以直接買到兩組', '語者一：所以一定只能選同款嗎', '語者二：對的我們的活動只限定於這款商品', '語者一：但我買兩個一樣的皮夾要幹嘛哈哈哈', '語者二：您可以一款自留一款送人呀', '語者二：很多人選擇當作情侶皮夾唷', '語者一：哦哦哦但我自己沒有這個習慣欸']\n",
      "True: positive (2)\n",
      "Pred: negative (1) X\n",
      "Next Sentence: 或者說您也可以送家人當作一點小心意\n",
      "======================================================================\n",
      "['語者一：對的沒有錯，因此這個價格可以直接買到兩組', '語者二：所以一定只能選同款嗎', '語者一：對的我們的活動只限定於這款商品', '語者二：但我買兩個一樣的皮夾要幹嘛哈哈哈', '語者一：您可以一款自留一款送人呀', '語者一：很多人選擇當作情侶皮夾唷', '語者二：哦哦哦但我自己沒有這個習慣欸', '語者一：或者說您也可以送家人當作一點小心意']\n",
      "True: positive (2)\n",
      "Pred: positive (2) \n",
      "Next Sentence: 我懂你意思哈哈哈\n",
      "======================================================================\n",
      "['語者一：對的我們的活動只限定於這款商品', '語者二：但我買兩個一樣的皮夾要幹嘛哈哈哈', '語者一：您可以一款自留一款送人呀', '語者一：很多人選擇當作情侶皮夾唷', '語者二：哦哦哦但我自己沒有這個習慣欸', '語者一：或者說您也可以送家人當作一點小心意', '語者二：我懂你意思哈哈哈', '語者二：我想一下好了']\n",
      "True: positive (2)\n",
      "Pred: positive (2) \n",
      "Next Sentence: 沒問題\n",
      "======================================================================\n",
      "['語者一：您可以一款自留一款送人呀', '語者一：很多人選擇當作情侶皮夾唷', '語者二：哦哦哦但我自己沒有這個習慣欸', '語者一：或者說您也可以送家人當作一點小心意', '語者二：我懂你意思哈哈哈', '語者二：我想一下好了', '語者一：沒問題', '語者一：那這邊給您一張我的名片，有任何問題歡迎隨時跟我聯繫']\n",
      "True: positive (2)\n",
      "Pred: negative (1) X\n",
      "Next Sentence: 好的謝謝你唷\n",
      "======================================================================\n",
      "['語者一：很多人選擇當作情侶皮夾唷', '語者二：哦哦哦但我自己沒有這個習慣欸', '語者一：或者說您也可以送家人當作一點小心意', '語者二：我懂你意思哈哈哈', '語者二：我想一下好了', '語者一：沒問題', '語者一：那這邊給您一張我的名片，有任何問題歡迎隨時跟我聯繫', '語者二：好的謝謝你唷']\n",
      "True: neutral (0)\n",
      "Pred: negative (1) X\n",
      "Next Sentence: 那要提醒您這款商品的優惠只到今天哦\n",
      "======================================================================\n",
      "['語者一：哦哦哦但我自己沒有這個習慣欸', '語者二：或者說您也可以送家人當作一點小心意', '語者一：我懂你意思哈哈哈', '語者一：我想一下好了', '語者二：沒問題', '語者二：那這邊給您一張我的名片，有任何問題歡迎隨時跟我聯繫', '語者一：好的謝謝你唷', '語者二：那要提醒您這款商品的優惠只到今天哦']\n",
      "True: neutral (0)\n",
      "Pred: positive (2) X\n",
      "Next Sentence: 好我如果要買的話等等再來找你\n",
      "======================================================================\n",
      "['語者一：或者說您也可以送家人當作一點小心意', '語者二：我懂你意思哈哈哈', '語者二：我想一下好了', '語者一：沒問題', '語者一：那這邊給您一張我的名片，有任何問題歡迎隨時跟我聯繫', '語者二：好的謝謝你唷', '語者一：那要提醒您這款商品的優惠只到今天哦', '語者二：好我如果要買的話等等再來找你']\n",
      "True: positive (2)\n",
      "Pred: negative (1) X\n",
      "Next Sentence: 沒問題的，感謝您的光臨\n",
      "======================================================================\n",
      "['語者一：我懂你意思哈哈哈', '語者一：我想一下好了', '語者二：沒問題', '語者二：那這邊給您一張我的名片，有任何問題歡迎隨時跟我聯繫', '語者一：好的謝謝你唷', '語者二：那要提醒您這款商品的優惠只到今天哦', '語者一：好我如果要買的話等等再來找你', '語者二：沒問題的，感謝您的光臨']\n",
      "True: positive (2)\n",
      "Pred: positive (2) \n",
      "Next Sentence: 謝謝你\n",
      "======================================================================\n",
      "['語者一：我想問一下我訂的香水為什麼今天突然變那麼便宜', '語者二：你好，想請問您訂購的是哪一款呢', '語者一：曠野之心', '語者二：你好幫您確認過，因為這款商品為本週特賣商品', '語者二：因此價格會有小幅的調整', '語者一：哦哦我了解，那這樣的話我是否可以重新訂購呢', '語者一：因為差額也不少', '語者二：不好意思，因為您的訂單商品已出貨，因此可能沒辦法進行取消的動作']\n",
      "True: negative (1)\n",
      "Pred: neutral (0) X\n",
      "Next Sentence: 好吧\n",
      "======================================================================\n",
      "['語者一：你好幫您確認過，因為這款商品為本週特賣商品', '語者一：因此價格會有小幅的調整', '語者二：哦哦我了解，那這樣的話我是否可以重新訂購呢', '語者二：因為差額也不少', '語者一：不好意思，因為您的訂單商品已出貨，因此可能沒辦法進行取消的動作', '語者二：好吧', '語者二：那想請問這樣的話我以後要如何事先知道活動什麼時候開始呢', '語者二：這樣比較不會像今天這樣白白虧錢QQ']\n",
      "True: negative (1)\n",
      "Pred: negative (1) \n",
      "Next Sentence: 抱歉造成您的不便\n",
      "======================================================================\n",
      "['語者一：哦哦我了解，那這樣的話我是否可以重新訂購呢', '語者一：因為差額也不少', '語者二：不好意思，因為您的訂單商品已出貨，因此可能沒辦法進行取消的動作', '語者一：好吧', '語者一：那想請問這樣的話我以後要如何事先知道活動什麼時候開始呢', '語者一：這樣比較不會像今天這樣白白虧錢QQ', '語者二：抱歉造成您的不便', '語者二：活動的部分我們都會公告在官網']\n",
      "True: neutral (0)\n",
      "Pred: negative (1) X\n",
      "Next Sentence: 好的那我之後去看\n",
      "======================================================================\n",
      "['語者一：因為差額也不少', '語者二：不好意思，因為您的訂單商品已出貨，因此可能沒辦法進行取消的動作', '語者一：好吧', '語者一：那想請問這樣的話我以後要如何事先知道活動什麼時候開始呢', '語者一：這樣比較不會像今天這樣白白虧錢QQ', '語者二：抱歉造成您的不便', '語者二：活動的部分我們都會公告在官網', '語者一：好的那我之後去看']\n",
      "True: positive (2)\n",
      "Pred: negative (1) X\n",
      "Next Sentence: 沒問題，感謝您的購買，祝您購物愉快\n",
      "======================================================================\n",
      "['語者一：不好意思，因為您的訂單商品已出貨，因此可能沒辦法進行取消的動作', '語者二：好吧', '語者二：那想請問這樣的話我以後要如何事先知道活動什麼時候開始呢', '語者二：這樣比較不會像今天這樣白白虧錢QQ', '語者一：抱歉造成您的不便', '語者一：活動的部分我們都會公告在官網', '語者二：好的那我之後去看', '語者一：沒問題，感謝您的購買，祝您購物愉快']\n",
      "True: neutral (0)\n",
      "Pred: negative (1) X\n",
      "Next Sentence: 欸那想再問一下另一件事\n",
      "======================================================================\n",
      "['語者一：好吧', '語者一：那想請問這樣的話我以後要如何事先知道活動什麼時候開始呢', '語者一：這樣比較不會像今天這樣白白虧錢QQ', '語者二：抱歉造成您的不便', '語者二：活動的部分我們都會公告在官網', '語者一：好的那我之後去看', '語者二：沒問題，感謝您的購買，祝您購物愉快', '語者一：欸那想再問一下另一件事']\n",
      "True: positive (2)\n",
      "Pred: neutral (0) X\n",
      "Next Sentence: 沒問題您請說\n",
      "======================================================================\n",
      "['語者一：那想請問這樣的話我以後要如何事先知道活動什麼時候開始呢', '語者一：這樣比較不會像今天這樣白白虧錢QQ', '語者二：抱歉造成您的不便', '語者二：活動的部分我們都會公告在官網', '語者一：好的那我之後去看', '語者二：沒問題，感謝您的購買，祝您購物愉快', '語者一：欸那想再問一下另一件事', '語者二：沒問題您請說']\n",
      "True: neutral (0)\n",
      "Pred: negative (1) X\n",
      "Next Sentence: 你們的商品是用什麼包裝啊\n",
      "======================================================================\n",
      "['語者一：抱歉造成您的不便', '語者一：活動的部分我們都會公告在官網', '語者二：好的那我之後去看', '語者一：沒問題，感謝您的購買，祝您購物愉快', '語者二：欸那想再問一下另一件事', '語者一：沒問題您請說', '語者二：你們的商品是用什麼包裝啊', '語者二：會不會在運送過程撞壞...']\n",
      "True: neutral (0)\n",
      "Pred: neutral (0) \n",
      "Next Sentence: 我們都有做好完善的商品防撞措施，因此幾乎不會損壞唷\n",
      "======================================================================\n",
      "['語者一：活動的部分我們都會公告在官網', '語者二：好的那我之後去看', '語者一：沒問題，感謝您的購買，祝您購物愉快', '語者二：欸那想再問一下另一件事', '語者一：沒問題您請說', '語者二：你們的商品是用什麼包裝啊', '語者二：會不會在運送過程撞壞...', '語者一：我們都有做好完善的商品防撞措施，因此幾乎不會損壞唷']\n",
      "True: neutral (0)\n",
      "Pred: negative (1) X\n",
      "Next Sentence: 所以也都沒有遇到過摔破的案例嗎\n",
      "======================================================================\n",
      "['語者一：好的那我之後去看', '語者二：沒問題，感謝您的購買，祝您購物愉快', '語者一：欸那想再問一下另一件事', '語者二：沒問題您請說', '語者一：你們的商品是用什麼包裝啊', '語者一：會不會在運送過程撞壞...', '語者二：我們都有做好完善的商品防撞措施，因此幾乎不會損壞唷', '語者一：所以也都沒有遇到過摔破的案例嗎']\n",
      "True: neutral (0)\n",
      "Pred: negative (1) X\n",
      "Next Sentence: 也是有的但數量非常少\n",
      "======================================================================\n",
      "['語者一：欸那想再問一下另一件事', '語者二：沒問題您請說', '語者一：你們的商品是用什麼包裝啊', '語者一：會不會在運送過程撞壞...', '語者二：我們都有做好完善的商品防撞措施，因此幾乎不會損壞唷', '語者一：所以也都沒有遇到過摔破的案例嗎', '語者二：也是有的但數量非常少', '語者二：遇到這個情況再麻煩您聯繫我們，我們會照價賠償']\n",
      "True: positive (2)\n",
      "Pred: positive (2) \n",
      "Next Sentence: 那我瞭解了，謝謝你唷\n",
      "======================================================================\n",
      "['語者一：沒問題您請說', '語者二：你們的商品是用什麼包裝啊', '語者二：會不會在運送過程撞壞...', '語者一：我們都有做好完善的商品防撞措施，因此幾乎不會損壞唷', '語者二：所以也都沒有遇到過摔破的案例嗎', '語者一：也是有的但數量非常少', '語者一：遇到這個情況再麻煩您聯繫我們，我們會照價賠償', '語者二：那我瞭解了，謝謝你唷']\n",
      "True: positive (2)\n",
      "Pred: negative (1) X\n",
      "Next Sentence: 不會不會，很高興為您服務！\n",
      "======================================================================\n",
      "['語者一：欸等等要不要去打球', '語者二：蛤今天嗎', '語者一：對啊等大概五六點的時候', '語者二：可是外面很熱欸', '語者二：好不想留一堆汗', '語者一：齁哪會熱！今天才20度欸！', '語者二：但就很悶啊會很不舒服', '語者一：走啦你都多久沒打了']\n",
      "True: negative (1)\n",
      "Pred: positive (2) X\n",
      "Next Sentence: 就真的很熱咩\n",
      "======================================================================\n",
      "['語者一：蛤今天嗎', '語者二：對啊等大概五六點的時候', '語者一：可是外面很熱欸', '語者一：好不想留一堆汗', '語者二：齁哪會熱！今天才20度欸！', '語者一：但就很悶啊會很不舒服', '語者二：走啦你都多久沒打了', '語者一：就真的很熱咩']\n",
      "True: neutral (0)\n",
      "Pred: negative (1) X\n",
      "Next Sentence: 打完回家洗個澡就好了啊\n",
      "======================================================================\n",
      "['語者一：可是外面很熱欸', '語者一：好不想留一堆汗', '語者二：齁哪會熱！今天才20度欸！', '語者一：但就很悶啊會很不舒服', '語者二：走啦你都多久沒打了', '語者一：就真的很熱咩', '語者二：打完回家洗個澡就好了啊', '語者二：反正你家那麼近就在旁邊']\n",
      "True: neutral (0)\n",
      "Pred: neutral (0) \n",
      "Next Sentence: 是這樣說沒錯啦...\n",
      "======================================================================\n",
      "['語者一：齁哪會熱！今天才20度欸！', '語者二：但就很悶啊會很不舒服', '語者一：走啦你都多久沒打了', '語者二：就真的很熱咩', '語者一：打完回家洗個澡就好了啊', '語者一：反正你家那麼近就在旁邊', '語者二：是這樣說沒錯啦...', '語者二：阿是有誰要去']\n",
      "True: neutral (0)\n",
      "Pred: positive (2) X\n",
      "Next Sentence: 老樣子啊他們四個都會去\n",
      "======================================================================\n",
      "['語者一：但就很悶啊會很不舒服', '語者二：走啦你都多久沒打了', '語者一：就真的很熱咩', '語者二：打完回家洗個澡就好了啊', '語者二：反正你家那麼近就在旁邊', '語者一：是這樣說沒錯啦...', '語者一：阿是有誰要去', '語者二：老樣子啊他們四個都會去']\n",
      "True: neutral (0)\n",
      "Pred: neutral (0) \n",
      "Next Sentence: 齁好啦那你們打完有要一起吃飯嗎\n",
      "======================================================================\n",
      "['語者一：走啦你都多久沒打了', '語者二：就真的很熱咩', '語者一：打完回家洗個澡就好了啊', '語者一：反正你家那麼近就在旁邊', '語者二：是這樣說沒錯啦...', '語者二：阿是有誰要去', '語者一：老樣子啊他們四個都會去', '語者二：齁好啦那你們打完有要一起吃飯嗎']\n",
      "True: neutral (0)\n",
      "Pred: positive (2) X\n",
      "Next Sentence: 應該會吧我還沒吃\n",
      "======================================================================\n",
      "['語者一：就真的很熱咩', '語者二：打完回家洗個澡就好了啊', '語者二：反正你家那麼近就在旁邊', '語者一：是這樣說沒錯啦...', '語者一：阿是有誰要去', '語者二：老樣子啊他們四個都會去', '語者一：齁好啦那你們打完有要一起吃飯嗎', '語者二：應該會吧我還沒吃']\n",
      "True: neutral (0)\n",
      "Pred: neutral (0) \n",
      "Next Sentence: 那我打完跟你一起去吃好了\n",
      "======================================================================\n",
      "['語者一：打完回家洗個澡就好了啊', '語者一：反正你家那麼近就在旁邊', '語者二：是這樣說沒錯啦...', '語者二：阿是有誰要去', '語者一：老樣子啊他們四個都會去', '語者二：齁好啦那你們打完有要一起吃飯嗎', '語者一：應該會吧我還沒吃', '語者二：那我打完跟你一起去吃好了']\n",
      "True: neutral (0)\n",
      "Pred: positive (2) X\n",
      "Next Sentence: 好啊所以你會來齁！\n",
      "======================================================================\n",
      "['語者一：反正你家那麼近就在旁邊', '語者二：是這樣說沒錯啦...', '語者二：阿是有誰要去', '語者一：老樣子啊他們四個都會去', '語者二：齁好啦那你們打完有要一起吃飯嗎', '語者一：應該會吧我還沒吃', '語者二：那我打完跟你一起去吃好了', '語者一：好啊所以你會來齁！']\n",
      "True: neutral (0)\n",
      "Pred: neutral (0) \n",
      "Next Sentence: 好啦好啦我去\n",
      "======================================================================\n",
      "['語者一：是這樣說沒錯啦...', '語者一：阿是有誰要去', '語者二：老樣子啊他們四個都會去', '語者一：齁好啦那你們打完有要一起吃飯嗎', '語者二：應該會吧我還沒吃', '語者一：那我打完跟你一起去吃好了', '語者二：好啊所以你會來齁！', '語者一：好啦好啦我去']\n",
      "True: positive (2)\n",
      "Pred: positive (2) \n",
      "Next Sentence: 水哦那我先跟其他人確認時間再跟你說約幾點\n",
      "======================================================================\n",
      "['語者一：阿是有誰要去', '語者二：老樣子啊他們四個都會去', '語者一：齁好啦那你們打完有要一起吃飯嗎', '語者二：應該會吧我還沒吃', '語者一：那我打完跟你一起去吃好了', '語者二：好啊所以你會來齁！', '語者一：好啦好啦我去', '語者二：水哦那我先跟其他人確認時間再跟你說約幾點']\n",
      "True: neutral (0)\n",
      "Pred: neutral (0) \n",
      "Next Sentence: 好啊不要太晚欸\n",
      "======================================================================\n",
      "['語者一：齁好啦那你們打完有要一起吃飯嗎', '語者二：應該會吧我還沒吃', '語者一：那我打完跟你一起去吃好了', '語者二：好啊所以你會來齁！', '語者一：好啦好啦我去', '語者二：水哦那我先跟其他人確認時間再跟你說約幾點', '語者一：好啊不要太晚欸', '語者一：我想早點回家睡']\n",
      "True: neutral (0)\n",
      "Pred: positive (2) X\n",
      "Next Sentence: 咁好啦你是豬哦\n",
      "======================================================================\n",
      "['語者一：應該會吧我還沒吃', '語者二：那我打完跟你一起去吃好了', '語者一：好啊所以你會來齁！', '語者二：好啦好啦我去', '語者一：水哦那我先跟其他人確認時間再跟你說約幾點', '語者二：好啊不要太晚欸', '語者二：我想早點回家睡', '語者一：咁好啦你是豬哦']\n",
      "True: positive (2)\n",
      "Pred: positive (2) \n",
      "Next Sentence: 靠北哈哈哈哈\n",
      "======================================================================\n",
      "['語者一：好啊所以你會來齁！', '語者二：好啦好啦我去', '語者一：水哦那我先跟其他人確認時間再跟你說約幾點', '語者二：好啊不要太晚欸', '語者二：我想早點回家睡', '語者一：咁好啦你是豬哦', '語者二：靠北哈哈哈哈', '語者二：趕快去問啦']\n",
      "True: positive (2)\n",
      "Pred: positive (2) \n",
      "Next Sentence: 好啦我去問我去問\n",
      "======================================================================\n",
      "['語者一：是的抱歉打擾，想請問您有遇到任何問題嗎？', '語者二：嘿對我想問您一下', '語者二：請問剛剛那位服務生是新員工嗎？', '語者一：對的，他是我們這個月新來的員工，請問有哪裡有問題嗎？', '語者二：是這樣的，剛剛他的服務態度不太好', '語者二：我詢問餐點相關事項他一副覺得很不耐煩的口氣', '語者二：我只是想讓您知道這件事情而已', '語者二：希望您這邊可以多多加強員工訓練']\n",
      "True: negative (1)\n",
      "Pred: negative (1) \n",
      "Next Sentence: 真的很抱歉，這部分我們會在懲處並加強訓練\n",
      "======================================================================\n",
      "['語者一：請問剛剛那位服務生是新員工嗎？', '語者二：對的，他是我們這個月新來的員工，請問有哪裡有問題嗎？', '語者一：是這樣的，剛剛他的服務態度不太好', '語者一：我詢問餐點相關事項他一副覺得很不耐煩的口氣', '語者一：我只是想讓您知道這件事情而已', '語者一：希望您這邊可以多多加強員工訓練', '語者二：真的很抱歉，這部分我們會在懲處並加強訓練', '語者二：抱歉造成您的不滿']\n",
      "True: positive (2)\n",
      "Pred: negative (1) X\n",
      "Next Sentence: 沒事沒事！\n",
      "======================================================================\n",
      "['語者一：我詢問餐點相關事項他一副覺得很不耐煩的口氣', '語者一：我只是想讓您知道這件事情而已', '語者一：希望您這邊可以多多加強員工訓練', '語者二：真的很抱歉，這部分我們會在懲處並加強訓練', '語者二：抱歉造成您的不滿', '語者一：沒事沒事！', '語者一：因為我也蠻常來這裡用餐的', '語者一：只是希望你們餐廳可以更好']\n",
      "True: positive (2)\n",
      "Pred: neutral (0) X\n",
      "Next Sentence: 我完全理解，真的很感謝您對本餐廳的支持\n",
      "======================================================================\n",
      "['語者一：希望您這邊可以多多加強員工訓練', '語者二：真的很抱歉，這部分我們會在懲處並加強訓練', '語者二：抱歉造成您的不滿', '語者一：沒事沒事！', '語者一：因為我也蠻常來這裡用餐的', '語者一：只是希望你們餐廳可以更好', '語者二：我完全理解，真的很感謝您對本餐廳的支持', '語者二：您剛剛提到的部分我們一定會做改善']\n",
      "True: positive (2)\n",
      "Pred: neutral (0) X\n",
      "Next Sentence: 那就好\n",
      "======================================================================\n",
      "['語者一：抱歉造成您的不滿', '語者二：沒事沒事！', '語者二：因為我也蠻常來這裡用餐的', '語者二：只是希望你們餐廳可以更好', '語者一：我完全理解，真的很感謝您對本餐廳的支持', '語者一：您剛剛提到的部分我們一定會做改善', '語者二：那就好', '語者二：順帶一提你們的這道菜真的很好吃欸']\n",
      "True: neutral (0)\n",
      "Pred: neutral (0) \n",
      "Next Sentence: 您是說這道香煎雞腿排嗎\n",
      "======================================================================\n",
      "['語者一：沒事沒事！', '語者一：因為我也蠻常來這裡用餐的', '語者一：只是希望你們餐廳可以更好', '語者二：我完全理解，真的很感謝您對本餐廳的支持', '語者二：您剛剛提到的部分我們一定會做改善', '語者一：那就好', '語者一：順帶一提你們的這道菜真的很好吃欸', '語者二：您是說這道香煎雞腿排嗎']\n",
      "True: positive (2)\n",
      "Pred: neutral (0) X\n",
      "Next Sentence: 對呀他的迷迭香氣非常濃郁\n",
      "======================================================================\n",
      "['語者一：只是希望你們餐廳可以更好', '語者二：我完全理解，真的很感謝您對本餐廳的支持', '語者二：您剛剛提到的部分我們一定會做改善', '語者一：那就好', '語者一：順帶一提你們的這道菜真的很好吃欸', '語者二：您是說這道香煎雞腿排嗎', '語者一：對呀他的迷迭香氣非常濃郁', '語者一：很有水準']\n",
      "True: positive (2)\n",
      "Pred: positive (2) \n",
      "Next Sentence: 感謝感謝\n",
      "======================================================================\n",
      "['語者一：您剛剛提到的部分我們一定會做改善', '語者二：那就好', '語者二：順帶一提你們的這道菜真的很好吃欸', '語者一：您是說這道香煎雞腿排嗎', '語者二：對呀他的迷迭香氣非常濃郁', '語者二：很有水準', '語者一：感謝感謝', '語者一：還是說我們這裡替您再送上一道新菜色給您品嚐看看']\n",
      "True: positive (2)\n",
      "Pred: neutral (0) X\n",
      "Next Sentence: 沒關係啦不用麻煩\n",
      "======================================================================\n",
      "['語者一：那就好', '語者一：順帶一提你們的這道菜真的很好吃欸', '語者二：您是說這道香煎雞腿排嗎', '語者一：對呀他的迷迭香氣非常濃郁', '語者一：很有水準', '語者二：感謝感謝', '語者二：還是說我們這裡替您再送上一道新菜色給您品嚐看看', '語者一：沒關係啦不用麻煩']\n",
      "True: positive (2)\n",
      "Pred: positive (2) \n",
      "Next Sentence: 不會不會您稍等唷\n",
      "======================================================================\n",
      "['語者一：順帶一提你們的這道菜真的很好吃欸', '語者二：您是說這道香煎雞腿排嗎', '語者一：對呀他的迷迭香氣非常濃郁', '語者一：很有水準', '語者二：感謝感謝', '語者二：還是說我們這裡替您再送上一道新菜色給您品嚐看看', '語者一：沒關係啦不用麻煩', '語者二：不會不會您稍等唷']\n",
      "True: positive (2)\n",
      "Pred: positive (2) \n",
      "Next Sentence: 好的那很感謝您\n",
      "======================================================================\n",
      "['語者一：我又跟他吵架了啦', '語者二：蛤你們吵啥', '語者一：我就只是去住別的女生家而已', '語者一：他就不開心', '語者二：靠北那是你白目吧！', '語者一：不是啊 就只是去住朋友家而已 到底有什麼好生氣的', '語者二：你是臭直男吧', '語者二：你有跟他說嗎']\n",
      "True: negative (1)\n",
      "Pred: negative (1) \n",
      "Next Sentence: 沒有啊因為是去完夜店後去的\n",
      "======================================================================\n",
      "['語者一：蛤你們吵啥', '語者二：我就只是去住別的女生家而已', '語者二：他就不開心', '語者一：靠北那是你白目吧！', '語者二：不是啊 就只是去住朋友家而已 到底有什麼好生氣的', '語者一：你是臭直男吧', '語者一：你有跟他說嗎', '語者二：沒有啊因為是去完夜店後去的']\n",
      "True: negative (1)\n",
      "Pred: negative (1) \n",
      "Next Sentence: 靠北哦你還跑去夜店哦\n",
      "======================================================================\n",
      "['語者一：我就只是去住別的女生家而已', '語者一：他就不開心', '語者二：靠北那是你白目吧！', '語者一：不是啊 就只是去住朋友家而已 到底有什麼好生氣的', '語者二：你是臭直男吧', '語者二：你有跟他說嗎', '語者一：沒有啊因為是去完夜店後去的', '語者二：靠北哦你還跑去夜店哦']\n",
      "True: negative (1)\n",
      "Pred: negative (1) \n",
      "Next Sentence: 就朋友生日沒辦法不去咩\n",
      "======================================================================\n",
      "['語者一：他就不開心', '語者二：靠北那是你白目吧！', '語者一：不是啊 就只是去住朋友家而已 到底有什麼好生氣的', '語者二：你是臭直男吧', '語者二：你有跟他說嗎', '語者一：沒有啊因為是去完夜店後去的', '語者二：靠北哦你還跑去夜店哦', '語者一：就朋友生日沒辦法不去咩']\n",
      "True: negative (1)\n",
      "Pred: neutral (0) X\n",
      "Next Sentence: 他知道你去夜店嗎\n",
      "======================================================================\n",
      "['語者一：靠北那是你白目吧！', '語者二：不是啊 就只是去住朋友家而已 到底有什麼好生氣的', '語者一：你是臭直男吧', '語者一：你有跟他說嗎', '語者二：沒有啊因為是去完夜店後去的', '語者一：靠北哦你還跑去夜店哦', '語者二：就朋友生日沒辦法不去咩', '語者一：他知道你去夜店嗎']\n",
      "True: negative (1)\n",
      "Pred: neutral (0) X\n",
      "Next Sentence: 我忘記我有沒有跟他說欸\n",
      "======================================================================\n",
      "['語者一：不是啊 就只是去住朋友家而已 到底有什麼好生氣的', '語者二：你是臭直男吧', '語者二：你有跟他說嗎', '語者一：沒有啊因為是去完夜店後去的', '語者二：靠北哦你還跑去夜店哦', '語者一：就朋友生日沒辦法不去咩', '語者二：他知道你去夜店嗎', '語者一：我忘記我有沒有跟他說欸']\n",
      "True: negative (1)\n",
      "Pred: neutral (0) X\n",
      "Next Sentence: 我傻眼.....\n",
      "======================================================================\n",
      "['語者一：你是臭直男吧', '語者一：你有跟他說嗎', '語者二：沒有啊因為是去完夜店後去的', '語者一：靠北哦你還跑去夜店哦', '語者二：就朋友生日沒辦法不去咩', '語者一：他知道你去夜店嗎', '語者二：我忘記我有沒有跟他說欸', '語者一：我傻眼.....']\n",
      "True: negative (1)\n",
      "Pred: negative (1) \n",
      "Next Sentence: 蛤可是我不懂欸這到底要氣什麼\n",
      "======================================================================\n",
      "['語者一：沒有啊因為是去完夜店後去的', '語者二：靠北哦你還跑去夜店哦', '語者一：就朋友生日沒辦法不去咩', '語者二：他知道你去夜店嗎', '語者一：我忘記我有沒有跟他說欸', '語者二：我傻眼.....', '語者一：蛤可是我不懂欸這到底要氣什麼', '語者一：就只是去生日趴然後借住朋友家啊']\n",
      "True: negative (1)\n",
      "Pred: negative (1) \n",
      "Next Sentence: bro你真的完全沒有求生欲欸\n",
      "======================================================================\n",
      "['語者一：靠北哦你還跑去夜店哦', '語者二：就朋友生日沒辦法不去咩', '語者一：他知道你去夜店嗎', '語者二：我忘記我有沒有跟他說欸', '語者一：我傻眼.....', '語者二：蛤可是我不懂欸這到底要氣什麼', '語者二：就只是去生日趴然後借住朋友家啊', '語者一：bro你真的完全沒有求生欲欸']\n",
      "True: negative (1)\n",
      "Pred: negative (1) \n",
      "Next Sentence: 乾什麼意思\n",
      "======================================================================\n",
      "['語者一：他知道你去夜店嗎', '語者二：我忘記我有沒有跟他說欸', '語者一：我傻眼.....', '語者二：蛤可是我不懂欸這到底要氣什麼', '語者二：就只是去生日趴然後借住朋友家啊', '語者一：bro你真的完全沒有求生欲欸', '語者二：乾什麼意思', '語者二：我真的不懂生氣的點在哪']\n",
      "True: negative (1)\n",
      "Pred: negative (1) \n",
      "Next Sentence: 交往就不應該去夜店啊\n",
      "======================================================================\n",
      "['語者一：我忘記我有沒有跟他說欸', '語者二：我傻眼.....', '語者一：蛤可是我不懂欸這到底要氣什麼', '語者一：就只是去生日趴然後借住朋友家啊', '語者二：bro你真的完全沒有求生欲欸', '語者一：乾什麼意思', '語者一：我真的不懂生氣的點在哪', '語者二：交往就不應該去夜店啊']\n",
      "True: negative (1)\n",
      "Pred: negative (1) \n",
      "Next Sentence: 可是夜店不就只是喝酒聊天嗎\n",
      "======================================================================\n",
      "['語者一：我傻眼.....', '語者二：蛤可是我不懂欸這到底要氣什麼', '語者二：就只是去生日趴然後借住朋友家啊', '語者一：bro你真的完全沒有求生欲欸', '語者二：乾什麼意思', '語者二：我真的不懂生氣的點在哪', '語者一：交往就不應該去夜店啊', '語者二：可是夜店不就只是喝酒聊天嗎']\n",
      "True: negative (1)\n",
      "Pred: negative (1) \n",
      "Next Sentence: 你真的是白目欸哥\n",
      "======================================================================\n",
      "['語者一：就只是去生日趴然後借住朋友家啊', '語者二：bro你真的完全沒有求生欲欸', '語者一：乾什麼意思', '語者一：我真的不懂生氣的點在哪', '語者二：交往就不應該去夜店啊', '語者一：可是夜店不就只是喝酒聊天嗎', '語者二：你真的是白目欸哥', '語者二：不知道該怎麼說你']\n",
      "True: negative (1)\n",
      "Pred: negative (1) \n",
      "Next Sentence: 好啦隨便啦反正他就是很雞掰齁\n",
      "======================================================================\n",
      "['語者一：乾什麼意思', '語者一：我真的不懂生氣的點在哪', '語者二：交往就不應該去夜店啊', '語者一：可是夜店不就只是喝酒聊天嗎', '語者二：你真的是白目欸哥', '語者二：不知道該怎麼說你', '語者一：好啦隨便啦反正他就是很雞掰齁', '語者一：然後每次生氣就離家出走']\n",
      "True: negative (1)\n",
      "Pred: negative (1) \n",
      "Next Sentence: 那你還不快去找他！！\n",
      "======================================================================\n",
      "['語者一：交往就不應該去夜店啊', '語者二：可是夜店不就只是喝酒聊天嗎', '語者一：你真的是白目欸哥', '語者一：不知道該怎麼說你', '語者二：好啦隨便啦反正他就是很雞掰齁', '語者二：然後每次生氣就離家出走', '語者一：那你還不快去找他！！', '語者一：還在這邊跟我喇賽']\n",
      "True: negative (1)\n",
      "Pred: negative (1) \n",
      "Next Sentence: 是他的錯欸我幹嘛去找他\n",
      "======================================================================\n",
      "['語者一：可是夜店不就只是喝酒聊天嗎', '語者二：你真的是白目欸哥', '語者二：不知道該怎麼說你', '語者一：好啦隨便啦反正他就是很雞掰齁', '語者一：然後每次生氣就離家出走', '語者二：那你還不快去找他！！', '語者二：還在這邊跟我喇賽', '語者一：是他的錯欸我幹嘛去找他']\n",
      "True: negative (1)\n",
      "Pred: negative (1) \n",
      "Next Sentence: 你真的是沒救了....\n",
      "======================================================================\n",
      "['語者一：跟你說我爸真的很北爛欸', '語者二：他怎麼了', '語者一：我已經跟他說過超多次 進我房間要敲門', '語者一：他每次都不敲', '語者一：超煩', '語者二：跟我爸媽好像哈哈哈', '語者二：我爸媽以前也都是會直接進我房間', '語者一：那後來勒']\n",
      "True: positive (2)\n",
      "Pred: negative (1) X\n",
      "Next Sentence: （後來我就裝鎖了哈哈哈哈\n",
      "======================================================================\n",
      "['語者一：他怎麼了', '語者二：我已經跟他說過超多次 進我房間要敲門', '語者二：他每次都不敲', '語者二：超煩', '語者一：跟我爸媽好像哈哈哈', '語者一：我爸媽以前也都是會直接進我房間', '語者二：那後來勒', '語者一：（後來我就裝鎖了哈哈哈哈']\n",
      "True: positive (2)\n",
      "Pred: negative (1) X\n",
      "Next Sentence: 靠北哈哈哈哈\n",
      "======================================================================\n",
      "['語者一：他每次都不敲', '語者一：超煩', '語者二：跟我爸媽好像哈哈哈', '語者二：我爸媽以前也都是會直接進我房間', '語者一：那後來勒', '語者二：（後來我就裝鎖了哈哈哈哈', '語者一：靠北哈哈哈哈', '語者一：但我不可能啦']\n",
      "True: neutral (0)\n",
      "Pred: neutral (0) \n",
      "Next Sentence: 為什麼ㄚ\n",
      "======================================================================\n",
      "['語者一：超煩', '語者二：跟我爸媽好像哈哈哈', '語者二：我爸媽以前也都是會直接進我房間', '語者一：那後來勒', '語者二：（後來我就裝鎖了哈哈哈哈', '語者一：靠北哈哈哈哈', '語者一：但我不可能啦', '語者二：為什麼ㄚ']\n",
      "True: neutral (0)\n",
      "Pred: neutral (0) \n",
      "Next Sentence: 我那個門的材質看起來沒辦法裝鎖\n",
      "======================================================================\n",
      "['語者一：我爸媽以前也都是會直接進我房間', '語者二：那後來勒', '語者一：（後來我就裝鎖了哈哈哈哈', '語者二：靠北哈哈哈哈', '語者二：但我不可能啦', '語者一：為什麼ㄚ', '語者二：我那個門的材質看起來沒辦法裝鎖', '語者二：而且我如果說要裝的話他們肯定會不開心']\n",
      "True: negative (1)\n",
      "Pred: negative (1) \n",
      "Next Sentence: 我懂QQQ\n",
      "======================================================================\n",
      "['語者一：（後來我就裝鎖了哈哈哈哈', '語者二：靠北哈哈哈哈', '語者二：但我不可能啦', '語者一：為什麼ㄚ', '語者二：我那個門的材質看起來沒辦法裝鎖', '語者二：而且我如果說要裝的話他們肯定會不開心', '語者一：我懂QQQ', '語者一：蛤這個問題好難哦']\n",
      "True: negative (1)\n",
      "Pred: neutral (0) X\n",
      "Next Sentence: 對吧就很煩\n",
      "======================================================================\n",
      "['語者一：靠北哈哈哈哈', '語者一：但我不可能啦', '語者二：為什麼ㄚ', '語者一：我那個門的材質看起來沒辦法裝鎖', '語者一：而且我如果說要裝的話他們肯定會不開心', '語者二：我懂QQQ', '語者二：蛤這個問題好難哦', '語者一：對吧就很煩']\n",
      "True: neutral (0)\n",
      "Pred: neutral (0) \n",
      "Next Sentence: 但反正你感覺待在家的時間也不多（？\n",
      "======================================================================\n",
      "['語者一：但我不可能啦', '語者二：為什麼ㄚ', '語者一：我那個門的材質看起來沒辦法裝鎖', '語者一：而且我如果說要裝的話他們肯定會不開心', '語者二：我懂QQQ', '語者二：蛤這個問題好難哦', '語者一：對吧就很煩', '語者二：但反正你感覺待在家的時間也不多（？']\n",
      "True: neutral (0)\n",
      "Pred: neutral (0) \n",
      "Next Sentence: 這樣說是沒錯啦\n",
      "======================================================================\n",
      "['語者一：我那個門的材質看起來沒辦法裝鎖', '語者一：而且我如果說要裝的話他們肯定會不開心', '語者二：我懂QQQ', '語者二：蛤這個問題好難哦', '語者一：對吧就很煩', '語者二：但反正你感覺待在家的時間也不多（？', '語者一：這樣說是沒錯啦', '語者一：但就只要在家的時候就會覺得很沒隱私']\n",
      "True: negative (1)\n",
      "Pred: negative (1) \n",
      "Next Sentence: 在家的時候感覺也只能忍忍欸\n",
      "======================================================================\n",
      "['語者一：我懂QQQ', '語者一：蛤這個問題好難哦', '語者二：對吧就很煩', '語者一：但反正你感覺待在家的時間也不多（？', '語者二：這樣說是沒錯啦', '語者二：但就只要在家的時候就會覺得很沒隱私', '語者一：在家的時候感覺也只能忍忍欸', '語者一：不然你就多來實驗室呀']\n",
      "True: positive (2)\n",
      "Pred: neutral (0) X\n",
      "Next Sentence: 去找你玩嗎哈哈哈\n",
      "======================================================================\n",
      "['語者一：蛤這個問題好難哦', '語者二：對吧就很煩', '語者一：但反正你感覺待在家的時間也不多（？', '語者二：這樣說是沒錯啦', '語者二：但就只要在家的時候就會覺得很沒隱私', '語者一：在家的時候感覺也只能忍忍欸', '語者一：不然你就多來實驗室呀', '語者二：去找你玩嗎哈哈哈']\n",
      "True: positive (2)\n",
      "Pred: positive (2) \n",
      "Next Sentence: 對啊\n",
      "======================================================================\n",
      "['語者一：但反正你感覺待在家的時間也不多（？', '語者二：這樣說是沒錯啦', '語者二：但就只要在家的時候就會覺得很沒隱私', '語者一：在家的時候感覺也只能忍忍欸', '語者一：不然你就多來實驗室呀', '語者二：去找你玩嗎哈哈哈', '語者一：對啊', '語者一：我會敲完門再進去']\n",
      "True: positive (2)\n",
      "Pred: positive (2) \n",
      "Next Sentence: 靠北哈哈哈哈\n",
      "======================================================================\n",
      "['語者一：但就只要在家的時候就會覺得很沒隱私', '語者二：在家的時候感覺也只能忍忍欸', '語者二：不然你就多來實驗室呀', '語者一：去找你玩嗎哈哈哈', '語者二：對啊', '語者二：我會敲完門再進去', '語者一：靠北哈哈哈哈', '語者一：笑死']\n",
      "True: positive (2)\n",
      "Pred: negative (1) X\n",
      "Next Sentence: Ok吧哈哈哈哈\n",
      "======================================================================\n",
      "['語者一：欸這個東西怎麼降價了', '語者一：（連結）', '語者二：您好，很高興為您服務', '語者二：我幫您確認一下哦', '語者二：您好，因為今天是購物節，因此該商品有限時折扣活動', '語者一：啊我昨天才剛訂這個除濕機欸', '語者一：你今天就變便宜兩千塊', '語者一：這樣我是盤子嗎']\n",
      "True: negative (1)\n",
      "Pred: positive (2) X\n",
      "Next Sentence: 不好意思，因為我們今天是特別活動才有這個價格\n",
      "======================================================================\n",
      "['語者一：您好，很高興為您服務', '語者一：我幫您確認一下哦', '語者一：您好，因為今天是購物節，因此該商品有限時折扣活動', '語者二：啊我昨天才剛訂這個除濕機欸', '語者二：你今天就變便宜兩千塊', '語者二：這樣我是盤子嗎', '語者一：不好意思，因為我們今天是特別活動才有這個價格', '語者一：平常是沒有的']\n",
      "True: negative (1)\n",
      "Pred: neutral (0) X\n",
      "Next Sentence: 那你也沒有早點公告\n",
      "======================================================================\n",
      "['語者一：您好，因為今天是購物節，因此該商品有限時折扣活動', '語者二：啊我昨天才剛訂這個除濕機欸', '語者二：你今天就變便宜兩千塊', '語者二：這樣我是盤子嗎', '語者一：不好意思，因為我們今天是特別活動才有這個價格', '語者一：平常是沒有的', '語者二：那你也沒有早點公告', '語者二：不然我就不會昨天下單了']\n",
      "True: negative (1)\n",
      "Pred: neutral (0) X\n",
      "Next Sentence: 很不好意思，還是您要取消訂單呢\n",
      "======================================================================\n",
      "['語者一：啊我昨天才剛訂這個除濕機欸', '語者一：你今天就變便宜兩千塊', '語者一：這樣我是盤子嗎', '語者二：不好意思，因為我們今天是特別活動才有這個價格', '語者二：平常是沒有的', '語者一：那你也沒有早點公告', '語者一：不然我就不會昨天下單了', '語者二：很不好意思，還是您要取消訂單呢']\n",
      "True: neutral (0)\n",
      "Pred: negative (1) X\n",
      "Next Sentence: 是可以取消的嗎\n",
      "======================================================================\n",
      "['語者一：你今天就變便宜兩千塊', '語者一：這樣我是盤子嗎', '語者二：不好意思，因為我們今天是特別活動才有這個價格', '語者二：平常是沒有的', '語者一：那你也沒有早點公告', '語者一：不然我就不會昨天下單了', '語者二：很不好意思，還是您要取消訂單呢', '語者一：是可以取消的嗎']\n",
      "True: neutral (0)\n",
      "Pred: neutral (0) \n",
      "Next Sentence: 可以的沒問題\n",
      "======================================================================\n",
      "['語者一：不好意思，因為我們今天是特別活動才有這個價格', '語者一：平常是沒有的', '語者二：那你也沒有早點公告', '語者二：不然我就不會昨天下單了', '語者一：很不好意思，還是您要取消訂單呢', '語者二：是可以取消的嗎', '語者一：可以的沒問題', '語者一：您可以重新下單']\n",
      "True: neutral (0)\n",
      "Pred: negative (1) X\n",
      "Next Sentence: 但我有使用賣場優惠欸\n",
      "======================================================================\n",
      "['語者一：那你也沒有早點公告', '語者一：不然我就不會昨天下單了', '語者二：很不好意思，還是您要取消訂單呢', '語者一：是可以取消的嗎', '語者二：可以的沒問題', '語者二：您可以重新下單', '語者一：但我有使用賣場優惠欸', '語者一：這樣還能用嗎']\n",
      "True: negative (1)\n",
      "Pred: neutral (0) X\n",
      "Next Sentence: 那可能就沒辦法使用了\n",
      "======================================================================\n",
      "['語者一：很不好意思，還是您要取消訂單呢', '語者二：是可以取消的嗎', '語者一：可以的沒問題', '語者一：您可以重新下單', '語者二：但我有使用賣場優惠欸', '語者二：這樣還能用嗎', '語者一：那可能就沒辦法使用了', '語者一：因為優惠券只能限用一次']\n",
      "True: negative (1)\n",
      "Pred: negative (1) \n",
      "Next Sentence: 那我還是虧啊\n",
      "======================================================================\n",
      "['語者一：可以的沒問題', '語者一：您可以重新下單', '語者二：但我有使用賣場優惠欸', '語者二：這樣還能用嗎', '語者一：那可能就沒辦法使用了', '語者一：因為優惠券只能限用一次', '語者二：那我還是虧啊', '語者二：你們要補一張給我嗎']\n",
      "True: neutral (0)\n",
      "Pred: negative (1) X\n",
      "Next Sentence: 好的，這裡為您進行特殊處理\n",
      "======================================================================\n",
      "['語者一：但我有使用賣場優惠欸', '語者一：這樣還能用嗎', '語者二：那可能就沒辦法使用了', '語者二：因為優惠券只能限用一次', '語者一：那我還是虧啊', '語者一：你們要補一張給我嗎', '語者二：好的，這裡為您進行特殊處理', '語者二：我們會從後台直接扣除對應金額']\n",
      "True: neutral (0)\n",
      "Pred: negative (1) X\n",
      "Next Sentence: 你說優惠券的金額嗎\n",
      "======================================================================\n",
      "['語者一：這樣還能用嗎', '語者二：那可能就沒辦法使用了', '語者二：因為優惠券只能限用一次', '語者一：那我還是虧啊', '語者一：你們要補一張給我嗎', '語者二：好的，這裡為您進行特殊處理', '語者二：我們會從後台直接扣除對應金額', '語者一：你說優惠券的金額嗎']\n",
      "True: neutral (0)\n",
      "Pred: negative (1) X\n",
      "Next Sentence: 是的\n",
      "======================================================================\n",
      "['語者一：那可能就沒辦法使用了', '語者一：因為優惠券只能限用一次', '語者二：那我還是虧啊', '語者二：你們要補一張給我嗎', '語者一：好的，這裡為您進行特殊處理', '語者一：我們會從後台直接扣除對應金額', '語者二：你說優惠券的金額嗎', '語者一：是的']\n",
      "True: neutral (0)\n",
      "Pred: negative (1) X\n",
      "Next Sentence: 好那就這樣吧\n",
      "======================================================================\n",
      "['語者一：因為優惠券只能限用一次', '語者二：那我還是虧啊', '語者二：你們要補一張給我嗎', '語者一：好的，這裡為您進行特殊處理', '語者一：我們會從後台直接扣除對應金額', '語者二：你說優惠券的金額嗎', '語者一：是的', '語者二：好那就這樣吧']\n",
      "True: negative (1)\n",
      "Pred: negative (1) \n",
      "Next Sentence: 抱歉造成您的麻煩\n",
      "======================================================================\n",
      "['語者一：那我還是虧啊', '語者一：你們要補一張給我嗎', '語者二：好的，這裡為您進行特殊處理', '語者二：我們會從後台直接扣除對應金額', '語者一：你說優惠券的金額嗎', '語者二：是的', '語者一：好那就這樣吧', '語者二：抱歉造成您的麻煩']\n",
      "True: positive (2)\n",
      "Pred: negative (1) X\n",
      "Next Sentence: 不會不會 謝謝妳\n",
      "======================================================================\n",
      "['語者一：你們要補一張給我嗎', '語者二：好的，這裡為您進行特殊處理', '語者二：我們會從後台直接扣除對應金額', '語者一：你說優惠券的金額嗎', '語者二：是的', '語者一：好那就這樣吧', '語者二：抱歉造成您的麻煩', '語者一：不會不會 謝謝妳']\n",
      "True: positive (2)\n",
      "Pred: neutral (0) X\n",
      "Next Sentence: 祝您購物愉快\n",
      "======================================================================\n",
      "['語者一：欸你們有優惠方案怎麼沒跟我說', '語者二：先生不好意思，請問您說的是什麼方案呢', '語者一：我剛剛聽隔壁房的客人說你們有什麼夏日優惠', '語者一：可以七折入住', '語者二：哦哦哦我了解', '語者二：不好意思，因為那個是需要提供優惠碼的', '語者二：當初訂房時您可能沒有提供我們該優惠碼', '語者二：因此沒辦法幫您做折抵的動作']\n",
      "True: negative (1)\n",
      "Pred: negative (1) \n",
      "Next Sentence: 啥那我怎麼知道優惠碼是什麼\n",
      "======================================================================\n",
      "['語者一：先生不好意思，請問您說的是什麼方案呢', '語者二：我剛剛聽隔壁房的客人說你們有什麼夏日優惠', '語者二：可以七折入住', '語者一：哦哦哦我了解', '語者一：不好意思，因為那個是需要提供優惠碼的', '語者一：當初訂房時您可能沒有提供我們該優惠碼', '語者一：因此沒辦法幫您做折抵的動作', '語者二：啥那我怎麼知道優惠碼是什麼']\n",
      "True: neutral (0)\n",
      "Pred: neutral (0) \n",
      "Next Sentence: 夏日優惠是有合作的廠商會從商品中贈送唷\n",
      "======================================================================\n",
      "['語者一：我剛剛聽隔壁房的客人說你們有什麼夏日優惠', '語者一：可以七折入住', '語者二：哦哦哦我了解', '語者二：不好意思，因為那個是需要提供優惠碼的', '語者二：當初訂房時您可能沒有提供我們該優惠碼', '語者二：因此沒辦法幫您做折抵的動作', '語者一：啥那我怎麼知道優惠碼是什麼', '語者二：夏日優惠是有合作的廠商會從商品中贈送唷']\n",
      "True: neutral (0)\n",
      "Pred: negative (1) X\n",
      "Next Sentence: 所以是他們買東西送的嗎\n",
      "======================================================================\n",
      "['語者一：可以七折入住', '語者二：哦哦哦我了解', '語者二：不好意思，因為那個是需要提供優惠碼的', '語者二：當初訂房時您可能沒有提供我們該優惠碼', '語者二：因此沒辦法幫您做折抵的動作', '語者一：啥那我怎麼知道優惠碼是什麼', '語者二：夏日優惠是有合作的廠商會從商品中贈送唷', '語者一：所以是他們買東西送的嗎']\n",
      "True: neutral (0)\n",
      "Pred: negative (1) X\n",
      "Next Sentence: 對的沒錯\n",
      "======================================================================\n",
      "['語者一：不好意思，因為那個是需要提供優惠碼的', '語者一：當初訂房時您可能沒有提供我們該優惠碼', '語者一：因此沒辦法幫您做折抵的動作', '語者二：啥那我怎麼知道優惠碼是什麼', '語者一：夏日優惠是有合作的廠商會從商品中贈送唷', '語者二：所以是他們買東西送的嗎', '語者一：對的沒錯', '語者一：我們是有合作方一同推行這個優惠活動的']\n",
      "True: negative (1)\n",
      "Pred: negative (1) \n",
      "Next Sentence: 那這樣對我很不公平欸\n",
      "======================================================================\n",
      "['語者一：因此沒辦法幫您做折抵的動作', '語者二：啥那我怎麼知道優惠碼是什麼', '語者一：夏日優惠是有合作的廠商會從商品中贈送唷', '語者二：所以是他們買東西送的嗎', '語者一：對的沒錯', '語者一：我們是有合作方一同推行這個優惠活動的', '語者二：那這樣對我很不公平欸', '語者二：我也想要那個優惠']\n",
      "True: negative (1)\n",
      "Pred: neutral (0) X\n",
      "Next Sentence: 抱歉先生，這部分可能真的沒有辦法\n",
      "======================================================================\n",
      "['語者一：夏日優惠是有合作的廠商會從商品中贈送唷', '語者二：所以是他們買東西送的嗎', '語者一：對的沒錯', '語者一：我們是有合作方一同推行這個優惠活動的', '語者二：那這樣對我很不公平欸', '語者二：我也想要那個優惠', '語者一：抱歉先生，這部分可能真的沒有辦法', '語者一：我們也是按照公司的規定辦事']\n",
      "True: negative (1)\n",
      "Pred: negative (1) \n",
      "Next Sentence: 好吧所以就算我倒霉吧\n",
      "======================================================================\n",
      "['語者一：所以是他們買東西送的嗎', '語者二：對的沒錯', '語者二：我們是有合作方一同推行這個優惠活動的', '語者一：那這樣對我很不公平欸', '語者一：我也想要那個優惠', '語者二：抱歉先生，這部分可能真的沒有辦法', '語者二：我們也是按照公司的規定辦事', '語者一：好吧所以就算我倒霉吧']\n",
      "True: negative (1)\n",
      "Pred: neutral (0) X\n",
      "Next Sentence: 抱歉先生請息怒\n",
      "======================================================================\n",
      "['語者一：我們是有合作方一同推行這個優惠活動的', '語者二：那這樣對我很不公平欸', '語者二：我也想要那個優惠', '語者一：抱歉先生，這部分可能真的沒有辦法', '語者一：我們也是按照公司的規定辦事', '語者二：好吧所以就算我倒霉吧', '語者一：抱歉先生請息怒', '語者一：還是說這裡提供您入住優待券']\n",
      "True: negative (1)\n",
      "Pred: negative (1) \n",
      "Next Sentence: 這是幹嘛的\n",
      "======================================================================\n",
      "['語者一：那這樣對我很不公平欸', '語者一：我也想要那個優惠', '語者二：抱歉先生，這部分可能真的沒有辦法', '語者二：我們也是按照公司的規定辦事', '語者一：好吧所以就算我倒霉吧', '語者二：抱歉先生請息怒', '語者二：還是說這裡提供您入住優待券', '語者一：這是幹嘛的']\n",
      "True: neutral (0)\n",
      "Pred: neutral (0) \n",
      "Next Sentence: 您下次入住時可以使用\n",
      "======================================================================\n",
      "['語者一：我也想要那個優惠', '語者二：抱歉先生，這部分可能真的沒有辦法', '語者二：我們也是按照公司的規定辦事', '語者一：好吧所以就算我倒霉吧', '語者二：抱歉先生請息怒', '語者二：還是說這裡提供您入住優待券', '語者一：這是幹嘛的', '語者二：您下次入住時可以使用']\n",
      "True: neutral (0)\n",
      "Pred: neutral (0) \n",
      "Next Sentence: 哦哦哦好像也行\n",
      "======================================================================\n",
      "['語者一：抱歉先生，這部分可能真的沒有辦法', '語者一：我們也是按照公司的規定辦事', '語者二：好吧所以就算我倒霉吧', '語者一：抱歉先生請息怒', '語者一：還是說這裡提供您入住優待券', '語者二：這是幹嘛的', '語者一：您下次入住時可以使用', '語者二：哦哦哦好像也行']\n",
      "True: negative (1)\n",
      "Pred: neutral (0) X\n",
      "Next Sentence: 不好意思讓您麻煩了\n",
      "======================================================================\n",
      "['語者一：我們也是按照公司的規定辦事', '語者二：好吧所以就算我倒霉吧', '語者一：抱歉先生請息怒', '語者一：還是說這裡提供您入住優待券', '語者二：這是幹嘛的', '語者一：您下次入住時可以使用', '語者二：哦哦哦好像也行', '語者一：不好意思讓您麻煩了']\n",
      "True: positive (2)\n",
      "Pred: neutral (0) X\n",
      "Next Sentence: 沒事沒事 感謝你哦\n",
      "======================================================================\n",
      "['語者一：總共四個人', '語者一：可以給我靠窗的座位嗎', '語者二：先生您好，我這裡幫您確認一下唷', '語者二：請稍等', '語者一：Okok', '語者二：不好意思，這週五的訂位都已經滿了哦', '語者一：真假 那剩什麼時候有位子', '語者一：禮拜六有嗎']\n",
      "True: neutral (0)\n",
      "Pred: neutral (0) \n",
      "Next Sentence: 禮拜六目前也是客滿的狀態\n",
      "======================================================================\n",
      "['語者一：先生您好，我這裡幫您確認一下唷', '語者一：請稍等', '語者二：Okok', '語者一：不好意思，這週五的訂位都已經滿了哦', '語者二：真假 那剩什麼時候有位子', '語者二：禮拜六有嗎', '語者一：禮拜六目前也是客滿的狀態', '語者一：只剩週日的中午有位子']\n",
      "True: negative (1)\n",
      "Pred: negative (1) \n",
      "Next Sentence: 乾不行欸\n",
      "======================================================================\n",
      "['語者一：Okok', '語者二：不好意思，這週五的訂位都已經滿了哦', '語者一：真假 那剩什麼時候有位子', '語者一：禮拜六有嗎', '語者二：禮拜六目前也是客滿的狀態', '語者二：只剩週日的中午有位子', '語者一：乾不行欸', '語者一：禮拜天中午我沒辦法']\n",
      "True: negative (1)\n",
      "Pred: positive (2) X\n",
      "Next Sentence: 很不好意思\n",
      "======================================================================\n",
      "['語者一：不好意思，這週五的訂位都已經滿了哦', '語者二：真假 那剩什麼時候有位子', '語者二：禮拜六有嗎', '語者一：禮拜六目前也是客滿的狀態', '語者一：只剩週日的中午有位子', '語者二：乾不行欸', '語者二：禮拜天中午我沒辦法', '語者一：很不好意思']\n",
      "True: negative (1)\n",
      "Pred: neutral (0) X\n",
      "Next Sentence: 還是說如果有人取消的話可以再電話通知我嗎\n",
      "======================================================================\n",
      "['語者一：真假 那剩什麼時候有位子', '語者一：禮拜六有嗎', '語者二：禮拜六目前也是客滿的狀態', '語者二：只剩週日的中午有位子', '語者一：乾不行欸', '語者一：禮拜天中午我沒辦法', '語者二：很不好意思', '語者一：還是說如果有人取消的話可以再電話通知我嗎']\n",
      "True: positive (2)\n",
      "Pred: neutral (0) X\n",
      "Next Sentence: 好的當然沒問題\n",
      "======================================================================\n",
      "['語者一：禮拜六目前也是客滿的狀態', '語者一：只剩週日的中午有位子', '語者二：乾不行欸', '語者二：禮拜天中午我沒辦法', '語者一：很不好意思', '語者二：還是說如果有人取消的話可以再電話通知我嗎', '語者一：好的當然沒問題', '語者一：方便跟您留個電話嗎']\n",
      "True: neutral (0)\n",
      "Pred: neutral (0) \n",
      "Next Sentence: 好！0912330339\n",
      "======================================================================\n",
      "['語者一：只剩週日的中午有位子', '語者二：乾不行欸', '語者二：禮拜天中午我沒辦法', '語者一：很不好意思', '語者二：還是說如果有人取消的話可以再電話通知我嗎', '語者一：好的當然沒問題', '語者一：方便跟您留個電話嗎', '語者二：好！0912330339']\n",
      "True: neutral (0)\n",
      "Pred: neutral (0) \n",
      "Next Sentence: 好的，請問您貴姓\n",
      "======================================================================\n",
      "['語者一：乾不行欸', '語者一：禮拜天中午我沒辦法', '語者二：很不好意思', '語者一：還是說如果有人取消的話可以再電話通知我嗎', '語者二：好的當然沒問題', '語者二：方便跟您留個電話嗎', '語者一：好！0912330339', '語者二：好的，請問您貴姓']\n",
      "True: neutral (0)\n",
      "Pred: neutral (0) \n",
      "Next Sentence: 黃先生\n",
      "======================================================================\n",
      "['語者一：禮拜天中午我沒辦法', '語者二：很不好意思', '語者一：還是說如果有人取消的話可以再電話通知我嗎', '語者二：好的當然沒問題', '語者二：方便跟您留個電話嗎', '語者一：好！0912330339', '語者二：好的，請問您貴姓', '語者一：黃先生']\n",
      "True: positive (2)\n",
      "Pred: neutral (0) X\n",
      "Next Sentence: 好，那這裡如果週五有座位的話會再通知您唷\n",
      "======================================================================\n",
      "['語者一：很不好意思', '語者二：還是說如果有人取消的話可以再電話通知我嗎', '語者一：好的當然沒問題', '語者一：方便跟您留個電話嗎', '語者二：好！0912330339', '語者一：好的，請問您貴姓', '語者二：黃先生', '語者一：好，那這裡如果週五有座位的話會再通知您唷']\n",
      "True: positive (2)\n",
      "Pred: neutral (0) X\n",
      "Next Sentence: 好的 謝謝你\n",
      "======================================================================\n",
      "['語者一：還是說如果有人取消的話可以再電話通知我嗎', '語者二：好的當然沒問題', '語者二：方便跟您留個電話嗎', '語者一：好！0912330339', '語者二：好的，請問您貴姓', '語者一：黃先生', '語者二：好，那這裡如果週五有座位的話會再通知您唷', '語者一：好的 謝謝你']\n",
      "True: positive (2)\n",
      "Pred: positive (2) \n",
      "Next Sentence: 不會不會\n",
      "======================================================================\n",
      "['語者一：一口價', '語者一：一百塊', '語者二：蛤', '語者二：太貴了吧', '語者二：我看網路上類似的只要五十塊欸', '語者一：那你去網路上買啊', '語者一：這個是我們自己做的啊', '語者一：外面買不到的啦']\n",
      "True: negative (1)\n",
      "Pred: negative (1) \n",
      "Next Sentence: 蛤\n",
      "======================================================================\n",
      "['語者一：太貴了吧', '語者一：我看網路上類似的只要五十塊欸', '語者二：那你去網路上買啊', '語者二：這個是我們自己做的啊', '語者二：外面買不到的啦', '語者一：蛤', '語者一：可以算我便宜一點嗎', '語者一：我好不容易從鄉下來玩的欸']\n",
      "True: negative (1)\n",
      "Pred: negative (1) \n",
      "Next Sentence: 不行不行不行\n",
      "======================================================================\n",
      "['語者一：外面買不到的啦', '語者二：蛤', '語者二：可以算我便宜一點嗎', '語者二：我好不容易從鄉下來玩的欸', '語者一：不行不行不行', '語者一：現在成本一直在漲', '語者一：不可能讓你砍價錢', '語者一：誰管你從哪邊來的']\n",
      "True: neutral (0)\n",
      "Pred: neutral (0) \n",
      "Next Sentence: 那能不能買這個然後送我其他東西呢\n",
      "======================================================================\n",
      "['語者一：我好不容易從鄉下來玩的欸', '語者二：不行不行不行', '語者二：現在成本一直在漲', '語者二：不可能讓你砍價錢', '語者二：誰管你從哪邊來的', '語者一：那能不能買這個然後送我其他東西呢', '語者一：他真的很可愛欸', '語者一：感覺是您用心良苦做的呢']\n",
      "True: positive (2)\n",
      "Pred: negative (1) X\n",
      "Next Sentence: 沒錯\n",
      "======================================================================\n",
      "['語者一：誰管你從哪邊來的', '語者二：那能不能買這個然後送我其他東西呢', '語者二：他真的很可愛欸', '語者二：感覺是您用心良苦做的呢', '語者一：沒錯', '語者一：你摸這個材質', '語者一：這可是從克什米爾進口的羊毛', '語者一：別的地方可是買不到的']\n",
      "True: positive (2)\n",
      "Pred: neutral (0) X\n",
      "Next Sentence: 哇真的喔\n",
      "======================================================================\n",
      "['語者一：他真的很可愛欸', '語者一：感覺是您用心良苦做的呢', '語者二：沒錯', '語者二：你摸這個材質', '語者二：這可是從克什米爾進口的羊毛', '語者二：別的地方可是買不到的', '語者一：哇真的喔', '語者一：好吧那我就用一百塊跟你買吧']\n",
      "True: positive (2)\n",
      "Pred: negative (1) X\n",
      "Next Sentence: 銘謝惠顧下次再來\n",
      "======================================================================\n",
      "['語者一：為什麼我的房間沒有熱水呢', '語者二：小姐您好', '語者二：請問您昨晚的房間號碼是多少呢', '語者一：啊就三樓最裡面那間啊', '語者一：都走那麼遠要走到底才到房間', '語者一：還沒有熱水', '語者一：這樣還收我一個晚上一萬五', '語者一：不合理吧']\n",
      "True: negative (1)\n",
      "Pred: negative (1) \n",
      "Next Sentence: 我現在馬上請人去確認\n",
      "======================================================================\n",
      "['語者一：啊就三樓最裡面那間啊', '語者一：都走那麼遠要走到底才到房間', '語者一：還沒有熱水', '語者一：這樣還收我一個晚上一萬五', '語者一：不合理吧', '語者二：我現在馬上請人去確認', '語者二：真的非常抱歉', '語者二：但稍早退房的房客都沒有這樣的問題']\n",
      "True: negative (1)\n",
      "Pred: negative (1) \n",
      "Next Sentence: 啊我的房間就是沒熱水啊\n",
      "======================================================================\n",
      "['語者一：還沒有熱水', '語者一：這樣還收我一個晚上一萬五', '語者一：不合理吧', '語者二：我現在馬上請人去確認', '語者二：真的非常抱歉', '語者二：但稍早退房的房客都沒有這樣的問題', '語者一：啊我的房間就是沒熱水啊', '語者一：我要退費']\n",
      "True: neutral (0)\n",
      "Pred: negative (1) X\n",
      "Next Sentence: 我們工作人員確認後發現確實有管線異常的問題\n",
      "======================================================================\n",
      "['語者一：這樣還收我一個晚上一萬五', '語者一：不合理吧', '語者二：我現在馬上請人去確認', '語者二：真的非常抱歉', '語者二：但稍早退房的房客都沒有這樣的問題', '語者一：啊我的房間就是沒熱水啊', '語者一：我要退費', '語者二：我們工作人員確認後發現確實有管線異常的問題']\n",
      "True: negative (1)\n",
      "Pred: negative (1) \n",
      "Next Sentence: 對啊我就覺得怪怪的\n",
      "======================================================================\n",
      "['語者一：不合理吧', '語者二：我現在馬上請人去確認', '語者二：真的非常抱歉', '語者二：但稍早退房的房客都沒有這樣的問題', '語者一：啊我的房間就是沒熱水啊', '語者一：我要退費', '語者二：我們工作人員確認後發現確實有管線異常的問題', '語者一：對啊我就覺得怪怪的']\n",
      "True: negative (1)\n",
      "Pred: neutral (0) X\n",
      "Next Sentence: 真的是十分的抱歉\n",
      "======================================================================\n",
      "['語者一：啊我的房間就是沒熱水啊', '語者一：我要退費', '語者二：我們工作人員確認後發現確實有管線異常的問題', '語者一：對啊我就覺得怪怪的', '語者二：真的是十分的抱歉', '語者二：這是我們連鎖溫泉會館的住宿優惠券', '語者二：為了補償您', '語者二：讓您下次到訪可以直接升級成總統套房']\n",
      "True: neutral (0)\n",
      "Pred: neutral (0) \n",
      "Next Sentence: 這還差不多\n",
      "======================================================================\n",
      "['語者一：對啊我就覺得怪怪的', '語者二：真的是十分的抱歉', '語者二：這是我們連鎖溫泉會館的住宿優惠券', '語者二：為了補償您', '語者二：讓您下次到訪可以直接升級成總統套房', '語者一：這還差不多', '語者一：但這次還是要給我點折扣吧', '語者一：不然我下次才不想來']\n",
      "True: neutral (0)\n",
      "Pred: neutral (0) \n",
      "Next Sentence: 這個嘛\n",
      "======================================================================\n",
      "['語者一：為了補償您', '語者一：讓您下次到訪可以直接升級成總統套房', '語者二：這還差不多', '語者二：但這次還是要給我點折扣吧', '語者二：不然我下次才不想來', '語者一：這個嘛', '語者一：有鑒於昨天是管線壞掉', '語者一：那就算您一般房型的價格吧']\n",
      "True: positive (2)\n",
      "Pred: negative (1) X\n",
      "Next Sentence: 合情合理\n",
      "======================================================================\n",
      "['語者一：系統顯示我們查不到您的訂位資料', '語者一：可能有一些問題出現了', '語者二：這可糟了', '語者二：我特地為今天晚上的用餐做了訂位', '語者二：你們一定要讓我進去吃飯啊', '語者二：我有一個非常重要的朋友等著和我一起用餐', '語者一：真的非常抱歉', '語者一：我們會盡快解決這個問題']\n",
      "True: neutral (0)\n",
      "Pred: neutral (0) \n",
      "Next Sentence: 啊\n",
      "======================================================================\n",
      "['語者一：真的非常抱歉', '語者一：我們會盡快解決這個問題', '語者二：啊', '語者二：我可以給你我的朋友的名字', '語者二：你再查一次', '語者二：說不定可以找到訂位資料', '語者二：他的名字是「漢堡王子」', '語者二：他在這裡非常有名']\n",
      "True: neutral (0)\n",
      "Pred: negative (1) X\n",
      "Next Sentence: 我們是根據預訂姓名和聯絡資訊進行查詢\n",
      "======================================================================\n",
      "['語者一：我可以給你我的朋友的名字', '語者一：你再查一次', '語者一：說不定可以找到訂位資料', '語者一：他的名字是「漢堡王子」', '語者一：他在這裡非常有名', '語者二：我們是根據預訂姓名和聯絡資訊進行查詢', '語者二：不太會以別名或外號進行搜索', '語者二：但我們可以再次仔細檢查']\n",
      "True: neutral (0)\n",
      "Pred: neutral (0) \n",
      "Next Sentence: 如果不行的話\n",
      "======================================================================\n",
      "['語者一：他在這裡非常有名', '語者二：我們是根據預訂姓名和聯絡資訊進行查詢', '語者二：不太會以別名或外號進行搜索', '語者二：但我們可以再次仔細檢查', '語者一：如果不行的話', '語者一：你能不能跟老闆說一聲', '語者一：告訴他「漢堡王子」要來用餐', '語者一：他應該會給我安排特別的位置']\n",
      "True: neutral (0)\n",
      "Pred: neutral (0) \n",
      "Next Sentence: 我明白您的想法\n",
      "======================================================================\n",
      "['語者一：你能不能跟老闆說一聲', '語者一：告訴他「漢堡王子」要來用餐', '語者一：他應該會給我安排特別的位置', '語者二：我明白您的想法', '語者二：但是我們必須根據正確的訂位資料進行處理', '語者二：以確保公平和準確性', '語者二：我會再次檢查我們的系統', '語者二：同時我們也會盡力找到其他解決方案']\n",
      "True: negative (1)\n",
      "Pred: negative (1) \n",
      "Next Sentence: 好吧\n",
      "======================================================================\n",
      "['語者一：我明白您的想法', '語者一：但是我們必須根據正確的訂位資料進行處理', '語者一：以確保公平和準確性', '語者一：我會再次檢查我們的系統', '語者一：同時我們也會盡力找到其他解決方案', '語者二：好吧', '語者二：我希望你們能夠盡快解決這個問題', '語者二：我真的很想和我的朋友一起度過愉快的晚餐']\n",
      "True: positive (2)\n",
      "Pred: neutral (0) X\n",
      "Next Sentence: 非常感謝您的理解和耐心等待\n",
      "======================================================================\n",
      "['語者一：我想去台東欸', '語者二：蛤台東會不會太遠啊', '語者二：我還以為我們只是要在台北走走而已', '語者一：怎麼可能', '語者一：台北有什麼好玩的', '語者一：當然要去台東啊', '語者一：台東很漂亮欸', '語者一：而且我還要去知本泡溫泉']\n",
      "True: negative (1)\n",
      "Pred: negative (1) \n",
      "Next Sentence: 台東坐火車要五個小時欸\n",
      "======================================================================\n",
      "['語者一：我還以為我們只是要在台北走走而已', '語者二：怎麼可能', '語者二：台北有什麼好玩的', '語者二：當然要去台東啊', '語者二：台東很漂亮欸', '語者二：而且我還要去知本泡溫泉', '語者一：台東坐火車要五個小時欸', '語者一：而且這麼熱泡什麼溫泉']\n",
      "True: negative (1)\n",
      "Pred: negative (1) \n",
      "Next Sentence: 啊一起搭火車就不會無聊啊\n",
      "======================================================================\n",
      "['語者一：台北有什麼好玩的', '語者一：當然要去台東啊', '語者一：台東很漂亮欸', '語者一：而且我還要去知本泡溫泉', '語者二：台東坐火車要五個小時欸', '語者二：而且這麼熱泡什麼溫泉', '語者一：啊一起搭火車就不會無聊啊', '語者一：不然你說你想去哪裡啊']\n",
      "True: negative (1)\n",
      "Pred: negative (1) \n",
      "Next Sentence: 頂多去宜蘭吧\n",
      "======================================================================\n",
      "['語者一：當然要去台東啊', '語者一：台東很漂亮欸', '語者一：而且我還要去知本泡溫泉', '語者二：台東坐火車要五個小時欸', '語者二：而且這麼熱泡什麼溫泉', '語者一：啊一起搭火車就不會無聊啊', '語者一：不然你說你想去哪裡啊', '語者二：頂多去宜蘭吧']\n",
      "True: negative (1)\n",
      "Pred: negative (1) \n",
      "Next Sentence: 不要\n",
      "======================================================================\n",
      "['語者一：台東坐火車要五個小時欸', '語者一：而且這麼熱泡什麼溫泉', '語者二：啊一起搭火車就不會無聊啊', '語者二：不然你說你想去哪裡啊', '語者一：頂多去宜蘭吧', '語者二：不要', '語者二：宜蘭好無聊', '語者二：我們還是要去台東']\n",
      "True: neutral (0)\n",
      "Pred: negative (1) X\n",
      "Next Sentence: 宜蘭也有溫泉啊\n",
      "======================================================================\n",
      "['語者一：啊一起搭火車就不會無聊啊', '語者一：不然你說你想去哪裡啊', '語者二：頂多去宜蘭吧', '語者一：不要', '語者一：宜蘭好無聊', '語者一：我們還是要去台東', '語者二：宜蘭也有溫泉啊', '語者二：風景也不錯很 chill 啊']\n",
      "True: negative (1)\n",
      "Pred: negative (1) \n",
      "Next Sentence: 可是我沒有去過台東\n",
      "======================================================================\n",
      "['語者一：不要', '語者一：宜蘭好無聊', '語者一：我們還是要去台東', '語者二：宜蘭也有溫泉啊', '語者二：風景也不錯很 chill 啊', '語者一：可是我沒有去過台東', '語者一：而且我想跟你們一起去', '語者一：不然之後又不知道什麼時候可以一起去欸']\n",
      "True: neutral (0)\n",
      "Pred: neutral (0) \n",
      "Next Sentence: 你竟然還沒去過台東\n",
      "======================================================================\n",
      "['語者一：宜蘭也有溫泉啊', '語者一：風景也不錯很 chill 啊', '語者二：可是我沒有去過台東', '語者二：而且我想跟你們一起去', '語者二：不然之後又不知道什麼時候可以一起去欸', '語者一：你竟然還沒去過台東', '語者一：那如果要去的話', '語者一：就要搭自強 emu 3000']\n",
      "True: positive (2)\n",
      "Pred: neutral (0) X\n",
      "Next Sentence: 好啊\n",
      "======================================================================\n",
      "['語者一：而且我想跟你們一起去', '語者一：不然之後又不知道什麼時候可以一起去欸', '語者二：你竟然還沒去過台東', '語者二：那如果要去的話', '語者二：就要搭自強 emu 3000', '語者一：好啊', '語者一：耶', '語者一：台東走囉']\n",
      "True: positive (2)\n",
      "Pred: positive (2) \n",
      "Next Sentence: 那你就想想你想去哪裡吧\n",
      "======================================================================\n",
      "['語者一：不然之後又不知道什麼時候可以一起去欸', '語者二：你竟然還沒去過台東', '語者二：那如果要去的話', '語者二：就要搭自強 emu 3000', '語者一：好啊', '語者一：耶', '語者一：台東走囉', '語者二：那你就想想你想去哪裡吧']\n",
      "True: positive (2)\n",
      "Pred: neutral (0) X\n",
      "Next Sentence: 耶\n",
      "======================================================================\n",
      "['語者一：導致我們輾轉反側、徹夜難眠', '語者二：好的', '語者二：請問您的房間號碼是', '語者一：546', '語者二：好的', '語者二：昨天櫃台有接獲您的電話', '語者二：很抱歉沒有馬上去處理您的冷氣', '語者二：後來有向大家說明該區的空調系統故障']\n",
      "True: neutral (0)\n",
      "Pred: neutral (0) \n",
      "Next Sentence: 喔我瞭解了\n",
      "======================================================================\n",
      "['語者一：546', '語者二：好的', '語者二：昨天櫃台有接獲您的電話', '語者二：很抱歉沒有馬上去處理您的冷氣', '語者二：後來有向大家說明該區的空調系統故障', '語者一：喔我瞭解了', '語者一：但因為我們昨天真的住的非常不舒服', '語者一：想請問你們是否有什麼部分退費的補償呢']\n",
      "True: neutral (0)\n",
      "Pred: neutral (0) \n",
      "Next Sentence: 是這樣的\n",
      "======================================================================\n",
      "['語者一：喔我瞭解了', '語者一：但因為我們昨天真的住的非常不舒服', '語者一：想請問你們是否有什麼部分退費的補償呢', '語者二：是這樣的', '語者二：我們昨天有和您們說可以換房間', '語者二：但您們房間遲遲沒有提出該請求', '語者二：我們就認為您們不需要這樣的服務', '語者二：所以是沒有辦法退費的喔']\n",
      "True: negative (1)\n",
      "Pred: negative (1) \n",
      "Next Sentence: 我們昨天沒有收到這樣的詢問啊\n",
      "======================================================================\n",
      "['語者一：想請問你們是否有什麼部分退費的補償呢', '語者二：是這樣的', '語者二：我們昨天有和您們說可以換房間', '語者二：但您們房間遲遲沒有提出該請求', '語者二：我們就認為您們不需要這樣的服務', '語者二：所以是沒有辦法退費的喔', '語者一：我們昨天沒有收到這樣的詢問啊', '語者一：請問您們是什麼時候告知我們的']\n",
      "True: neutral (0)\n",
      "Pred: neutral (0) \n",
      "Next Sentence: 大概是晚上八點\n",
      "======================================================================\n",
      "['語者一：是這樣的', '語者一：我們昨天有和您們說可以換房間', '語者一：但您們房間遲遲沒有提出該請求', '語者一：我們就認為您們不需要這樣的服務', '語者一：所以是沒有辦法退費的喔', '語者二：我們昨天沒有收到這樣的詢問啊', '語者二：請問您們是什麼時候告知我們的', '語者一：大概是晚上八點']\n",
      "True: negative (1)\n",
      "Pred: neutral (0) X\n",
      "Next Sentence: 晚上八點的時候我在洗澡當然沒有聽到\n",
      "======================================================================\n",
      "['語者一：我們昨天有和您們說可以換房間', '語者一：但您們房間遲遲沒有提出該請求', '語者一：我們就認為您們不需要這樣的服務', '語者一：所以是沒有辦法退費的喔', '語者二：我們昨天沒有收到這樣的詢問啊', '語者二：請問您們是什麼時候告知我們的', '語者一：大概是晚上八點', '語者二：晚上八點的時候我在洗澡當然沒有聽到']\n",
      "True: neutral (0)\n",
      "Pred: neutral (0) \n",
      "Next Sentence: 好吧\n",
      "======================================================================\n",
      "['語者一：請問您們是什麼時候告知我們的', '語者二：大概是晚上八點', '語者一：晚上八點的時候我在洗澡當然沒有聽到', '語者二：好吧', '語者二：那沒有通知到您是我們的疏忽', '語者二：那這邊就給您我們溫泉區的優惠券', '語者二：若是您今天還有時間的話可以去體驗', '語者二：或是之後也可以使用']\n",
      "True: positive (2)\n",
      "Pred: neutral (0) X\n",
      "Next Sentence: 好啊謝謝\n",
      "======================================================================\n",
      "['語者一：晚上八點的時候我在洗澡當然沒有聽到', '語者二：好吧', '語者二：那沒有通知到您是我們的疏忽', '語者二：那這邊就給您我們溫泉區的優惠券', '語者二：若是您今天還有時間的話可以去體驗', '語者二：或是之後也可以使用', '語者一：好啊謝謝', '語者一：你的服務非常的好']\n",
      "True: negative (1)\n",
      "Pred: neutral (0) X\n",
      "Next Sentence: 在此再次致上我們飯店的歉意\n",
      "======================================================================\n",
      "['語者一：我想要退貨', '語者二：好的', '語者二：但我們商品說明有提到', '語者二：有顏色落差是正常的', '語者一：我訂的是水藍色的', '語者一：但收到的貨品是接近黑色的深藍色', '語者一：這不是用落差可以形容的', '語者一：這根本是兩個不同的顏色啊']\n",
      "True: neutral (0)\n",
      "Pred: neutral (0) \n",
      "Next Sentence: 我認為那還是屬於顏色落差的範圍\n",
      "======================================================================\n",
      "['語者一：有顏色落差是正常的', '語者二：我訂的是水藍色的', '語者二：但收到的貨品是接近黑色的深藍色', '語者二：這不是用落差可以形容的', '語者二：這根本是兩個不同的顏色啊', '語者一：我認為那還是屬於顏色落差的範圍', '語者一：而且畢竟內部紙頁沒有損害', '語者一：這樣您還是要退貨嗎']\n",
      "True: negative (1)\n",
      "Pred: negative (1) \n",
      "Next Sentence: 對\n",
      "======================================================================\n",
      "['語者一：我認為那還是屬於顏色落差的範圍', '語者一：而且畢竟內部紙頁沒有損害', '語者一：這樣您還是要退貨嗎', '語者二：對', '語者二：我是因為這個筆記本的封面好看才買他的', '語者二：而且筆記本的內頁其實沒什麼特別', '語者二：看到實際產品我很失望', '語者二：所以還是想要退貨']\n",
      "True: neutral (0)\n",
      "Pred: neutral (0) \n",
      "Next Sentence: 好的\n",
      "======================================================================\n",
      "['語者一：我是因為這個筆記本的封面好看才買他的', '語者一：而且筆記本的內頁其實沒什麼特別', '語者一：看到實際產品我很失望', '語者一：所以還是想要退貨', '語者二：好的', '語者二：若是您執意要退貨', '語者二：我們會退給您商品的價錢', '語者二：但是運費方面需要您自行負擔']\n",
      "True: negative (1)\n",
      "Pred: negative (1) \n",
      "Next Sentence: 可是我還在七天鑑賞期內啊\n",
      "======================================================================\n",
      "['語者一：看到實際產品我很失望', '語者一：所以還是想要退貨', '語者二：好的', '語者二：若是您執意要退貨', '語者二：我們會退給您商品的價錢', '語者二：但是運費方面需要您自行負擔', '語者一：可是我還在七天鑑賞期內啊', '語者一：應該要讓我無條件退貨吧']\n",
      "True: negative (1)\n",
      "Pred: neutral (0) X\n",
      "Next Sentence: 是沒錯啊\n",
      "======================================================================\n",
      "['語者一：若是您執意要退貨', '語者一：我們會退給您商品的價錢', '語者一：但是運費方面需要您自行負擔', '語者二：可是我還在七天鑑賞期內啊', '語者二：應該要讓我無條件退貨吧', '語者一：是沒錯啊', '語者一：但是七天鑑賞期又沒有規定我們需要幫你負擔額外的運費', '語者一：所以要求您自行負擔也是合理的']\n",
      "True: negative (1)\n",
      "Pred: negative (1) \n",
      "Next Sentence: 沒有啊\n",
      "======================================================================\n",
      "['語者一：應該要讓我無條件退貨吧', '語者二：是沒錯啊', '語者二：但是七天鑑賞期又沒有規定我們需要幫你負擔額外的運費', '語者二：所以要求您自行負擔也是合理的', '語者一：沒有啊', '語者一：七天鑑賞期無條件退貨就是指我可以拿回全部的錢', '語者一：我應該不需要再額外負擔運費', '語者一：您們應該要自行吸收']\n",
      "True: negative (1)\n",
      "Pred: neutral (0) X\n",
      "Next Sentence: 我認為退貨運費不屬於商品本身\n",
      "======================================================================\n",
      "['語者一：所以要求您自行負擔也是合理的', '語者二：沒有啊', '語者二：七天鑑賞期無條件退貨就是指我可以拿回全部的錢', '語者二：我應該不需要再額外負擔運費', '語者二：您們應該要自行吸收', '語者一：我認為退貨運費不屬於商品本身', '語者一：若是您不願意自行負擔運費的話', '語者一：那就不幫您做退貨處理了']\n",
      "True: negative (1)\n",
      "Pred: negative (1) \n",
      "Next Sentence: 可以請您們主管接一下電話嗎\n",
      "======================================================================\n",
      "['語者一：沒有啊', '語者一：七天鑑賞期無條件退貨就是指我可以拿回全部的錢', '語者一：我應該不需要再額外負擔運費', '語者一：您們應該要自行吸收', '語者二：我認為退貨運費不屬於商品本身', '語者二：若是您不願意自行負擔運費的話', '語者二：那就不幫您做退貨處理了', '語者一：可以請您們主管接一下電話嗎']\n",
      "True: negative (1)\n",
      "Pred: negative (1) \n",
      "Next Sentence: 他很忙沒有辦法接電話\n",
      "======================================================================\n",
      "['語者一：我應該不需要再額外負擔運費', '語者一：您們應該要自行吸收', '語者二：我認為退貨運費不屬於商品本身', '語者二：若是您不願意自行負擔運費的話', '語者二：那就不幫您做退貨處理了', '語者一：可以請您們主管接一下電話嗎', '語者二：他很忙沒有辦法接電話', '語者二：如果沒有別的事我就先處理別的客戶了']\n",
      "True: negative (1)\n",
      "Pred: negative (1) \n",
      "Next Sentence: 好吧算了\n",
      "======================================================================\n",
      "['語者一：若是您不願意自行負擔運費的話', '語者一：那就不幫您做退貨處理了', '語者二：可以請您們主管接一下電話嗎', '語者一：他很忙沒有辦法接電話', '語者一：如果沒有別的事我就先處理別的客戶了', '語者二：好吧算了', '語者二：我就自行出運費吧', '語者二：但我會去詢問消保官的']\n",
      "True: negative (1)\n",
      "Pred: negative (1) \n",
      "Next Sentence: 您請自便\n",
      "======================================================================\n",
      "['語者一：非常抱歉', '語者一：但根據我們公司的規定', '語者一：價格變動是無法提供差額補償的', '語者二：我知道公司可能有這樣的規定', '語者二：但我感到有些不公平', '語者二：畢竟我才剛剛購買這個商品', '語者二：價格就立刻下降了', '語者二：我希望能夠獲得一些補償']\n",
      "True: neutral (0)\n",
      "Pred: negative (1) X\n",
      "Next Sentence: 我理解您的不滿\n",
      "======================================================================\n",
      "['語者一：但我感到有些不公平', '語者一：畢竟我才剛剛購買這個商品', '語者一：價格就立刻下降了', '語者一：我希望能夠獲得一些補償', '語者二：我理解您的不滿', '語者二：這次的價格變動是基於市場因素和供應鏈變化', '語者二：公司無法個別對每位客戶提供價格調整', '語者二：我們希望能夠提供其他的優惠或折扣作為補償']\n",
      "True: negative (1)\n",
      "Pred: negative (1) \n",
      "Next Sentence: 在我看來\n",
      "======================================================================\n",
      "['語者一：我希望能夠獲得一些補償', '語者二：我理解您的不滿', '語者二：這次的價格變動是基於市場因素和供應鏈變化', '語者二：公司無法個別對每位客戶提供價格調整', '語者二：我們希望能夠提供其他的優惠或折扣作為補償', '語者一：在我看來', '語者一：這次的價格下降對我來說是個不公平的情況', '語者一：我希望能夠得到公司的合理回應和解決方案']\n",
      "True: neutral (0)\n",
      "Pred: negative (1) X\n",
      "Next Sentence: 我非常理解你的立場\n",
      "======================================================================\n",
      "['語者一：這次的價格變動是基於市場因素和供應鏈變化', '語者一：公司無法個別對每位客戶提供價格調整', '語者一：我們希望能夠提供其他的優惠或折扣作為補償', '語者二：在我看來', '語者二：這次的價格下降對我來說是個不公平的情況', '語者二：我希望能夠得到公司的合理回應和解決方案', '語者一：我非常理解你的立場', '語者一：我會將你的反饋轉達給相關部門']\n",
      "True: neutral (0)\n",
      "Pred: negative (1) X\n",
      "Next Sentence: 如果能夠提供其他的優惠或折扣\n",
      "======================================================================\n",
      "['語者一：在我看來', '語者一：這次的價格下降對我來說是個不公平的情況', '語者一：我希望能夠得到公司的合理回應和解決方案', '語者二：我非常理解你的立場', '語者二：我會將你的反饋轉達給相關部門', '語者一：如果能夠提供其他的優惠或折扣', '語者一：我會考慮接受', '語者一：但仍希望能夠得到對價格下降的合理回應']\n",
      "True: neutral (0)\n",
      "Pred: negative (1) X\n",
      "Next Sentence: 我會將你的意見傳達給相關部門並努力尋找解決方案\n",
      "======================================================================\n",
      "['語者一：你覺得怎麼樣', '語者二：其實我對沙灘不太感興趣', '語者二：我更喜歡山區的風景', '語者二：而且我們住在北部', '語者二：南部的旅行對我們來說可能有點遠和不方便', '語者一：我了解你的考慮', '語者一：那你有什麼建議嗎', '語者一：我們可以再找其他適合的地方']\n",
      "True: positive (2)\n",
      "Pred: negative (1) X\n",
      "Next Sentence: 我知道一個很漂亮的山區度假村\n",
      "======================================================================\n",
      "['語者一：我了解你的考慮', '語者一：那你有什麼建議嗎', '語者一：我們可以再找其他適合的地方', '語者二：我知道一個很漂亮的山區度假村', '語者二：有許多步道和美景', '語者二：你可能會喜歡', '語者二：而且它離我們的住處比較近', '語者二：交通也比較方便']\n",
      "True: positive (2)\n",
      "Pred: neutral (0) X\n",
      "Next Sentence: 哦\n",
      "======================================================================\n",
      "['語者一：我知道一個很漂亮的山區度假村', '語者一：有許多步道和美景', '語者一：你可能會喜歡', '語者一：而且它離我們的住處比較近', '語者一：交通也比較方便', '語者二：哦', '語者二：那聽起來不錯', '語者二：可以告訴我更多細節嗎']\n",
      "True: neutral (0)\n",
      "Pred: positive (2) X\n",
      "Next Sentence: 這個度假村有許多房型可供選擇\n",
      "======================================================================\n",
      "['語者一：你可能會喜歡', '語者一：而且它離我們的住處比較近', '語者一：交通也比較方便', '語者二：哦', '語者二：那聽起來不錯', '語者二：可以告訴我更多細節嗎', '語者一：這個度假村有許多房型可供選擇', '語者一：可以欣賞到壯麗的山景']\n",
      "True: positive (2)\n",
      "Pred: negative (1) X\n",
      "Next Sentence: 太好了\n",
      "======================================================================\n",
      "['語者一：哦', '語者一：那聽起來不錯', '語者一：可以告訴我更多細節嗎', '語者二：這個度假村有許多房型可供選擇', '語者二：可以欣賞到壯麗的山景', '語者一：太好了', '語者一：如果價格和預訂方面沒有問題的話', '語者一：我會很樂意和你一起去那個山區度假村']\n",
      "True: positive (2)\n",
      "Pred: neutral (0) X\n",
      "Next Sentence: 太棒了\n",
      "======================================================================\n",
      "['語者一：要看什麼', '語者二：當然是', '語者二：速度與激情九', '語者一：蛤', '語者一：聽說那部電影不好看', '語者一：只是廣告做得還不錯', '語者一：喔話說', '語者一：那要不要吃冰淇淋']\n",
      "True: negative (1)\n",
      "Pred: negative (1) \n",
      "Next Sentence: 我不太想吃冰淇淋\n",
      "======================================================================\n",
      "['語者一：蛤', '語者一：聽說那部電影不好看', '語者一：只是廣告做得還不錯', '語者一：喔話說', '語者一：那要不要吃冰淇淋', '語者二：我不太想吃冰淇淋', '語者二：但是你也只是聽說', '語者二：電影還是要自己去看才知道啊']\n",
      "True: negative (1)\n",
      "Pred: neutral (0) X\n",
      "Next Sentence: 但我不喜歡看巨石強森的電影\n",
      "======================================================================\n",
      "['語者一：喔話說', '語者一：那要不要吃冰淇淋', '語者二：我不太想吃冰淇淋', '語者二：但是你也只是聽說', '語者二：電影還是要自己去看才知道啊', '語者一：但我不喜歡看巨石強森的電影', '語者一：但是冰淇淋', '語者一：我最喜歡']\n",
      "True: positive (2)\n",
      "Pred: neutral (0) X\n",
      "Next Sentence: 那要不要去唱歌\n",
      "======================================================================\n",
      "['語者一：我不太想吃冰淇淋', '語者一：但是你也只是聽說', '語者一：電影還是要自己去看才知道啊', '語者二：但我不喜歡看巨石強森的電影', '語者二：但是冰淇淋', '語者二：我最喜歡', '語者一：那要不要去唱歌', '語者一：我剛好有優惠券']\n",
      "True: neutral (0)\n",
      "Pred: negative (1) X\n",
      "Next Sentence: 喔那所以是什麼時候\n",
      "======================================================================\n",
      "['語者一：但是你也只是聽說', '語者一：電影還是要自己去看才知道啊', '語者二：但我不喜歡看巨石強森的電影', '語者二：但是冰淇淋', '語者二：我最喜歡', '語者一：那要不要去唱歌', '語者一：我剛好有優惠券', '語者二：喔那所以是什麼時候']\n",
      "True: neutral (0)\n",
      "Pred: neutral (0) \n",
      "Next Sentence: 那兩個禮拜以後\n",
      "======================================================================\n",
      "['語者一：但是冰淇淋', '語者一：我最喜歡', '語者二：那要不要去唱歌', '語者二：我剛好有優惠券', '語者一：喔那所以是什麼時候', '語者二：那兩個禮拜以後', '語者二：那時候應該都忙完了', '語者二：你應該有空吧']\n",
      "True: negative (1)\n",
      "Pred: neutral (0) X\n",
      "Next Sentence: 喔不行啦\n",
      "======================================================================\n",
      "['語者一：那要不要去唱歌', '語者一：我剛好有優惠券', '語者二：喔那所以是什麼時候', '語者一：那兩個禮拜以後', '語者一：那時候應該都忙完了', '語者一：你應該有空吧', '語者二：喔不行啦', '語者二：我還有一份報告要交']\n",
      "True: negative (1)\n",
      "Pred: neutral (0) X\n",
      "Next Sentence: 喔好啦\n",
      "======================================================================\n",
      "['語者一：喔那所以是什麼時候', '語者二：那兩個禮拜以後', '語者二：那時候應該都忙完了', '語者二：你應該有空吧', '語者一：喔不行啦', '語者一：我還有一份報告要交', '語者二：喔好啦', '語者二：那你有空再跟我說']\n",
      "True: neutral (0)\n",
      "Pred: neutral (0) \n",
      "Next Sentence: 喔好啊\n",
      "======================================================================\n",
      "['語者一：蛤你分手了喔', '語者二：對', '語者二：他提的', '語者二：他到底憑什麼', '語者二：我的條件這麼好', '語者一：沒關係', '語者一：下一個會更好', '語者一：不過我是覺得他的條件也不錯']\n",
      "True: negative (1)\n",
      "Pred: negative (1) \n",
      "Next Sentence: 屁啦\n",
      "======================================================================\n",
      "['語者一：他到底憑什麼', '語者一：我的條件這麼好', '語者二：沒關係', '語者二：下一個會更好', '語者二：不過我是覺得他的條件也不錯', '語者一：屁啦', '語者一：我跟他在一起根本是屈就於他', '語者一：他憑什麼跟我提分手啊']\n",
      "True: neutral (0)\n",
      "Pred: neutral (0) \n",
      "Next Sentence: 我是覺得你們條件都不差啦\n",
      "======================================================================\n",
      "['語者一：不過我是覺得他的條件也不錯', '語者二：屁啦', '語者二：我跟他在一起根本是屈就於他', '語者二：他憑什麼跟我提分手啊', '語者一：我是覺得你們條件都不差啦', '語者一：感情淡了', '語者一：難免', '語者一：可能他也不知道怎麼經營下去吧']\n",
      "True: negative (1)\n",
      "Pred: negative (1) \n",
      "Next Sentence: 他會累那我就不累嗎\n",
      "======================================================================\n",
      "['語者一：我是覺得你們條件都不差啦', '語者一：感情淡了', '語者一：難免', '語者一：可能他也不知道怎麼經營下去吧', '語者二：他會累那我就不累嗎', '語者二：搞得好像都是我的錯一樣', '語者二：分手是他提的欸', '語者二：他才是真正錯的那個人吧']\n",
      "True: neutral (0)\n",
      "Pred: negative (1) X\n",
      "Next Sentence: 還是我去和他聊聊\n",
      "======================================================================\n",
      "['語者一：可能他也不知道怎麼經營下去吧', '語者二：他會累那我就不累嗎', '語者二：搞得好像都是我的錯一樣', '語者二：分手是他提的欸', '語者二：他才是真正錯的那個人吧', '語者一：還是我去和他聊聊', '語者一：問問看他的想法', '語者一：可能對你們彼此都會好一點']\n",
      "True: negative (1)\n",
      "Pred: negative (1) \n",
      "Next Sentence: 蛤這樣很奇怪吧\n",
      "======================================================================\n",
      "['語者一：很危險欸', '語者一：你們真的有在清掃嗎', '語者二：請問您再進房間的時候就看到這樣的情況了嗎', '語者一：當然啊', '語者一：我踏都不敢踏進去', '語者二：真是非常抱歉', '語者二：請問碎玻璃的範圍大概多大呢', '語者二：我再了解一下情況']\n",
      "True: negative (1)\n",
      "Pred: neutral (0) X\n",
      "Next Sentence: 啊我就一打開門就看到了啊\n",
      "======================================================================\n",
      "['語者一：請問您再進房間的時候就看到這樣的情況了嗎', '語者二：當然啊', '語者二：我踏都不敢踏進去', '語者一：真是非常抱歉', '語者一：請問碎玻璃的範圍大概多大呢', '語者一：我再了解一下情況', '語者二：啊我就一打開門就看到了啊', '語者二：我就不敢踏進去了']\n",
      "True: neutral (0)\n",
      "Pred: negative (1) X\n",
      "Next Sentence: 原來是這樣\n",
      "======================================================================\n",
      "['語者一：我踏都不敢踏進去', '語者二：真是非常抱歉', '語者二：請問碎玻璃的範圍大概多大呢', '語者二：我再了解一下情況', '語者一：啊我就一打開門就看到了啊', '語者一：我就不敢踏進去了', '語者二：原來是這樣', '語者二：我們馬上幫您更換房間']\n",
      "True: negative (1)\n",
      "Pred: negative (1) \n",
      "Next Sentence: 這樣不夠吧\n",
      "======================================================================\n",
      "['語者一：我再了解一下情況', '語者二：啊我就一打開門就看到了啊', '語者二：我就不敢踏進去了', '語者一：原來是這樣', '語者一：我們馬上幫您更換房間', '語者二：這樣不夠吧', '語者二：應該要直接退我房間的錢吧', '語者二：我可是再也不敢踏進您們的房間欸']\n",
      "True: negative (1)\n",
      "Pred: negative (1) \n",
      "Next Sentence: 真是非常抱歉\n",
      "======================================================================\n",
      "['語者一：這樣不夠吧', '語者一：應該要直接退我房間的錢吧', '語者一：我可是再也不敢踏進您們的房間欸', '語者二：真是非常抱歉', '語者二：請問您還有入住的需求嗎', '語者二：如果可以接受其他房間的話', '語者二：飯店願意給您以較低的價格支付一晚的錢', '語者二：以表示我們的歉意']\n",
      "True: negative (1)\n",
      "Pred: neutral (0) X\n",
      "Next Sentence: 好吧\n",
      "======================================================================\n",
      "['語者一：請問您還有入住的需求嗎', '語者一：如果可以接受其他房間的話', '語者一：飯店願意給您以較低的價格支付一晚的錢', '語者一：以表示我們的歉意', '語者二：好吧', '語者二：我看我這時候也找不到其他房間了', '語者二：就勉強住一下吧', '語者二：但你們下次真的要注意一點']\n",
      "True: neutral (0)\n",
      "Pred: negative (1) X\n",
      "Next Sentence: 好的\n",
      "======================================================================\n",
      "['語者一：飯店願意給您以較低的價格支付一晚的錢', '語者一：以表示我們的歉意', '語者二：好吧', '語者二：我看我這時候也找不到其他房間了', '語者二：就勉強住一下吧', '語者二：但你們下次真的要注意一點', '語者一：好的', '語者一：那我們這邊給您六折的優惠']\n",
      "True: neutral (0)\n",
      "Pred: neutral (0) \n",
      "Next Sentence: 這還差不多\n",
      "======================================================================\n",
      "['語者一：我會盡力解決', '語者一：請問您遇到了什麼問題呢', '語者二：晚上我根本沒有熱水可以洗澡', '語者二：這完全不能容忍', '語者一：非常抱歉您遇到了熱水問題', '語者一：我們會調查一下是怎麼回事', '語者一：但是我必須提醒您', '語者一：我們的責任歸屬不在我們的控制範圍內']\n",
      "True: negative (1)\n",
      "Pred: negative (1) \n",
      "Next Sentence: 請問為什麼責任歸屬不在你們\n",
      "======================================================================\n",
      "['語者一：晚上我根本沒有熱水可以洗澡', '語者一：這完全不能容忍', '語者二：非常抱歉您遇到了熱水問題', '語者二：我們會調查一下是怎麼回事', '語者二：但是我必須提醒您', '語者二：我們的責任歸屬不在我們的控制範圍內', '語者一：請問為什麼責任歸屬不在你們', '語者一：我一定要得到適當的補償']\n",
      "True: neutral (0)\n",
      "Pred: negative (1) X\n",
      "Next Sentence: 我理解您的不滿\n",
      "======================================================================\n",
      "['語者一：但是我必須提醒您', '語者一：我們的責任歸屬不在我們的控制範圍內', '語者二：請問為什麼責任歸屬不在你們', '語者二：我一定要得到適當的補償', '語者一：我理解您的不滿', '語者一：但這可能是一個例外事件', '語者一：我們會盡力解決', '語者一：但是無法保證會有賠償的程度']\n",
      "True: negative (1)\n",
      "Pred: negative (1) \n",
      "Next Sentence: 這是你們的失職\n",
      "======================================================================\n",
      "['語者一：我們的責任歸屬不在我們的控制範圍內', '語者二：請問為什麼責任歸屬不在你們', '語者二：我一定要得到適當的補償', '語者一：我理解您的不滿', '語者一：但這可能是一個例外事件', '語者一：我們會盡力解決', '語者一：但是無法保證會有賠償的程度', '語者二：這是你們的失職']\n",
      "True: neutral (0)\n",
      "Pred: negative (1) X\n",
      "Next Sentence: 如果我們確定是我們的失職\n",
      "======================================================================\n",
      "['語者一：我理解您的不滿', '語者一：但這可能是一個例外事件', '語者一：我們會盡力解決', '語者一：但是無法保證會有賠償的程度', '語者二：這是你們的失職', '語者一：如果我們確定是我們的失職', '語者一：我們會願意賠償', '語者一：但請您理解我們也需要考慮整體情況']\n",
      "True: negative (1)\n",
      "Pred: negative (1) \n",
      "Next Sentence: 我只在乎我得到公正的對待\n",
      "======================================================================\n",
      "['語者一：但這可能是一個例外事件', '語者一：我們會盡力解決', '語者一：但是無法保證會有賠償的程度', '語者二：這是你們的失職', '語者一：如果我們確定是我們的失職', '語者一：我們會願意賠償', '語者一：但請您理解我們也需要考慮整體情況', '語者二：我只在乎我得到公正的對待']\n",
      "True: neutral (0)\n",
      "Pred: negative (1) X\n",
      "Next Sentence: 我理解您的立場\n",
      "======================================================================\n",
      "['語者一：這是你們的失職', '語者二：如果我們確定是我們的失職', '語者二：我們會願意賠償', '語者二：但請您理解我們也需要考慮整體情況', '語者一：我只在乎我得到公正的對待', '語者二：我理解您的立場', '語者二：我們會認真處理這個問題', '語者二：但也請您理解我們也需要依照我們的程序和政策辦理事情']\n",
      "True: negative (1)\n",
      "Pred: negative (1) \n",
      "Next Sentence: 我不關心你們的程序和政策\n",
      "======================================================================\n",
      "['語者一：如果我們確定是我們的失職', '語者一：我們會願意賠償', '語者一：但請您理解我們也需要考慮整體情況', '語者二：我只在乎我得到公正的對待', '語者一：我理解您的立場', '語者一：我們會認真處理這個問題', '語者一：但也請您理解我們也需要依照我們的程序和政策辦理事情', '語者二：我不關心你們的程序和政策']\n",
      "True: neutral (0)\n",
      "Pred: negative (1) X\n",
      "Next Sentence: 再次保證我們會盡力解決這個問題\n",
      "======================================================================\n",
      "['語者一：我只在乎我得到公正的對待', '語者二：我理解您的立場', '語者二：我們會認真處理這個問題', '語者二：但也請您理解我們也需要依照我們的程序和政策辦理事情', '語者一：我不關心你們的程序和政策', '語者二：再次保證我們會盡力解決這個問題', '語者二：我們會與相關部門討論', '語者二：看看有什麼能夠做的']\n",
      "True: neutral (0)\n",
      "Pred: negative (1) X\n",
      "Next Sentence: 好吧\n",
      "======================================================================\n",
      "['語者一：但也請您理解我們也需要依照我們的程序和政策辦理事情', '語者二：我不關心你們的程序和政策', '語者一：再次保證我們會盡力解決這個問題', '語者一：我們會與相關部門討論', '語者一：看看有什麼能夠做的', '語者二：好吧', '語者二：你們一定要處理好這個問題', '語者二：否則我會向上級投訴']\n",
      "True: neutral (0)\n",
      "Pred: negative (1) X\n",
      "Next Sentence: 我保證會認真處理\n",
      "======================================================================\n",
      "['語者一：看看有什麼能夠做的', '語者二：好吧', '語者二：你們一定要處理好這個問題', '語者二：否則我會向上級投訴', '語者一：我保證會認真處理', '語者一：並盡力達到您的期望', '語者一：如果您有任何其他的問題或需求', '語者一：請隨時告訴我']\n",
      "True: neutral (0)\n",
      "Pred: negative (1) X\n",
      "Next Sentence: 希望你能夠做到\n",
      "======================================================================\n",
      "['語者一：全館商品滿五萬可以抽獎哦', '語者一：最大獎直接免單！', '語者一：歡迎參觀選購', '語者二：五萬也太難了吧', '語者二：買什麼東西可以買到那麼貴', '語者一：我們現在週年慶可是有大促銷', '語者一：這邊有一個競賽用電競椅原本100萬現在只要10萬', '語者一：大好機會 趁現在趕緊拿下']\n",
      "True: positive (2)\n",
      "Pred: positive (2) \n",
      "Next Sentence: 天啊也折扣太多了吧有點心動\n",
      "======================================================================\n",
      "['語者一：五萬也太難了吧', '語者一：買什麼東西可以買到那麼貴', '語者二：我們現在週年慶可是有大促銷', '語者二：這邊有一個競賽用電競椅原本100萬現在只要10萬', '語者二：大好機會 趁現在趕緊拿下', '語者一：天啊也折扣太多了吧有點心動', '語者一：但還是很貴唉', '語者一：有沒有別的商品在促銷的']\n",
      "True: neutral (0)\n",
      "Pred: positive (2) X\n",
      "Next Sentence: 那我們還有原價87萬現在只要8萬7的\n",
      "======================================================================\n",
      "['語者一：天啊也折扣太多了吧有點心動', '語者一：但還是很貴唉', '語者一：有沒有別的商品在促銷的', '語者二：那我們還有原價87萬現在只要8萬7的', '語者二：超高規格競賽型手機散熱器', '語者二：這個也非常推薦', '語者二：目前已經賣出87件了', '語者二：限量100件心動要趕緊把握哦']\n",
      "True: positive (2)\n",
      "Pred: negative (1) X\n",
      "Next Sentence: 這個好像是還不錯\n",
      "======================================================================\n",
      "['語者一：這個也非常推薦', '語者一：目前已經賣出87件了', '語者一：限量100件心動要趕緊把握哦', '語者二：這個好像是還不錯', '語者二：但我的手機只用來傳line滑FB', '語者二：平常都玩電腦遊戲的', '語者二：再便宜一點不行嗎', '語者二：8千7賣不賣，不賣拉倒']\n",
      "True: neutral (0)\n",
      "Pred: negative (1) X\n",
      "Next Sentence: 我們手機散熱器可以幫助您延長非常久的手機壽命\n",
      "======================================================================\n",
      "['語者一：這個好像是還不錯', '語者一：但我的手機只用來傳line滑FB', '語者一：平常都玩電腦遊戲的', '語者一：再便宜一點不行嗎', '語者一：8千7賣不賣，不賣拉倒', '語者二：我們手機散熱器可以幫助您延長非常久的手機壽命', '語者二：8萬7真的很便宜了', '語者二：而且還可以抽獎']\n",
      "True: negative (1)\n",
      "Pred: negative (1) \n",
      "Next Sentence: 算了\n",
      "======================================================================\n",
      "['語者一：但我的手機只用來傳line滑FB', '語者一：平常都玩電腦遊戲的', '語者一：再便宜一點不行嗎', '語者一：8千7賣不賣，不賣拉倒', '語者二：我們手機散熱器可以幫助您延長非常久的手機壽命', '語者二：8萬7真的很便宜了', '語者二：而且還可以抽獎', '語者一：算了']\n",
      "True: neutral (0)\n",
      "Pred: negative (1) X\n",
      "Next Sentence: 不然我們這邊還可以多贈送一些贈品\n",
      "======================================================================\n",
      "['語者一：再便宜一點不行嗎', '語者一：8千7賣不賣，不賣拉倒', '語者二：我們手機散熱器可以幫助您延長非常久的手機壽命', '語者二：8萬7真的很便宜了', '語者二：而且還可以抽獎', '語者一：算了', '語者二：不然我們這邊還可以多贈送一些贈品', '語者二：您真的可以再考慮一下']\n",
      "True: negative (1)\n",
      "Pred: negative (1) \n",
      "Next Sentence: 不用了沒關係\n",
      "======================================================================\n",
      "['語者一：這個髮夾好看誒', '語者一：怎麼賣', '語者二：唉呀這位客人眼光真好', '語者二：今天出來擺攤所以特價喔', '語者二：一個350三個1000！', '語者一：握草', '語者一：太貴了吧', '語者二：這你就不懂了']\n",
      "True: neutral (0)\n",
      "Pred: negative (1) X\n",
      "Next Sentence: 哦\n",
      "======================================================================\n",
      "['語者一：怎麼賣', '語者二：唉呀這位客人眼光真好', '語者二：今天出來擺攤所以特價喔', '語者二：一個350三個1000！', '語者一：握草', '語者一：太貴了吧', '語者二：這你就不懂了', '語者一：哦']\n",
      "True: neutral (0)\n",
      "Pred: negative (1) X\n",
      "Next Sentence: 我們的髮夾都是純手工的\n",
      "======================================================================\n",
      "['語者一：太貴了吧', '語者二：這你就不懂了', '語者一：哦', '語者二：我們的髮夾都是純手工的', '語者二：夾子上的每個角都是一點一點捏出來的', '語者二：上面的花紋也是水彩繪製的', '語者二：做一個需要好幾個小時', '語者二：這已經是佛心價格了']\n",
      "True: neutral (0)\n",
      "Pred: negative (1) X\n",
      "Next Sentence: 歐真的嗎\n",
      "======================================================================\n",
      "['語者一：哦', '語者二：我們的髮夾都是純手工的', '語者二：夾子上的每個角都是一點一點捏出來的', '語者二：上面的花紋也是水彩繪製的', '語者二：做一個需要好幾個小時', '語者二：這已經是佛心價格了', '語者一：歐真的嗎', '語者一：那現在做一個']\n",
      "True: negative (1)\n",
      "Pred: negative (1) \n",
      "Next Sentence: 就說要好幾個小時\n",
      "======================================================================\n",
      "['語者一：夾子上的每個角都是一點一點捏出來的', '語者一：上面的花紋也是水彩繪製的', '語者一：做一個需要好幾個小時', '語者一：這已經是佛心價格了', '語者二：歐真的嗎', '語者二：那現在做一個', '語者一：就說要好幾個小時', '語者一：現在做一個到天黑都做不完']\n",
      "True: neutral (0)\n",
      "Pred: negative (1) X\n",
      "Next Sentence: 反正現在也沒人\n",
      "======================================================================\n",
      "['語者一：上面的花紋也是水彩繪製的', '語者一：做一個需要好幾個小時', '語者一：這已經是佛心價格了', '語者二：歐真的嗎', '語者二：那現在做一個', '語者一：就說要好幾個小時', '語者一：現在做一個到天黑都做不完', '語者二：反正現在也沒人']\n",
      "True: neutral (0)\n",
      "Pred: negative (1) X\n",
      "Next Sentence: 等下就會有了\n",
      "======================================================================\n",
      "['語者一：這已經是佛心價格了', '語者二：歐真的嗎', '語者二：那現在做一個', '語者一：就說要好幾個小時', '語者一：現在做一個到天黑都做不完', '語者二：反正現在也沒人', '語者一：等下就會有了', '語者一：一定會有懂得欣賞我的手藝的人']\n",
      "True: neutral (0)\n",
      "Pred: negative (1) X\n",
      "Next Sentence: 一百\n",
      "======================================================================\n",
      "['語者一：那現在做一個', '語者二：就說要好幾個小時', '語者二：現在做一個到天黑都做不完', '語者一：反正現在也沒人', '語者二：等下就會有了', '語者二：一定會有懂得欣賞我的手藝的人', '語者一：一百', '語者一：賣不賣']\n",
      "True: neutral (0)\n",
      "Pred: positive (2) X\n",
      "Next Sentence: 純手工的，真的最低價了\n",
      "======================================================================\n"
     ]
    },
    {
     "name": "stdout",
     "output_type": "stream",
     "text": [
      "['語者一：現在做一個到天黑都做不完', '語者二：反正現在也沒人', '語者一：等下就會有了', '語者一：一定會有懂得欣賞我的手藝的人', '語者二：一百', '語者二：賣不賣', '語者一：純手工的，真的最低價了', '語者一：不然五個1500。底線了']\n",
      "True: negative (1)\n",
      "Pred: positive (2) X\n",
      "Next Sentence: 要不是聽你得故事覺得挺會編\n",
      "======================================================================\n",
      "['語者一：一定會有懂得欣賞我的手藝的人', '語者二：一百', '語者二：賣不賣', '語者一：純手工的，真的最低價了', '語者一：不然五個1500。底線了', '語者二：要不是聽你得故事覺得挺會編', '語者二：一個50我才要買', '語者二：最後一次 一百']\n",
      "True: negative (1)\n",
      "Pred: negative (1) \n",
      "Next Sentence: 不行\n",
      "======================================================================\n",
      "['語者一：一百', '語者一：賣不賣', '語者二：純手工的，真的最低價了', '語者二：不然五個1500。底線了', '語者一：要不是聽你得故事覺得挺會編', '語者一：一個50我才要買', '語者一：最後一次 一百', '語者二：不行']\n",
      "True: negative (1)\n",
      "Pred: positive (2) X\n",
      "Next Sentence: 那就算了\n",
      "======================================================================\n",
      "['語者一：我昨天剛買的香氛片怎麼今天就降價了', '語者一：可以退差價嗎', '語者二：不好意思，沒辦法', '語者二：降價是不定期的促銷行為', '語者二：並無法因此退差價給您', '語者二：請您多多包涵', '語者一：我懂你意思', '語者一：可是我可以退貨再買對吧']\n",
      "True: neutral (0)\n",
      "Pred: neutral (0) \n",
      "Next Sentence: 規則上是沒問題的\n",
      "======================================================================\n",
      "['語者一：降價是不定期的促銷行為', '語者一：並無法因此退差價給您', '語者一：請您多多包涵', '語者二：我懂你意思', '語者二：可是我可以退貨再買對吧', '語者一：規則上是沒問題的', '語者一：不嫌麻煩的話沒問題', '語者一：但無法要求退差價']\n",
      "True: neutral (0)\n",
      "Pred: negative (1) X\n",
      "Next Sentence: 可是這樣省事很多\n",
      "======================================================================\n",
      "['語者一：請您多多包涵', '語者二：我懂你意思', '語者二：可是我可以退貨再買對吧', '語者一：規則上是沒問題的', '語者一：不嫌麻煩的話沒問題', '語者一：但無法要求退差價', '語者二：可是這樣省事很多', '語者二：我不用重新退貨再買你們也不需要收貨發貨']\n",
      "True: neutral (0)\n",
      "Pred: negative (1) X\n",
      "Next Sentence: 規定就是這樣子\n",
      "======================================================================\n",
      "['語者一：可是我可以退貨再買對吧', '語者二：規則上是沒問題的', '語者二：不嫌麻煩的話沒問題', '語者二：但無法要求退差價', '語者一：可是這樣省事很多', '語者一：我不用重新退貨再買你們也不需要收貨發貨', '語者二：規定就是這樣子', '語者二：退差價和退貨重新下單是完全不一樣的流程']\n",
      "True: negative (1)\n",
      "Pred: negative (1) \n",
      "Next Sentence: 請問真的沒有通融空間嗎\n",
      "======================================================================\n",
      "['語者一：規則上是沒問題的', '語者一：不嫌麻煩的話沒問題', '語者一：但無法要求退差價', '語者二：可是這樣省事很多', '語者二：我不用重新退貨再買你們也不需要收貨發貨', '語者一：規定就是這樣子', '語者一：退差價和退貨重新下單是完全不一樣的流程', '語者二：請問真的沒有通融空間嗎']\n",
      "True: neutral (0)\n",
      "Pred: neutral (0) \n",
      "Next Sentence: 規定上就是無法這樣子\n",
      "======================================================================\n",
      "['語者一：可是這樣省事很多', '語者一：我不用重新退貨再買你們也不需要收貨發貨', '語者二：規定就是這樣子', '語者二：退差價和退貨重新下單是完全不一樣的流程', '語者一：請問真的沒有通融空間嗎', '語者二：規定上就是無法這樣子', '語者二：請您如果真的覺得有必要的話', '語者二：就退貨並且重新下單']\n",
      "True: neutral (0)\n",
      "Pred: negative (1) X\n",
      "Next Sentence: 好吧\n",
      "======================================================================\n",
      "['語者一：規定就是這樣子', '語者一：退差價和退貨重新下單是完全不一樣的流程', '語者二：請問真的沒有通融空間嗎', '語者一：規定上就是無法這樣子', '語者一：請您如果真的覺得有必要的話', '語者一：就退貨並且重新下單', '語者二：好吧', '語者二：謝謝您的回復']\n",
      "True: positive (2)\n",
      "Pred: negative (1) X\n",
      "Next Sentence: 不客氣\n",
      "======================================================================\n",
      "['語者一：請問真的沒有通融空間嗎', '語者二：規定上就是無法這樣子', '語者二：請您如果真的覺得有必要的話', '語者二：就退貨並且重新下單', '語者一：好吧', '語者一：謝謝您的回復', '語者二：不客氣', '語者二：祝您有美好的購物體驗']\n",
      "True: positive (2)\n",
      "Pred: negative (1) X\n",
      "Next Sentence: 好的\n",
      "======================================================================\n",
      "['語者一：但我們已經有吃幾口了', '語者一：這份餐點已經被頭髮汙染了', '語者一：應該要給我們一些賠償吧', '語者二：嗯....但賠償的話我們可能需要先確定頭髮的來源', '語者一：我剛剛看你們的開放式廚房', '語者一：裡面的廚師都沒有戴帽子或髮網', '語者一：而且我們都是光頭耶', '語者一：頭髮不可能我們的!']\n",
      "True: neutral (0)\n",
      "Pred: negative (1) X\n",
      "Next Sentence: 是的客人，我們很理解您的意思\n",
      "======================================================================\n",
      "['語者一：嗯....但賠償的話我們可能需要先確定頭髮的來源', '語者二：我剛剛看你們的開放式廚房', '語者二：裡面的廚師都沒有戴帽子或髮網', '語者二：而且我們都是光頭耶', '語者二：頭髮不可能我們的!', '語者一：是的客人，我們很理解您的意思', '語者一：但是我們沒有收到其他客人的投訴', '語者一：因此頭髮的來源我們須要稍加排查']\n",
      "True: negative (1)\n",
      "Pred: neutral (0) X\n",
      "Next Sentence: 沒關係我們可以等\n",
      "======================================================================\n",
      "['語者一：頭髮不可能我們的!', '語者二：是的客人，我們很理解您的意思', '語者二：但是我們沒有收到其他客人的投訴', '語者二：因此頭髮的來源我們須要稍加排查', '語者一：沒關係我們可以等', '語者一：看你們要調監視器甚麼的也可以', '語者一：我之前看有別的客人有拿到補償的餐券', '語者一：我想應該要做到這樣才有誠意吧!']\n",
      "True: negative (1)\n",
      "Pred: negative (1) \n",
      "Next Sentence: 好的客人\n",
      "======================================================================\n",
      "['語者一：我之前看有別的客人有拿到補償的餐券', '語者一：我想應該要做到這樣才有誠意吧!', '語者二：好的客人', '語者二：很抱歉造成您的困擾', '語者二：那既然您提出希望的補償', '語者二：我這邊也有權力給您', '語者二：那我們就給您餐券作為補償並重信給您上一份餐點', '語者二：這樣您覺得可以嗎']\n",
      "True: neutral (0)\n",
      "Pred: neutral (0) \n",
      "Next Sentence: 餐券我們就收下了\n",
      "======================================================================\n",
      "['語者一：好的客人', '語者一：很抱歉造成您的困擾', '語者一：那既然您提出希望的補償', '語者一：我這邊也有權力給您', '語者一：那我們就給您餐券作為補償並重信給您上一份餐點', '語者一：這樣您覺得可以嗎', '語者二：餐券我們就收下了', '語者二：但還是建議你們餐廳的衛生要做好']\n",
      "True: positive (2)\n",
      "Pred: neutral (0) X\n",
      "Next Sentence: 好的真的非常感謝您的建議\n",
      "======================================================================\n",
      "['語者一：想請問我是不是也可以有折價呢?', '語者二：不好意思不行哦', '語者一：我覺得這樣不太合理', '語者一：我只是提前幾天下單', '語者一：商品也還沒送達', '語者一：而且我是選貨到付款', '語者一：所以我也還沒付錢', '語者一：那我應該可以用現在的價格買到商品吧']\n",
      "True: negative (1)\n",
      "Pred: negative (1) \n",
      "Next Sentence: 能理解您的意思，但規定上就是沒辦法\n",
      "======================================================================\n",
      "['語者一：不好意思不行哦', '語者二：我覺得這樣不太合理', '語者二：我只是提前幾天下單', '語者二：商品也還沒送達', '語者二：而且我是選貨到付款', '語者二：所以我也還沒付錢', '語者二：那我應該可以用現在的價格買到商品吧', '語者一：能理解您的意思，但規定上就是沒辦法']\n",
      "True: negative (1)\n",
      "Pred: negative (1) \n",
      "Next Sentence: 規定是死的，人是活的\n",
      "======================================================================\n",
      "['語者一：商品也還沒送達', '語者一：而且我是選貨到付款', '語者一：所以我也還沒付錢', '語者一：那我應該可以用現在的價格買到商品吧', '語者二：能理解您的意思，但規定上就是沒辦法', '語者一：規定是死的，人是活的', '語者一：我建議您可以懂得變通，顧客黏著度會更高', '語者一：如果您可以給我折價，我可以幫你推薦一些人來買']\n",
      "True: negative (1)\n",
      "Pred: negative (1) \n",
      "Next Sentence: 不好意思但我沒有這個權力\n",
      "======================================================================\n",
      "['語者一：那我應該可以用現在的價格買到商品吧', '語者二：能理解您的意思，但規定上就是沒辦法', '語者一：規定是死的，人是活的', '語者一：我建議您可以懂得變通，顧客黏著度會更高', '語者一：如果您可以給我折價，我可以幫你推薦一些人來買', '語者二：不好意思但我沒有這個權力', '語者二：降價活動是隨機的', '語者二：沒有辦法往回折抵']\n",
      "True: neutral (0)\n",
      "Pred: negative (1) X\n",
      "Next Sentence: 您那邊還沒有寄出商品\n",
      "======================================================================\n",
      "['語者一：如果您可以給我折價，我可以幫你推薦一些人來買', '語者二：不好意思但我沒有這個權力', '語者二：降價活動是隨機的', '語者二：沒有辦法往回折抵', '語者一：您那邊還沒有寄出商品', '語者一：其實我可以退掉這筆訂單再用現在的價格購買一次', '語者一：但若是您可以直接給我折價', '語者一：省的我麻煩，這樣對客人的印象會比較好吧!']\n",
      "True: neutral (0)\n",
      "Pred: negative (1) X\n",
      "Next Sentence: 是的您可以選擇退貨\n",
      "======================================================================\n",
      "['語者一：您那邊還沒有寄出商品', '語者一：其實我可以退掉這筆訂單再用現在的價格購買一次', '語者一：但若是您可以直接給我折價', '語者一：省的我麻煩，這樣對客人的印象會比較好吧!', '語者二：是的您可以選擇退貨', '語者二：那請您前往退貨的頁面', '語者二：我們這邊真的沒辦法折補差價', '語者二：這是流程上規定的']\n",
      "True: neutral (0)\n",
      "Pred: negative (1) X\n",
      "Next Sentence: 我其實也只是要求用現在的價格購買而已\n",
      "======================================================================\n",
      "['語者一：是的您可以選擇退貨', '語者一：那請您前往退貨的頁面', '語者一：我們這邊真的沒辦法折補差價', '語者一：這是流程上規定的', '語者二：我其實也只是要求用現在的價格購買而已', '語者二：沒有要更便宜的折價', '語者二：還是你可以另外付給我和差額同樣價值的折價券', '語者二：一樣可以再您的賣場裡使用呢?']\n",
      "True: neutral (0)\n",
      "Pred: negative (1) X\n",
      "Next Sentence: 很能理解您的意思\n",
      "======================================================================\n",
      "['語者一：可以補寄藍色的給我嗎?', '語者二：非常抱歉造成您的困擾', '語者二：請問有開箱影片嗎', '語者一：這不用吧', '語者一：我拍照給你看我就是拿到黑色的', '語者一：但我訂的是藍色的', '語者一：你送錯的黑色我就收下了', '語者一：但你要再給我藍色的']\n",
      "True: negative (1)\n",
      "Pred: neutral (0) X\n",
      "Next Sentence: 不好意思只要沒有開箱影片我們一律不受理任何要求\n",
      "======================================================================\n",
      "['語者一：非常抱歉造成您的困擾', '語者一：請問有開箱影片嗎', '語者二：這不用吧', '語者二：我拍照給你看我就是拿到黑色的', '語者二：但我訂的是藍色的', '語者二：你送錯的黑色我就收下了', '語者二：但你要再給我藍色的', '語者一：不好意思只要沒有開箱影片我們一律不受理任何要求']\n",
      "True: negative (1)\n",
      "Pred: negative (1) \n",
      "Next Sentence: 我把這件事po到網路上你們就名譽掃地了\n",
      "======================================================================\n",
      "['語者一：我拍照給你看我就是拿到黑色的', '語者一：但我訂的是藍色的', '語者一：你送錯的黑色我就收下了', '語者一：但你要再給我藍色的', '語者二：不好意思只要沒有開箱影片我們一律不受理任何要求', '語者一：我把這件事po到網路上你們就名譽掃地了', '語者一：我勸你趕快寄藍色的給我', '語者一：我很急著要用']\n",
      "True: negative (1)\n",
      "Pred: negative (1) \n",
      "Next Sentence: 不好意思但是規定就是規定\n",
      "======================================================================\n",
      "['語者一：你送錯的黑色我就收下了', '語者一：但你要再給我藍色的', '語者二：不好意思只要沒有開箱影片我們一律不受理任何要求', '語者一：我把這件事po到網路上你們就名譽掃地了', '語者一：我勸你趕快寄藍色的給我', '語者一：我很急著要用', '語者二：不好意思但是規定就是規定', '語者二：我沒有權力更改']\n",
      "True: negative (1)\n",
      "Pred: negative (1) \n",
      "Next Sentence: 你不就是賣場主人嗎\n",
      "======================================================================\n",
      "['語者一：不好意思只要沒有開箱影片我們一律不受理任何要求', '語者二：我把這件事po到網路上你們就名譽掃地了', '語者二：我勸你趕快寄藍色的給我', '語者二：我很急著要用', '語者一：不好意思但是規定就是規定', '語者一：我沒有權力更改', '語者二：你不就是賣場主人嗎', '語者二：怎麼會沒有權力']\n",
      "True: neutral (0)\n",
      "Pred: negative (1) X\n",
      "Next Sentence: 我只是個小編\n",
      "======================================================================\n",
      "['語者一：我把這件事po到網路上你們就名譽掃地了', '語者一：我勸你趕快寄藍色的給我', '語者一：我很急著要用', '語者二：不好意思但是規定就是規定', '語者二：我沒有權力更改', '語者一：你不就是賣場主人嗎', '語者一：怎麼會沒有權力', '語者二：我只是個小編']\n",
      "True: negative (1)\n",
      "Pred: negative (1) \n",
      "Next Sentence: 去叫你們老闆來\n",
      "======================================================================\n",
      "['語者一：我很急著要用', '語者二：不好意思但是規定就是規定', '語者二：我沒有權力更改', '語者一：你不就是賣場主人嗎', '語者一：怎麼會沒有權力', '語者二：我只是個小編', '語者一：去叫你們老闆來', '語者一：我就是要拿到我本來訂的東西']\n",
      "True: neutral (0)\n",
      "Pred: negative (1) X\n",
      "Next Sentence: 好，那我幫你聯絡老闆\n",
      "======================================================================\n",
      "['語者一：可是我覺得我們的約定看起來很無聊', '語者二：怎麼會', '語者二：這可是我們最新跟偶像男團合作的養成系桌遊', '語者一：可是他的包裝看起來就很醜阿', '語者二：那可能是每個人的審美差異', '語者二：包裝是因為跟合作方談過的', '語者二：而且內容是相當有趣精彩的', '語者二：保證不會讓你失望']\n",
      "True: neutral (0)\n",
      "Pred: positive (2) X\n",
      "Next Sentence: 那我可以先看看內容物嗎\n",
      "======================================================================\n",
      "['語者一：怎麼會', '語者一：這可是我們最新跟偶像男團合作的養成系桌遊', '語者二：可是他的包裝看起來就很醜阿', '語者一：那可能是每個人的審美差異', '語者一：包裝是因為跟合作方談過的', '語者一：而且內容是相當有趣精彩的', '語者一：保證不會讓你失望', '語者二：那我可以先看看內容物嗎']\n",
      "True: positive (2)\n",
      "Pred: neutral (0) X\n",
      "Next Sentence: 當然沒問題\n",
      "======================================================================\n",
      "['語者一：包裝是因為跟合作方談過的', '語者一：而且內容是相當有趣精彩的', '語者一：保證不會讓你失望', '語者二：那我可以先看看內容物嗎', '語者一：當然沒問題', '語者一：裡面有各種角色卡', '語者一：你可以擔任他的經紀人', '語者一：就當作你在經營一個男團']\n",
      "True: negative (1)\n",
      "Pred: negative (1) \n",
      "Next Sentence: 蛤我不感興趣誒\n",
      "======================================================================\n",
      "['語者一：而且內容是相當有趣精彩的', '語者一：保證不會讓你失望', '語者二：那我可以先看看內容物嗎', '語者一：當然沒問題', '語者一：裡面有各種角色卡', '語者一：你可以擔任他的經紀人', '語者一：就當作你在經營一個男團', '語者二：蛤我不感興趣誒']\n",
      "True: neutral (0)\n",
      "Pred: negative (1) X\n",
      "Next Sentence: 如果你對於經營沒有甚麼興趣的話裡面也有對戰機制\n",
      "======================================================================\n",
      "['語者一：保證不會讓你失望', '語者二：那我可以先看看內容物嗎', '語者一：當然沒問題', '語者一：裡面有各種角色卡', '語者一：你可以擔任他的經紀人', '語者一：就當作你在經營一個男團', '語者二：蛤我不感興趣誒', '語者一：如果你對於經營沒有甚麼興趣的話裡面也有對戰機制']\n",
      "True: negative (1)\n",
      "Pred: negative (1) \n",
      "Next Sentence: 我還是覺得算了\n",
      "======================================================================\n",
      "['語者一：當然沒問題', '語者一：裡面有各種角色卡', '語者一：你可以擔任他的經紀人', '語者一：就當作你在經營一個男團', '語者二：蛤我不感興趣誒', '語者一：如果你對於經營沒有甚麼興趣的話裡面也有對戰機制', '語者二：我還是覺得算了', '語者二：感覺很無聊']\n",
      "True: positive (2)\n",
      "Pred: negative (1) X\n",
      "Next Sentence: 還是說我這邊再多給你更多的優惠\n",
      "======================================================================\n",
      "['語者一：你可以擔任他的經紀人', '語者一：就當作你在經營一個男團', '語者二：蛤我不感興趣誒', '語者一：如果你對於經營沒有甚麼興趣的話裡面也有對戰機制', '語者二：我還是覺得算了', '語者二：感覺很無聊', '語者一：還是說我這邊再多給你更多的優惠', '語者一：讓你可以先免費試玩']\n",
      "True: negative (1)\n",
      "Pred: negative (1) \n",
      "Next Sentence: 我還是覺得不用了\n",
      "======================================================================\n",
      "['語者一：蛤我不感興趣誒', '語者二：如果你對於經營沒有甚麼興趣的話裡面也有對戰機制', '語者一：我還是覺得算了', '語者一：感覺很無聊', '語者二：還是說我這邊再多給你更多的優惠', '語者二：讓你可以先免費試玩', '語者一：我還是覺得不用了', '語者一：真的沒興趣']\n",
      "True: neutral (0)\n",
      "Pred: negative (1) X\n",
      "Next Sentence: 那好吧\n",
      "======================================================================\n",
      "['語者一：我還是覺得算了', '語者一：感覺很無聊', '語者二：還是說我這邊再多給你更多的優惠', '語者二：讓你可以先免費試玩', '語者一：我還是覺得不用了', '語者一：真的沒興趣', '語者二：那好吧', '語者二：有興趣的話可以再跟我聯絡']\n",
      "True: neutral (0)\n",
      "Pred: negative (1) X\n",
      "Next Sentence: 好的\n",
      "======================================================================\n",
      "['語者一：可以具體說說嗎', '語者二：就喝起來酸酸地跟你們之前的味道不太一樣', '語者一：那可能是您記錯了', '語者二：好啦我就說明白一點我覺得你們的湯壞掉了', '語者一：我們跟後廚確認一下', '語者一：我們的食材並沒有問題', '語者一：也沒有其他組客人反映同樣的餐點有問題', '語者一：我們認為可能是您比較不適應我們的餐點']\n",
      "True: negative (1)\n",
      "Pred: negative (1) \n",
      "Next Sentence: 但很明顯我喝起來的感覺就是不一樣\n",
      "======================================================================\n",
      "['語者一：好啦我就說明白一點我覺得你們的湯壞掉了', '語者二：我們跟後廚確認一下', '語者二：我們的食材並沒有問題', '語者二：也沒有其他組客人反映同樣的餐點有問題', '語者二：我們認為可能是您比較不適應我們的餐點', '語者一：但很明顯我喝起來的感覺就是不一樣', '語者一：我已經是這邊的老顧客了', '語者一：我需要賠償']\n",
      "True: negative (1)\n",
      "Pred: neutral (0) X\n",
      "Next Sentence: 不好意思，但是我們的餐點是沒有問題的\n",
      "======================================================================\n",
      "['語者一：我們的食材並沒有問題', '語者一：也沒有其他組客人反映同樣的餐點有問題', '語者一：我們認為可能是您比較不適應我們的餐點', '語者二：但很明顯我喝起來的感覺就是不一樣', '語者二：我已經是這邊的老顧客了', '語者二：我需要賠償', '語者一：不好意思，但是我們的餐點是沒有問題的', '語者一：如果不合您的胃口我們建議下次可以點這個湯品']\n",
      "True: negative (1)\n",
      "Pred: negative (1) \n",
      "Next Sentence: 這就不是合不合胃口的問題\n",
      "======================================================================\n",
      "['語者一：我已經是這邊的老顧客了', '語者一：我需要賠償', '語者二：不好意思，但是我們的餐點是沒有問題的', '語者二：如果不合您的胃口我們建議下次可以點這個湯品', '語者一：這就不是合不合胃口的問題', '語者一：我之前喝那麼多次都不是這個味道', '語者一：你再這樣不正面處理我的問題', '語者一：我就要通報記者了']\n",
      "True: negative (1)\n",
      "Pred: neutral (0) X\n",
      "Next Sentence: 真是不好意思，但我的權限能處理的就是告知您這些資訊\n",
      "======================================================================\n",
      "['語者一：這就不是合不合胃口的問題', '語者一：我之前喝那麼多次都不是這個味道', '語者一：你再這樣不正面處理我的問題', '語者一：我就要通報記者了', '語者二：真是不好意思，但我的權限能處理的就是告知您這些資訊', '語者二：如果您還是堅持我們的湯品有問題', '語者二：我可以請店長來跟您溝通', '語者二：您看有需要嗎']\n",
      "True: neutral (0)\n",
      "Pred: neutral (0) \n",
      "Next Sentence: 請你們店長出來的話\n",
      "======================================================================\n",
      "['語者一：你再這樣不正面處理我的問題', '語者一：我就要通報記者了', '語者二：真是不好意思，但我的權限能處理的就是告知您這些資訊', '語者二：如果您還是堅持我們的湯品有問題', '語者二：我可以請店長來跟您溝通', '語者二：您看有需要嗎', '語者一：請你們店長出來的話', '語者一：他會給我補償嗎']\n",
      "True: neutral (0)\n",
      "Pred: neutral (0) \n",
      "Next Sentence: 這個得問店長\n",
      "======================================================================\n",
      "['語者一：真是不好意思，但我的權限能處理的就是告知您這些資訊', '語者一：如果您還是堅持我們的湯品有問題', '語者一：我可以請店長來跟您溝通', '語者一：您看有需要嗎', '語者二：請你們店長出來的話', '語者二：他會給我補償嗎', '語者一：這個得問店長', '語者一：需要我現在請他出來嗎']\n",
      "True: neutral (0)\n",
      "Pred: negative (1) X\n",
      "Next Sentence: 好\n",
      "======================================================================\n",
      "['語者一：歡迎光臨，現在我們全館滿五萬可以抽免單哦', '語者二：不用了謝謝', '語者一：現在周年慶真的很優惠', '語者一：不看看以後一定會後悔', '語者二：好好那我就看一下好了', '語者二：有什麼推薦的嘛', '語者一：我們這裡有一個原價三十萬現在只要七萬三的3D印表機哦', '語者一：非常划算吧']\n",
      "True: negative (1)\n",
      "Pred: negative (1) \n",
      "Next Sentence: 可是我平常不會用到這個東西誒\n",
      "======================================================================\n",
      "['語者一：不用了謝謝', '語者二：現在周年慶真的很優惠', '語者二：不看看以後一定會後悔', '語者一：好好那我就看一下好了', '語者一：有什麼推薦的嘛', '語者二：我們這裡有一個原價三十萬現在只要七萬三的3D印表機哦', '語者二：非常划算吧', '語者一：可是我平常不會用到這個東西誒']\n",
      "True: positive (2)\n",
      "Pred: positive (2) \n",
      "Next Sentence: 那我們還有現在買一送三的面膜套裝哦\n",
      "======================================================================\n",
      "['語者一：現在周年慶真的很優惠', '語者一：不看看以後一定會後悔', '語者二：好好那我就看一下好了', '語者二：有什麼推薦的嘛', '語者一：我們這裡有一個原價三十萬現在只要七萬三的3D印表機哦', '語者一：非常划算吧', '語者二：可是我平常不會用到這個東西誒', '語者一：那我們還有現在買一送三的面膜套裝哦']\n",
      "True: neutral (0)\n",
      "Pred: neutral (0) \n",
      "Next Sentence: 這樣總共的價格是多少\n",
      "======================================================================\n",
      "['語者一：好好那我就看一下好了', '語者一：有什麼推薦的嘛', '語者二：我們這裡有一個原價三十萬現在只要七萬三的3D印表機哦', '語者二：非常划算吧', '語者一：可是我平常不會用到這個東西誒', '語者二：那我們還有現在買一送三的面膜套裝哦', '語者一：這樣總共的價格是多少', '語者一：可以幫我介紹一下面膜的功用嗎']\n",
      "True: neutral (0)\n",
      "Pred: neutral (0) \n",
      "Next Sentence: 這個套裝原價九千九，現在只要三千九\n",
      "======================================================================\n",
      "['語者一：我們這裡有一個原價三十萬現在只要七萬三的3D印表機哦', '語者一：非常划算吧', '語者二：可是我平常不會用到這個東西誒', '語者一：那我們還有現在買一送三的面膜套裝哦', '語者二：這樣總共的價格是多少', '語者二：可以幫我介紹一下面膜的功用嗎', '語者一：這個套裝原價九千九，現在只要三千九', '語者一：他是保濕型面膜哦']\n",
      "True: negative (1)\n",
      "Pred: positive (2) X\n",
      "Next Sentence: 嗯....有點貴耶\n",
      "======================================================================\n",
      "['語者一：可是我平常不會用到這個東西誒', '語者二：那我們還有現在買一送三的面膜套裝哦', '語者一：這樣總共的價格是多少', '語者一：可以幫我介紹一下面膜的功用嗎', '語者二：這個套裝原價九千九，現在只要三千九', '語者二：他是保濕型面膜哦', '語者一：嗯....有點貴耶', '語者一：這麼貴的話有比外面的面膜好嘛']\n",
      "True: positive (2)\n",
      "Pred: neutral (0) X\n",
      "Next Sentence: 當然\n",
      "======================================================================\n",
      "['語者一：這個套裝原價九千九，現在只要三千九', '語者一：他是保濕型面膜哦', '語者二：嗯....有點貴耶', '語者二：這麼貴的話有比外面的面膜好嘛', '語者一：當然', '語者一：我們是獨家科技研發的超強保濕面膜', '語者一：外面可是買不到的', '語者一：看您皮膚這麼好不好好保養太可惜了']\n",
      "True: negative (1)\n",
      "Pred: positive (2) X\n",
      "Next Sentence: 但我覺得好像不需要投資這麼多錢在這個方面\n",
      "======================================================================\n",
      "['語者一：他是保濕型面膜哦', '語者二：嗯....有點貴耶', '語者二：這麼貴的話有比外面的面膜好嘛', '語者一：當然', '語者一：我們是獨家科技研發的超強保濕面膜', '語者一：外面可是買不到的', '語者一：看您皮膚這麼好不好好保養太可惜了', '語者二：但我覺得好像不需要投資這麼多錢在這個方面']\n",
      "True: positive (2)\n",
      "Pred: positive (2) \n",
      "Next Sentence: 怎麼會當然需要啊\n",
      "======================================================================\n",
      "['語者一：這麼貴的話有比外面的面膜好嘛', '語者二：當然', '語者二：我們是獨家科技研發的超強保濕面膜', '語者二：外面可是買不到的', '語者二：看您皮膚這麼好不好好保養太可惜了', '語者一：但我覺得好像不需要投資這麼多錢在這個方面', '語者二：怎麼會當然需要啊', '語者二：您的皮膚的可以非常珍貴的']\n",
      "True: neutral (0)\n",
      "Pred: neutral (0) \n",
      "Next Sentence: 那你傳單給我我再想一下好了\n",
      "======================================================================\n",
      "['語者一：當然', '語者一：我們是獨家科技研發的超強保濕面膜', '語者一：外面可是買不到的', '語者一：看您皮膚這麼好不好好保養太可惜了', '語者二：但我覺得好像不需要投資這麼多錢在這個方面', '語者一：怎麼會當然需要啊', '語者一：您的皮膚的可以非常珍貴的', '語者二：那你傳單給我我再想一下好了']\n",
      "True: positive (2)\n",
      "Pred: positive (2) \n",
      "Next Sentence: 好了！\n",
      "======================================================================\n",
      "['語者一：十分！？', '語者一：平均分是多少啊？', '語者二：三十幾吧', '語者一：喔喔～那沒事啦！', '語者一：老師一定會調分的！', '語者一：而且你還有期末可以努力啊！', '語者一：來者猶可追！', '語者一：加油！']\n",
      "True: negative (1)\n",
      "Pred: positive (2) X\n",
      "Next Sentence: 老師說不調分\n",
      "======================================================================\n",
      "['語者一：平均分是多少啊？', '語者二：三十幾吧', '語者一：喔喔～那沒事啦！', '語者一：老師一定會調分的！', '語者一：而且你還有期末可以努力啊！', '語者一：來者猶可追！', '語者一：加油！', '語者二：老師說不調分']\n",
      "True: positive (2)\n",
      "Pred: positive (2) \n",
      "Next Sentence: 沒事！很多老師都會這樣騙學生\n",
      "======================================================================\n",
      "['語者一：三十幾吧', '語者二：喔喔～那沒事啦！', '語者二：老師一定會調分的！', '語者二：而且你還有期末可以努力啊！', '語者二：來者猶可追！', '語者二：加油！', '語者一：老師說不調分', '語者二：沒事！很多老師都會這樣騙學生']\n",
      "True: negative (1)\n",
      "Pred: negative (1) \n",
      "Next Sentence: 可是我讀了三個通宵\n",
      "======================================================================\n",
      "['語者一：老師一定會調分的！', '語者一：而且你還有期末可以努力啊！', '語者一：來者猶可追！', '語者一：加油！', '語者二：老師說不調分', '語者一：沒事！很多老師都會這樣騙學生', '語者二：可是我讀了三個通宵', '語者二：一整個禮拜只睡了三天']\n",
      "True: positive (2)\n",
      "Pred: negative (1) X\n",
      "Next Sentence: 我勸你不要通宵效率會更好喔！\n",
      "======================================================================\n",
      "['語者一：加油！', '語者二：老師說不調分', '語者一：沒事！很多老師都會這樣騙學生', '語者二：可是我讀了三個通宵', '語者二：一整個禮拜只睡了三天', '語者一：我勸你不要通宵效率會更好喔！', '語者一：通宵腦部很難進行brain wash', '語者一：這樣子記憶力反而更差']\n",
      "True: negative (1)\n",
      "Pred: negative (1) \n",
      "Next Sentence: 可是我真的聽不懂上課講的\n",
      "======================================================================\n",
      "['語者一：沒事！很多老師都會這樣騙學生', '語者二：可是我讀了三個通宵', '語者二：一整個禮拜只睡了三天', '語者一：我勸你不要通宵效率會更好喔！', '語者一：通宵腦部很難進行brain wash', '語者一：這樣子記憶力反而更差', '語者二：可是我真的聽不懂上課講的', '語者二：不通宵我完全搞不懂']\n",
      "True: positive (2)\n",
      "Pred: negative (1) X\n",
      "Next Sentence: 平時一點一滴唸 相信期末考一定會有好結果的！\n",
      "======================================================================\n",
      "['語者一：一整個禮拜只睡了三天', '語者二：我勸你不要通宵效率會更好喔！', '語者二：通宵腦部很難進行brain wash', '語者二：這樣子記憶力反而更差', '語者一：可是我真的聽不懂上課講的', '語者一：不通宵我完全搞不懂', '語者二：平時一點一滴唸 相信期末考一定會有好結果的！', '語者二：不懂的話可以問問看同儕或助教！我都是這樣念的，提供給你']\n",
      "True: neutral (0)\n",
      "Pred: negative (1) X\n",
      "Next Sentence: 好的\n",
      "======================================================================\n",
      "['語者一：通宵腦部很難進行brain wash', '語者一：這樣子記憶力反而更差', '語者二：可是我真的聽不懂上課講的', '語者二：不通宵我完全搞不懂', '語者一：平時一點一滴唸 相信期末考一定會有好結果的！', '語者一：不懂的話可以問問看同儕或助教！我都是這樣念的，提供給你', '語者二：好的', '語者二：我會再多問問同學']\n",
      "True: positive (2)\n",
      "Pred: negative (1) X\n",
      "Next Sentence: 好！難過的話可以跟我說！\n",
      "======================================================================\n",
      "['語者一：可是我真的聽不懂上課講的', '語者一：不通宵我完全搞不懂', '語者二：平時一點一滴唸 相信期末考一定會有好結果的！', '語者二：不懂的話可以問問看同儕或助教！我都是這樣念的，提供給你', '語者一：好的', '語者一：我會再多問問同學', '語者二：好！難過的話可以跟我說！', '語者二：你可以的！要相信自己！']\n",
      "True: positive (2)\n",
      "Pred: positive (2) \n",
      "Next Sentence: 謝謝你！\n",
      "======================================================================\n",
      "['語者一：我跟你說', '語者一：我忘記交報告了', '語者一：感覺會被當', '語者二：可以補交嗎', '語者二：跟老師說明一下情況一般應該會通融一下', '語者二：不用太緊張的', '語者一：不知道欸 但老師之前說補交的話晚一天扣10%', '語者一：我至少也要三天才能做完']\n",
      "True: neutral (0)\n",
      "Pred: neutral (0) \n",
      "Next Sentence: 還是有什麼我可以幫助你的地方嗎\n",
      "======================================================================\n"
     ]
    }
   ],
   "source": [
    "reverse_mapping = {v: k for k, v in LABEL_MAPPING.items()}\n",
    "for i in range(300):\n",
    "    print(test_df.context[i])\n",
    "    t, p = test_df.labels[i]['main_label'], int(test_pred[i])\n",
    "    flag = \"X\" if t != p else \"\"\n",
    "    print(f\"True: {reverse_mapping[t]} ({t})\")\n",
    "    print(f\"Pred: {reverse_mapping[p]} ({p}) {flag}\")\n",
    "    print(f\"Next Sentence: {test_df.demo[i]}\")\n",
    "    print(\"=\"*70)"
   ]
  },
  {
   "cell_type": "code",
   "execution_count": 37,
   "id": "intelligent-indicator",
   "metadata": {
    "ExecuteTime": {
     "end_time": "2023-07-06T10:09:41.249651Z",
     "start_time": "2023-07-06T10:09:41.247401Z"
    }
   },
   "outputs": [],
   "source": [
    "# 42.99%"
   ]
  }
 ],
 "metadata": {
  "kernelspec": {
   "display_name": "kuokuo_env",
   "language": "python",
   "name": "kuokuo_env"
  },
  "language_info": {
   "codemirror_mode": {
    "name": "ipython",
    "version": 3
   },
   "file_extension": ".py",
   "mimetype": "text/x-python",
   "name": "python",
   "nbconvert_exporter": "python",
   "pygments_lexer": "ipython3",
   "version": "3.6.9"
  },
  "toc": {
   "base_numbering": 1,
   "nav_menu": {},
   "number_sections": true,
   "sideBar": true,
   "skip_h1_title": false,
   "title_cell": "Table of Contents",
   "title_sidebar": "Contents",
   "toc_cell": false,
   "toc_position": {
    "height": "calc(100% - 180px)",
    "left": "10px",
    "top": "150px",
    "width": "262px"
   },
   "toc_section_display": true,
   "toc_window_display": true
  },
  "varInspector": {
   "cols": {
    "lenName": 16,
    "lenType": 16,
    "lenVar": 40
   },
   "kernels_config": {
    "python": {
     "delete_cmd_postfix": "",
     "delete_cmd_prefix": "del ",
     "library": "var_list.py",
     "varRefreshCmd": "print(var_dic_list())"
    },
    "r": {
     "delete_cmd_postfix": ") ",
     "delete_cmd_prefix": "rm(",
     "library": "var_list.r",
     "varRefreshCmd": "cat(var_dic_list()) "
    }
   },
   "types_to_exclude": [
    "module",
    "function",
    "builtin_function_or_method",
    "instance",
    "_Feature"
   ],
   "window_display": false
  }
 },
 "nbformat": 4,
 "nbformat_minor": 5
}
